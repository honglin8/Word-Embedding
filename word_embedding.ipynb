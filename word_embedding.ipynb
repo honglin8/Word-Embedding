{
 "cells": [
  {
   "cell_type": "markdown",
   "metadata": {},
   "source": [
    "## Word Embeddings"
   ]
  },
  {
   "cell_type": "markdown",
   "metadata": {},
   "source": [
    "Goal: Implement a simple word embedding in Python (from scratch) and use it to find the most similar words to a given word. Come up with a dataset and evaluation metrics to evaluate the word embeddings."
   ]
  },
  {
   "cell_type": "markdown",
   "metadata": {},
   "source": [
    "### Downloading NLTK's stopwords"
   ]
  },
  {
   "cell_type": "code",
   "execution_count": 25,
   "metadata": {},
   "outputs": [
    {
     "name": "stdout",
     "output_type": "stream",
     "text": [
      "{'this', 'you', 'then', 'whom', 'don', 'y', \"don't\", 'they', 'by', 'over', 'same', 'doesn', 'now', 'being', 'very', 'for', 'most', 'ourselves', 'as', 'to', 'can', 'has', \"mustn't\", 'all', \"you're\", 'couldn', 'those', 'off', 'our', \"hasn't\", \"it's\", 'won', 'yourselves', 'aren', 'in', 'how', 'during', 'each', 'ours', 'wasn', 'does', 'some', 'having', 'ain', 'the', 'against', 'what', 'i', 'ma', 'or', 'it', 'other', \"you'll\", 'herself', 'have', 'nor', 'a', \"you've\", 'didn', 'after', 'were', \"shan't\", 'her', 'more', \"wouldn't\", 'with', 'd', 'wouldn', \"didn't\", 'any', 'was', \"haven't\", 'my', 'had', 'before', 'these', 'its', 'that', 'too', 'at', 'isn', \"that'll\", 'his', 'yours', 'below', \"aren't\", 'where', 'do', \"mightn't\", 'if', 'be', 'only', 'through', 's', 'mustn', 'himself', 'while', 'between', 'myself', 'o', 'once', \"shouldn't\", 'hadn', 'shan', 'further', 'about', 'will', 'doing', 'out', 've', \"hadn't\", 'their', 'above', 'because', 'll', \"isn't\", \"you'd\", \"won't\", 'haven', 'itself', 'under', 'again', \"wasn't\", 'them', 'so', 'are', 'up', 't', 'him', 'am', 'there', 'needn', 'down', \"couldn't\", 'shouldn', 'from', 'your', 'been', 'of', 'on', 'few', 'until', 'when', 'who', 'both', 'here', 'than', 'not', 'which', 'hasn', \"doesn't\", 'she', 'just', 'into', 'me', 'theirs', 'hers', 'm', 'own', 'mightn', 'why', 'should', \"needn't\", 'we', 'themselves', 'but', 'yourself', 'did', 'no', 'an', \"should've\", 'and', 'is', \"she's\", 'weren', 'such', 're', \"weren't\", 'he'}\n"
     ]
    }
   ],
   "source": [
    "import nltk\n",
    "# nltk.download(\"stopwords\") # Uncomment this line to download the stopwords\n",
    "from nltk.corpus import stopwords\n",
    "\n",
    "stopwords = set(stopwords.words('english'))\n",
    "print(stopwords)"
   ]
  },
  {
   "cell_type": "markdown",
   "metadata": {},
   "source": [
    "### Downloading Brown Corpus"
   ]
  },
  {
   "cell_type": "markdown",
   "metadata": {},
   "source": [
    "The Brown Corpus was the first million-word electronic corpus of English, created in 1961 at Brown University. This corpus contains text from 500 sources, and the sources have been categorized by genre, such as news, editorial, and so on."
   ]
  },
  {
   "cell_type": "code",
   "execution_count": 26,
   "metadata": {},
   "outputs": [],
   "source": [
    "import nltk\n",
    "# nltk.download(\"brown\") # Uncomment this line to download the brown corpus\n",
    "from nltk.corpus import brown"
   ]
  },
  {
   "cell_type": "code",
   "execution_count": 27,
   "metadata": {},
   "outputs": [
    {
     "data": {
      "text/plain": [
       "['adventure',\n",
       " 'belles_lettres',\n",
       " 'editorial',\n",
       " 'fiction',\n",
       " 'government',\n",
       " 'hobbies',\n",
       " 'humor',\n",
       " 'learned',\n",
       " 'lore',\n",
       " 'mystery',\n",
       " 'news',\n",
       " 'religion',\n",
       " 'reviews',\n",
       " 'romance',\n",
       " 'science_fiction']"
      ]
     },
     "execution_count": 27,
     "metadata": {},
     "output_type": "execute_result"
    }
   ],
   "source": [
    "# Show the categories in the brown corpus \n",
    "brown.categories()"
   ]
  },
  {
   "cell_type": "code",
   "execution_count": 28,
   "metadata": {},
   "outputs": [
    {
     "name": "stdout",
     "output_type": "stream",
     "text": [
      "Number of sentences: 4249\n",
      "Sentence 0: ['Thirty-three']\n",
      "Sentence 1: ['Scotty', 'did', 'not', 'go', 'back', 'to', 'school', '.']\n",
      "Sentence 2: ['His', 'parents', 'talked', 'seriously', 'and', 'lengthily', 'to', 'their', 'own', 'doctor', 'and', 'to', 'a', 'specialist', 'at', 'the', 'University', 'Hospital', '--', 'Mr.', 'McKinley', 'was', 'entitled', 'to', 'a', 'discount', 'for', 'members', 'of', 'his', 'family', '--', 'and', 'it', 'was', 'decided', 'it', 'would', 'be', 'best', 'for', 'him', 'to', 'take', 'the', 'remainder', 'of', 'the', 'term', 'off', ',', 'spend', 'a', 'lot', 'of', 'time', 'in', 'bed', 'and', ',', 'for', 'the', 'rest', ',', 'do', 'pretty', 'much', 'as', 'he', 'chose', '--', 'provided', ',', 'of', 'course', ',', 'he', 'chose', 'to', 'do', 'nothing', 'too', 'exciting', 'or', 'too', 'debilitating', '.']\n",
      "Sentence 3: ['His', 'teacher', 'and', 'his', 'school', 'principal', 'were', 'conferred', 'with', 'and', 'everyone', 'agreed', 'that', ',', 'if', 'he', 'kept', 'up', 'with', 'a', 'certain', 'amount', 'of', 'work', 'at', 'home', ',', 'there', 'was', 'little', 'danger', 'of', 'his', 'losing', 'a', 'term', '.']\n",
      "Sentence 4: ['Scotty', 'accepted', 'the', 'decision', 'with', 'indifference', 'and', 'did', 'not', 'enter', 'the', 'arguments', '.']\n"
     ]
    }
   ],
   "source": [
    "# Get the sentences from the \"fiction\" category\n",
    "sentences = brown.sents(categories=\"fiction\")\n",
    "\n",
    "# Number of sentences\n",
    "print(f\"Number of sentences: {len(sentences)}\")\n",
    "\n",
    "# Print the first 5 sentences\n",
    "for i in range(5):\n",
    "    print(f\"Sentence {i}: {sentences[i]}\")"
   ]
  },
  {
   "cell_type": "code",
   "execution_count": 29,
   "metadata": {},
   "outputs": [
    {
     "name": "stdout",
     "output_type": "stream",
     "text": [
      "Filtered sentence 0: ['scotty', 'did', 'not', 'go', 'back', 'to', 'school']\n",
      "Filtered sentence 1: ['his', 'parents', 'talked', 'seriously', 'and', 'lengthily', 'to', 'their', 'own', 'doctor', 'and', 'to', 'a', 'specialist', 'at', 'the', 'university', 'hospital', 'mckinley', 'was', 'entitled', 'to', 'a', 'discount', 'for', 'members', 'of', 'his', 'family', 'and', 'it', 'was', 'decided', 'it', 'would', 'be', 'best', 'for', 'him', 'to', 'take', 'the', 'remainder', 'of', 'the', 'term', 'off', 'spend', 'a', 'lot', 'of', 'time', 'in', 'bed', 'and', 'for', 'the', 'rest', 'do', 'pretty', 'much', 'as', 'he', 'chose', 'provided', 'of', 'course', 'he', 'chose', 'to', 'do', 'nothing', 'too', 'exciting', 'or', 'too', 'debilitating']\n",
      "Filtered sentence 2: ['his', 'teacher', 'and', 'his', 'school', 'principal', 'were', 'conferred', 'with', 'and', 'everyone', 'agreed', 'that', 'if', 'he', 'kept', 'up', 'with', 'a', 'certain', 'amount', 'of', 'work', 'at', 'home', 'there', 'was', 'little', 'danger', 'of', 'his', 'losing', 'a', 'term']\n"
     ]
    }
   ],
   "source": [
    "# Filter out non-alphanumeric words and convert to lowercase\n",
    "filtered_sentences = []\n",
    "\n",
    "for sent in sentences:\n",
    "    filtered_sent = [word.lower() for word in sent if word.isalnum()]\n",
    "    if filtered_sent:\n",
    "        filtered_sentences.append(filtered_sent)\n",
    "\n",
    "# Print the first 3 sentences\n",
    "for i in range(3):\n",
    "    print(f\"Filtered sentence {i}: {filtered_sentences[i]}\")"
   ]
  },
  {
   "cell_type": "code",
   "execution_count": 30,
   "metadata": {},
   "outputs": [
    {
     "name": "stdout",
     "output_type": "stream",
     "text": [
      "Filtered sentence 0: ['scotty', 'go', 'back', 'school']\n",
      "Filtered sentence 1: ['parents', 'talked', 'seriously', 'lengthily', 'doctor', 'specialist', 'university', 'hospital', 'mckinley', 'entitled', 'discount', 'members', 'family', 'decided', 'would', 'best', 'take', 'remainder', 'term', 'spend', 'lot', 'time', 'bed', 'rest', 'pretty', 'much', 'chose', 'provided', 'course', 'chose', 'nothing', 'exciting', 'debilitating']\n",
      "Filtered sentence 2: ['teacher', 'school', 'principal', 'conferred', 'everyone', 'agreed', 'kept', 'certain', 'amount', 'work', 'home', 'little', 'danger', 'losing', 'term']\n"
     ]
    }
   ],
   "source": [
    "# Filter out stopwords and non-alphanumeric words and convert to lowercase\n",
    "filtered_stopwords_sentences = []\n",
    "\n",
    "for sent in filtered_sentences:\n",
    "    filtered_sent = [word.lower() for word in sent if word.isalnum() and word.lower() not in stopwords]\n",
    "    if filtered_sent:\n",
    "        filtered_stopwords_sentences.append(filtered_sent)\n",
    "\n",
    "# Print the first 3 sentences\n",
    "for i in range(3):\n",
    "    print(f\"Filtered sentence {i}: {filtered_stopwords_sentences[i]}\")"
   ]
  },
  {
   "cell_type": "markdown",
   "metadata": {},
   "source": [
    "### Word2Vec Word Embedding\n",
    "\n",
    "#### Skip-gram model"
   ]
  },
  {
   "cell_type": "markdown",
   "metadata": {},
   "source": [
    "#### Softmax"
   ]
  },
  {
   "cell_type": "markdown",
   "metadata": {},
   "source": [
    "The Skip-gram model aims to predict the context words given a target word. The loss function for the Skip-gram model is the negative log likelihood of the context words given the target word.\n",
    "\n",
    "Given a target word $w_t$ and its context words $w_{t+j}$ within a window size $c$, the probability of a context word $w_{t+j}$ given the target word $w_t$ is computed using the softmax function:\n",
    "\n",
    "$$\n",
    "P(w_{t+j} | w_t) = \\frac{\\exp(\\mathbf{v}_{w_{t+j}} \\cdot \\mathbf{v}_{w_t})}{\\sum_{w=1}^{V} \\exp(\\mathbf{v}_w \\cdot \\mathbf{v}_{w_t})}\n",
    "$$\n",
    "\n",
    "where:\n",
    "\n",
    "- $\\mathbf{v}_{w_{t+j}}$ is the vector representation of the context word $w_{t+j}$.\n",
    "- $\\mathbf{v}_{w_t}$ is the vector representation of the target word $w_t$.\n",
    "- $V$ is the vocabulary size.\n",
    "\n",
    "The loss function $J$ for the Skip-gram model is the sum of the negative log likelihoods over all target words and their context words:\n",
    "\n",
    "$$\n",
    "J = - \\sum_{t=1}^{T} \\sum_{-c \\leq j \\leq c, j \\neq 0} \\log P(w_{t+j} | w_t)\n",
    "$$\n",
    "\n",
    "Substituting the softmax probability into the loss function, we get:\n",
    "\n",
    "$$\n",
    "J = - \\sum_{t=1}^{T} \\sum_{-c \\leq j \\leq c, j \\neq 0} \\log \\left( \\frac{\\exp(\\mathbf{v}_{w_{t+j}} \\cdot \\mathbf{v}_{w_t})}{\\sum_{w=1}^{V} \\exp(\\mathbf{v}_w \\cdot \\mathbf{v}_{w_t})} \\right)\n",
    "$$\n",
    "\n",
    "This can be further expanded as:\n",
    "\n",
    "$$\n",
    "J = - \\sum_{t=1}^{T} \\sum_{-c \\leq j \\leq c, j \\neq 0} \\left( \\mathbf{v}_{w_{t+j}} \\cdot \\mathbf{v}_{w_t} - \\log \\sum_{w=1}^{V} \\exp(\\mathbf{v}_w \\cdot \\mathbf{v}_{w_t}) \\right)\n",
    "$$\n",
    "\n",
    "Here:\n",
    "\n",
    "- $T$ is the total number of words in the corpus.\n",
    "- $c$ is the window size.\n",
    "- $\\mathbf{v}_{w_{t+j}} \\cdot \\mathbf{v}_{w_t}$ is the dot product between the vector representations of the context word and the target word.\n",
    "\n",
    "This loss function captures the objective of the Skip-gram model, which is to maximize the probability of the context words given the target word."
   ]
  },
  {
   "cell_type": "code",
   "execution_count": 102,
   "metadata": {},
   "outputs": [],
   "source": [
    "import time\n",
    "import jax\n",
    "import jax.numpy as jnp\n",
    "import numpy as np\n",
    "from collections import defaultdict\n",
    "from matplotlib import pyplot as plt\n",
    "\n",
    "# Build vocabulary from sentences\n",
    "def build_vocab(sentences):\n",
    "    word_counts = defaultdict(int)\n",
    "    total_words = 0\n",
    "\n",
    "    for sent in sentences:\n",
    "        for word in sent:\n",
    "            word_counts[word] += 1\n",
    "\n",
    "    word_to_idx = {}\n",
    "    idx_to_word = {}\n",
    "\n",
    "    for i, word in enumerate(word_counts):\n",
    "        word_to_idx[word] = i\n",
    "        idx_to_word[i] = word\n",
    "        total_words += 1\n",
    "\n",
    "    return word_to_idx, idx_to_word, word_counts, total_words\n",
    "\n",
    "# One-hot encode a word\n",
    "def OHE_word(word, word_to_idx):\n",
    "    x = np.zeros(len(word_to_idx))\n",
    "    x[word_to_idx[word]] = 1\n",
    "    return x\n",
    "\n",
    "# Get the context words for a target word in a sentence\n",
    "def get_context_words(target_idx, sentence, window_size=2):\n",
    "    start = max(0, target_idx - window_size)\n",
    "    end = min(len(sentence), target_idx + window_size + 1)\n",
    "\n",
    "    context_words = []\n",
    "\n",
    "    for context_idx in range(start, end):\n",
    "        if context_idx != target_idx:\n",
    "            context_words.append(sentence[context_idx])\n",
    "    return context_words\n",
    "\n",
    "# Generate training data from sentences\n",
    "def generate_training_data(sentences, word_to_idx, window_size=2):\n",
    "    X = []\n",
    "    Y = []\n",
    "\n",
    "    for sent in sentences:\n",
    "        for target_idx in range(len(sent)):\n",
    "            target_word = sent[target_idx]\n",
    "            context_words = get_context_words(target_idx, sent, window_size)\n",
    "            if context_words:\n",
    "                for context_word in context_words:\n",
    "                    X.append(OHE_word(target_word, word_to_idx))\n",
    "                    Y.append(OHE_word(context_word, word_to_idx))\n",
    "\n",
    "    X = np.array(X)\n",
    "    Y = np.array(Y)\n",
    "\n",
    "    return X, Y\n",
    "\n",
    "# Softmax function\n",
    "def softmax(x):\n",
    "    exp_x = jnp.exp(x - jnp.max(x)) # Subtract max(x) for numerical stability\n",
    "    return exp_x / jnp.sum(exp_x)\n",
    "\n",
    "# Forward pass of the neural network\n",
    "@jax.jit\n",
    "def net(params, # the list of paramaters\n",
    "        x,      # a single one-hot encoded word, of correct shape\n",
    "        ):\n",
    "    # Initialize the output\n",
    "    x_out = x\n",
    "\n",
    "    # Get the layers\n",
    "    N_layers = len(params)\n",
    "    for layer_idx in range(N_layers - 1): # Last layer is different\n",
    "        A  = params[layer_idx]\n",
    "        x_out = A@x_out\n",
    "\n",
    "    # Last layer uses softmax\n",
    "    A = params[-1]\n",
    "    x_out = softmax(A@x_out)\n",
    "    return x_out\n",
    "\n",
    "# Forward pass for batch of OHE words\n",
    "net_batch = jax.jit(jax.vmap(net, in_axes=(None, 0)))\n",
    "\n",
    "# Initialize the parameters of the neural network\n",
    "# Bias terms are not necessary for word embeddings\n",
    "def init_weights(layer_dims): # (d_in, d1, d2, ..., d_L) -> [(A0,), (A1,), ..., (A_L,)]\n",
    "    N_layers = len(layer_dims)\n",
    "    params = []\n",
    "\n",
    "    for layer_idx in range(N_layers - 1): # Inbetween layers\n",
    "        # Get the dimensions of the current layer and the next layer\n",
    "        d_in = layer_dims[layer_idx]\n",
    "        d_out = layer_dims[layer_idx + 1]\n",
    "\n",
    "        # Weights should have mean=0 and variance=1/d_in, size = (d_out, d_in)\n",
    "        A = np.random.normal(0, 1/np.sqrt(d_in), size=(d_out, d_in))\n",
    "\n",
    "        params.append(A)\n",
    "    return params\n",
    "\n",
    "# Count the number of parameters in the neural network\n",
    "def count_params(params):\n",
    "    n_params = 0\n",
    "    for layer_idx, A in enumerate(params):\n",
    "        n_params += A.size \n",
    "    return n_params\n",
    "\n",
    "# Cross entropy\n",
    "@jax.jit\n",
    "def cross_entropy(y, y_pred):\n",
    "    return -jnp.sum(y * jnp.log(y_pred))\n",
    "\n",
    "cross_entropy_batch = jax.jit(jax.vmap(cross_entropy, in_axes=(0, 0)))\n",
    "\n",
    "# Loss function for a batch of inputs\n",
    "@jax.jit\n",
    "def loss(params, \n",
    "         x, # batch of OHE target words\n",
    "         y # batch of OHE context words\n",
    "        ):\n",
    "    y_pred = net_batch(params, x)\n",
    "    y_pred = y_pred[..., 0]\n",
    "\n",
    "    return jnp.mean(cross_entropy_batch(y, y_pred))\n",
    "\n",
    "# Compute the value and gradient of the loss function\n",
    "loss_value_and_grad = jax.jit(jax.value_and_grad(loss))"
   ]
  },
  {
   "cell_type": "markdown",
   "metadata": {},
   "source": [
    "##### Testing the functions"
   ]
  },
  {
   "cell_type": "code",
   "execution_count": 103,
   "metadata": {},
   "outputs": [
    {
     "name": "stdout",
     "output_type": "stream",
     "text": [
      "Vocabulary size: 7\n",
      "Number of parameters in the network: 28\n",
      "Layer 0 shape: (2, 7)\n",
      "Layer 1 shape: (7, 2)\n"
     ]
    }
   ],
   "source": [
    "# Try a small example of 1 sentence\n",
    "sentences = filtered_sentences[:1]\n",
    "word_to_idx, idx_to_word, word_counts, _ = build_vocab(sentences)\n",
    "vocab_size = len(word_to_idx)\n",
    "print(f\"Vocabulary size: {vocab_size}\")\n",
    "\n",
    "V = vocab_size\n",
    "E = 2 # Embedding dimension\n",
    "\n",
    "params = init_weights([V, E, V])\n",
    "\n",
    "# Count the number of parameters\n",
    "print(\"Number of parameters in the network:\", count_params(params))\n",
    "\n",
    "# Print the shapes of the weights \n",
    "for layer_idx, A in enumerate(params):\n",
    "    print(f\"Layer {layer_idx} shape: {A.shape}\")\n",
    "\n",
    "# Generate training data\n",
    "X, Y = generate_training_data(sentences, word_to_idx, window_size=1)"
   ]
  },
  {
   "cell_type": "code",
   "execution_count": 104,
   "metadata": {},
   "outputs": [
    {
     "name": "stdout",
     "output_type": "stream",
     "text": [
      "[['scotty', 'did', 'not', 'go', 'back', 'to', 'school']]\n",
      "0 scotty did\n",
      "1 did scotty\n",
      "2 did not\n",
      "3 not did\n",
      "4 not go\n",
      "5 go not\n",
      "6 go back\n",
      "7 back go\n",
      "8 back to\n",
      "9 to back\n",
      "10 to school\n",
      "11 school to\n"
     ]
    }
   ],
   "source": [
    "# Check training data\n",
    "print(sentences)\n",
    "\n",
    "for i in range(len(X)):\n",
    "    x = X[i]\n",
    "    y = Y[i]\n",
    "    # print the words\n",
    "    print(i, idx_to_word[np.argmax(x)], idx_to_word[np.argmax(y)])"
   ]
  },
  {
   "cell_type": "code",
   "execution_count": 105,
   "metadata": {},
   "outputs": [
    {
     "name": "stdout",
     "output_type": "stream",
     "text": [
      "shape of the input: (7, 1)\n",
      "shape of the output: (7, 1)\n",
      "output: [[0.11816891]\n",
      " [0.15200579]\n",
      " [0.15369985]\n",
      " [0.16733873]\n",
      " [0.17564985]\n",
      " [0.07887454]\n",
      " [0.1542623 ]]\n"
     ]
    }
   ],
   "source": [
    "# Single input test\n",
    "x0 = X[0][..., jnp.newaxis]\n",
    "print(f'shape of the input: {x0.shape}')\n",
    "y0_pred = net(params, x0)\n",
    "print(f'shape of the output: {x0.shape}')\n",
    "print(f'output: {y0_pred}')"
   ]
  },
  {
   "cell_type": "code",
   "execution_count": 106,
   "metadata": {},
   "outputs": [
    {
     "name": "stdout",
     "output_type": "stream",
     "text": [
      "shape of the input: (2, 7, 1)\n",
      "shape of the output: (2, 7, 1)\n"
     ]
    }
   ],
   "source": [
    "# Batch input test\n",
    "x_batch = X[:2]\n",
    "x_batch = x_batch[..., jnp.newaxis]\n",
    "print(f'shape of the input: {x_batch.shape}')\n",
    "y_pred_batch = net_batch(params, x_batch)\n",
    "print(f'shape of the output: {y_pred_batch.shape}')"
   ]
  },
  {
   "cell_type": "code",
   "execution_count": 107,
   "metadata": {},
   "outputs": [
    {
     "name": "stdout",
     "output_type": "stream",
     "text": [
      "shape of the y: (7,)\n",
      "shape of the y_pred: (7,)\n",
      "cross entropy: 2.5398969650268555\n"
     ]
    }
   ],
   "source": [
    "# Single cross entropy test\n",
    "y0 = Y[0]\n",
    "y0_pred = y_pred_batch[0][..., 0]\n",
    "print(f'shape of the y: {y.shape}')\n",
    "print(f'shape of the y_pred: {y0_pred.shape}')\n",
    "print(f'cross entropy: {cross_entropy(y, y0_pred)}')"
   ]
  },
  {
   "cell_type": "code",
   "execution_count": 108,
   "metadata": {},
   "outputs": [
    {
     "name": "stdout",
     "output_type": "stream",
     "text": [
      "shape of the y: (2, 7)\n",
      "shape of the y_pred_batch: (2, 7)\n",
      "Batch cross entropy: [1.8838366 2.1313324]\n"
     ]
    }
   ],
   "source": [
    "# Batch cross entropy test\n",
    "y_batch = Y[:2]\n",
    "y_pred_batch = y_pred_batch[..., 0]\n",
    "print(f'shape of the y: {y_batch.shape}')\n",
    "print(f'shape of the y_pred_batch: {y_pred_batch.shape}')\n",
    "print(f'Batch cross entropy: {cross_entropy_batch(y_batch, y_pred_batch)}')"
   ]
  },
  {
   "cell_type": "code",
   "execution_count": 109,
   "metadata": {},
   "outputs": [
    {
     "name": "stdout",
     "output_type": "stream",
     "text": [
      "loss value: 2.007584571838379\n"
     ]
    }
   ],
   "source": [
    "# loss test\n",
    "loss_value = loss(params, x_batch, y_batch)\n",
    "print(f'loss value: {loss_value}')"
   ]
  },
  {
   "cell_type": "markdown",
   "metadata": {},
   "source": [
    "##### Optimise the word embeddings"
   ]
  },
  {
   "cell_type": "code",
   "execution_count": 113,
   "metadata": {},
   "outputs": [
    {
     "name": "stdout",
     "output_type": "stream",
     "text": [
      "Vocabulary size: 1633\n"
     ]
    }
   ],
   "source": [
    "# Build the vocab\n",
    "sentences = filtered_sentences[:400]\n",
    "word_to_idx, idx_to_word, word_counts, total_words = build_vocab(sentences)\n",
    "vocab_size = len(word_to_idx)\n",
    "print(f'Vocabulary size: {vocab_size}')"
   ]
  },
  {
   "cell_type": "code",
   "execution_count": 114,
   "metadata": {},
   "outputs": [
    {
     "name": "stdout",
     "output_type": "stream",
     "text": [
      "X shape: (34062, 1633)\n"
     ]
    }
   ],
   "source": [
    "# Hyperparameters\n",
    "window_size = 4\n",
    "\n",
    "# Generate training data\n",
    "X, Y = generate_training_data(sentences, word_to_idx, window_size=window_size)\n",
    "print(f'X shape: {X.shape}')\n",
    "\n",
    "N = X.shape[0] # Number of training samples\n",
    "indices = jnp.arange(N) # Indices of the training samples"
   ]
  },
  {
   "cell_type": "code",
   "execution_count": 115,
   "metadata": {},
   "outputs": [
    {
     "name": "stdout",
     "output_type": "stream",
     "text": [
      "Number of parameters: 326600\n"
     ]
    }
   ],
   "source": [
    "# Set seed\n",
    "seed_value = 4212\n",
    "np.random.seed(seed_value)\n",
    "key = jax.random.PRNGKey(seed_value)\n",
    "\n",
    "# Hyperparameters\n",
    "n_epochs = 200\n",
    "warmup_epochs = 40\n",
    "lr_max = 1e-1\n",
    "lr_min = 1e-5\n",
    "embedding_size = 100\n",
    "batch_size = 256\n",
    "n_batches = N // batch_size\n",
    "\n",
    "# Initialize the parameters\n",
    "params = init_weights([vocab_size, embedding_size, vocab_size])\n",
    "print(f'Number of parameters: {count_params(params)}')"
   ]
  },
  {
   "cell_type": "code",
   "execution_count": 116,
   "metadata": {},
   "outputs": [],
   "source": [
    "# Learning rate schedule\n",
    "def cosine_annealing_with_warmup(epoch, lr_max, lr_min, warmup_epochs, n_epochs):\n",
    "    if epoch < warmup_epochs:\n",
    "        # Linear warm-up\n",
    "        lr = lr_max * epoch / warmup_epochs\n",
    "    else:\n",
    "        # Cosine annealing\n",
    "        progress = (epoch - warmup_epochs) / (n_epochs - warmup_epochs)\n",
    "        lr = lr_min + 0.5 * (lr_max - lr_min) * (1 + np.cos(np.pi * progress))\n",
    "    return lr"
   ]
  },
  {
   "cell_type": "code",
   "execution_count": 117,
   "metadata": {},
   "outputs": [
    {
     "name": "stdout",
     "output_type": "stream",
     "text": [
      "Epoch 1/200, loss = 7.397896766662598\n",
      "Epoch 21/200, loss = 7.384763717651367\n",
      "Epoch 41/200, loss = 7.134479999542236\n",
      "Epoch 61/200, loss = 6.813385009765625\n",
      "Epoch 81/200, loss = 6.597319602966309\n",
      "Epoch 101/200, loss = 6.45112419128418\n",
      "Epoch 121/200, loss = 6.356837749481201\n",
      "Epoch 141/200, loss = 6.300785541534424\n",
      "Epoch 161/200, loss = 6.271511554718018\n",
      "Epoch 181/200, loss = 6.259783744812012\n"
     ]
    }
   ],
   "source": [
    "# Set seed\n",
    "seed_value = 4212\n",
    "np.random.seed(seed_value)\n",
    "key = jax.random.PRNGKey(seed_value)\n",
    "\n",
    "# Track the loss and time\n",
    "loss_history = []\n",
    "time_history = []\n",
    "\n",
    "# Start the timer\n",
    "start_time = time.time()\n",
    "\n",
    "for epoch in range(n_epochs):\n",
    "    # shuffle the data\n",
    "    indices = np.random.permutation(indices)\n",
    "\n",
    "    # stores all the losses for this epoch\n",
    "    epoch_losses = []\n",
    "\n",
    "    for batch in range(n_batches):\n",
    "        # Get the current batch\n",
    "        batch_idices = indices[batch*batch_size:(batch+1)*batch_size]\n",
    "        x_batch = X[batch_idices]\n",
    "        y_batch = Y[batch_idices]\n",
    "\n",
    "        # Add a fake last dimension to the input\n",
    "        x_batch = x_batch[..., jnp.newaxis]\n",
    "\n",
    "        # Compute the loss and the gradient\n",
    "        loss_value, grad = loss_value_and_grad(params, x_batch, y_batch)\n",
    "        epoch_losses.append(loss_value)\n",
    "\n",
    "        # Compute the learning rate\n",
    "        lr = cosine_annealing_with_warmup(epoch, lr_max, lr_min, warmup_epochs, n_epochs)\n",
    "\n",
    "        # Update the parameters\n",
    "        params = jax.tree_util.tree_map(lambda p, g: p - lr * g, params, grad)\n",
    "\n",
    "    # Track the mean loss for each epoch\n",
    "    mean_epoch_loss = np.mean(epoch_losses)\n",
    "    loss_history.append(mean_epoch_loss)\n",
    "    time_history.append(time.time() - start_time)\n",
    "\n",
    "\n",
    "    # Display the loss\n",
    "    if epoch % (n_epochs // 10) == 0:\n",
    "        print(f\"Epoch {epoch+1}/{n_epochs}, loss = {mean_epoch_loss}\")"
   ]
  },
  {
   "cell_type": "code",
   "execution_count": 118,
   "metadata": {},
   "outputs": [
    {
     "data": {
      "image/png": "[encoded data removed]",
      "text/plain": [
       "<Figure size 1200x500 with 2 Axes>"
      ]
     },
     "metadata": {},
     "output_type": "display_data"
    }
   ],
   "source": [
    "# Create a figure with 2 subplots side by side\n",
    "fig, axs = plt.subplots(1, 2, figsize=(12, 5))\n",
    "\n",
    "# Plot the loss over iterations\n",
    "axs[0].plot(loss_history)\n",
    "axs[0].set_xlabel('Epoch')\n",
    "axs[0].set_ylabel('Loss')\n",
    "axs[0].set_title('Training Loss over Iterations')\n",
    "\n",
    "# Plot the loss over time\n",
    "axs[1].plot(time_history, loss_history)\n",
    "axs[1].set_xlabel('Time')\n",
    "axs[1].set_ylabel('Loss')\n",
    "axs[1].set_title('Training Loss over Time')\n",
    "\n",
    "# Display the plots\n",
    "plt.tight_layout()\n",
    "plt.show()"
   ]
  },
  {
   "cell_type": "markdown",
   "metadata": {},
   "source": [
    "##### Check the embeddings"
   ]
  },
  {
   "cell_type": "code",
   "execution_count": 122,
   "metadata": {},
   "outputs": [],
   "source": [
    "# Function to get the word embedding of a word\n",
    "def get_word_embedding(word, word_to_idx, word_embeddings):\n",
    "    idx = word_to_idx[word]\n",
    "    return word_embeddings[idx]\n",
    "\n",
    "# Compute the cosine similarity between two vectors\n",
    "def cosine_similarity(vec1, vec2):\n",
    "    dot_product = np.dot(vec1, vec2)\n",
    "    norm_a = np.linalg.norm(vec1)\n",
    "    norm_b = np.linalg.norm(vec2)\n",
    "    if norm_a == 0 or norm_b == 0:  # Prevent division by zero\n",
    "        return 0.0\n",
    "    return dot_product / (norm_a * norm_b)\n",
    "\n",
    "# Function to evaluate similarities given a list of word pairs\n",
    "def evaluate_similarity(word_to_idx, word_embeddings, word_pairs):\n",
    "    scores = []\n",
    "    for word1, word2 in word_pairs:\n",
    "        if word1 in word_to_idx and word2 in word_to_idx:\n",
    "            vec1 = get_word_embedding(word1, word_to_idx, word_embeddings)\n",
    "            vec2 = get_word_embedding(word2, word_to_idx, word_embeddings)\n",
    "            cos_sim = cosine_similarity(vec1, vec2)\n",
    "            scores.append((word1, word2, cos_sim))\n",
    "        elif word1 not in word_to_idx and word2 not in word_to_idx:\n",
    "            print(f\"Words '{word1}' and '{word2}' not in the vocabulary\")\n",
    "        elif word1 not in word_to_idx:\n",
    "            print(f\"Word '{word1}' not in the vocabulary\")\n",
    "        else:\n",
    "            print(f\"Word '{word2}' not in the vocabulary\")\n",
    "    return scores\n",
    "\n",
    "# Sort all the words in the vocab by their cosine similarity to the target vector (need not be from the vocab)\n",
    "def find_similar_words(target_vec, word_embeddings, word_to_idx):\n",
    "    words = []\n",
    "\n",
    "    for word, idx in word_to_idx.items():\n",
    "        word_vec = word_embeddings[idx]\n",
    "        cos_sim = cosine_similarity(target_vec, word_vec)\n",
    "        words.append((word, cos_sim))\n",
    "    \n",
    "    words.sort(key=lambda x: x[1], reverse=True)\n",
    "    return words"
   ]
  },
  {
   "cell_type": "code",
   "execution_count": 120,
   "metadata": {},
   "outputs": [
    {
     "name": "stdout",
     "output_type": "stream",
     "text": [
      "Shape of word embeddings: (1633, 100)\n",
      "Words 'king' and 'queen' not in the vocabulary\n",
      "Word 'king' not in the vocabulary\n",
      "Words 'apple' and 'fruit' not in the vocabulary\n",
      "Word 'mother' not in the vocabulary\n",
      "Word 'daugther' not in the vocabulary\n",
      "Words 'mother' and 'daughter' not in the vocabulary\n",
      "Cosine similarity between 'man' and 'woman': 0.6246\n",
      "Cosine similarity between 'father' and 'son': 0.9415\n",
      "Cosine similarity between 'teacher' and 'school': 0.6847\n",
      "Cosine similarity between 'school' and 'principal': 0.7962\n",
      "Cosine similarity between 'principal' and 'teacher': 0.7080\n",
      "Cosine similarity between 'teacher' and 'father': 0.7829\n"
     ]
    }
   ],
   "source": [
    "word_embeddings = params[0].T\n",
    "print(f\"Shape of word embeddings: {word_embeddings.shape}\")\n",
    "\n",
    "# Example word pairs and their expected similarities\n",
    "word_pairs = [\n",
    "    ('king', 'queen'),  # Expect high similarity\n",
    "    ('man', 'woman'),   # Expect high similarity\n",
    "    ('king', 'man'),    # Moderate similarity\n",
    "    ('apple', 'fruit'),  # Depending on your vocabulary, could expect a similarity\n",
    "\n",
    "    ('mother', 'father'),\n",
    "    ('son', 'daugther'),\n",
    "    ('father', 'son'),\n",
    "    ('mother', 'daughter'),\n",
    "\n",
    "    ('teacher', 'school'),\n",
    "    ('school', 'principal'),\n",
    "    ('principal', 'teacher'),\n",
    "\n",
    "    ('teacher', 'father')\n",
    "]\n",
    "\n",
    "# Run the evaluation\n",
    "similarity_scores = evaluate_similarity(word_to_idx, word_embeddings, word_pairs)\n",
    "\n",
    "# Print results\n",
    "for word1, word2, sim in similarity_scores:\n",
    "    print(f\"Cosine similarity between '{word1}' and '{word2}': {sim:.4f}\")"
   ]
  },
  {
   "cell_type": "code",
   "execution_count": 121,
   "metadata": {},
   "outputs": [
    {
     "data": {
      "text/plain": [
       "[('school', 0.99999994),\n",
       " ('anything', 0.9228999),\n",
       " ('hear', 0.920676),\n",
       " ('day', 0.9199059),\n",
       " ('new', 0.9177401),\n",
       " ('moment', 0.915116),\n",
       " ('something', 0.9131489),\n",
       " ('white', 0.913094),\n",
       " ('any', 0.91230583),\n",
       " ('pierre', 0.9122021)]"
      ]
     },
     "execution_count": 121,
     "metadata": {},
     "output_type": "execute_result"
    }
   ],
   "source": [
    "target_vec = get_word_embedding(\"school\", word_to_idx, word_embeddings)\n",
    "find_similar_words(target_vec, word_embeddings, word_to_idx)[:10]"
   ]
  },
  {
   "cell_type": "markdown",
   "metadata": {},
   "source": [
    "#### Skip-gram with Subsampling"
   ]
  },
  {
   "cell_type": "code",
   "execution_count": 123,
   "metadata": {},
   "outputs": [],
   "source": [
    "import random\n",
    "\n",
    "# Probability of keeping the word; higher probability for less frequent words\n",
    "def subsampling_probability(count, total_words, threshold=1e-3):\n",
    "    frequency = count / total_words\n",
    "    return (np.sqrt(frequency / threshold) + 1) * (threshold / frequency)\n",
    "\n",
    "# Subsample a sentence\n",
    "def subsample_sentence(sentence, word_probabilities):\n",
    "    subsampled_sentence = []\n",
    "    for word in sentence:\n",
    "        if random.random() < word_probabilities[word]:\n",
    "            subsampled_sentence.append(word)\n",
    "    return subsampled_sentence"
   ]
  },
  {
   "cell_type": "markdown",
   "metadata": {},
   "source": [
    "##### Optimise the word embeddings"
   ]
  },
  {
   "cell_type": "code",
   "execution_count": 129,
   "metadata": {},
   "outputs": [
    {
     "name": "stdout",
     "output_type": "stream",
     "text": [
      "Vocabulary size: 1633\n"
     ]
    }
   ],
   "source": [
    "# Set seed\n",
    "seed_value = 4212\n",
    "np.random.seed(seed_value)\n",
    "key = jax.random.PRNGKey(seed_value)\n",
    "\n",
    "# Build the vocab\n",
    "sentences = filtered_sentences[:400]\n",
    "word_to_idx, idx_to_word, word_counts, total_words = build_vocab(sentences)\n",
    "vocab_size = len(word_to_idx)\n",
    "print(f'Vocabulary size: {vocab_size}')\n",
    "\n",
    "# Subsample the sentences\n",
    "word_probabilities = {word: subsampling_probability(count, total_words) for word, count in word_counts.items()}\n",
    "subsampled_sentences = [subsample_sentence(sent, word_probabilities) for sent in sentences]"
   ]
  },
  {
   "cell_type": "code",
   "execution_count": 130,
   "metadata": {},
   "outputs": [
    {
     "name": "stdout",
     "output_type": "stream",
     "text": [
      "X shape: (17082, 1633)\n"
     ]
    }
   ],
   "source": [
    "# Hyperparameters\n",
    "window_size = 4\n",
    "\n",
    "# Generate training data\n",
    "X, Y = generate_training_data(subsampled_sentences, word_to_idx, window_size=window_size)\n",
    "print(f'X shape: {X.shape}')\n",
    "\n",
    "N = X.shape[0] # Number of training samples\n",
    "indices = jnp.arange(N) # Indices of the training samples"
   ]
  },
  {
   "cell_type": "code",
   "execution_count": 131,
   "metadata": {},
   "outputs": [
    {
     "name": "stdout",
     "output_type": "stream",
     "text": [
      "Number of parameters: 326600\n"
     ]
    }
   ],
   "source": [
    "# Set seed\n",
    "seed_value = 4212\n",
    "np.random.seed(seed_value) \n",
    "key = jax.random.PRNGKey(seed_value)\n",
    "\n",
    "# Hyperparameters\n",
    "n_epochs = 200\n",
    "warmup_epochs = 40\n",
    "lr_max = 1e-1\n",
    "lr_min = 1e-5\n",
    "embedding_size = 100\n",
    "batch_size = 256\n",
    "n_batches = N // batch_size\n",
    "\n",
    "# Initialize the parameters\n",
    "params = init_weights([vocab_size, embedding_size, vocab_size])\n",
    "print(f'Number of parameters: {count_params(params)}')"
   ]
  },
  {
   "cell_type": "code",
   "execution_count": 132,
   "metadata": {},
   "outputs": [
    {
     "name": "stdout",
     "output_type": "stream",
     "text": [
      "Epoch 1/200, loss = 7.39841890335083\n",
      "Epoch 21/200, loss = 7.396388053894043\n",
      "Epoch 41/200, loss = 7.39012336730957\n",
      "Epoch 61/200, loss = 7.381636142730713\n",
      "Epoch 81/200, loss = 7.373504161834717\n",
      "Epoch 101/200, loss = 7.366308689117432\n",
      "Epoch 121/200, loss = 7.360583305358887\n",
      "Epoch 141/200, loss = 7.356557369232178\n",
      "Epoch 161/200, loss = 7.354245662689209\n",
      "Epoch 181/200, loss = 7.353368282318115\n"
     ]
    }
   ],
   "source": [
    "# Set seed\n",
    "seed_value = 4212\n",
    "np.random.seed(seed_value)\n",
    "key = jax.random.PRNGKey(seed_value)\n",
    "\n",
    "# Track the loss and time\n",
    "loss_history = []\n",
    "time_history = []\n",
    "\n",
    "# Start the timer\n",
    "start_time = time.time()\n",
    "\n",
    "for epoch in range(n_epochs):\n",
    "    # shuffle the data\n",
    "    indices = np.random.permutation(indices)\n",
    "\n",
    "    # stores all the losses for this epoch\n",
    "    epoch_losses = []\n",
    "\n",
    "    for batch in range(n_batches):\n",
    "        # Get the current batch\n",
    "        batch_idices = indices[batch*batch_size:(batch+1)*batch_size]\n",
    "        x_batch = X[batch_idices]\n",
    "        y_batch = Y[batch_idices]\n",
    "\n",
    "        # Add a fake last dimension to the input\n",
    "        x_batch = x_batch[..., jnp.newaxis]\n",
    "\n",
    "        # Compute the loss and the gradient\n",
    "        loss_value, grad = loss_value_and_grad(params, x_batch, y_batch)\n",
    "        epoch_losses.append(loss_value)\n",
    "\n",
    "        # Compute the learning rate\n",
    "        lr = cosine_annealing_with_warmup(epoch, lr_max, lr_min, warmup_epochs, n_epochs)\n",
    "\n",
    "        # Update the parameters\n",
    "        params = jax.tree_util.tree_map(lambda p, g: p - lr * g, params, grad)\n",
    "\n",
    "    # Track the mean loss for each epoch\n",
    "    mean_epoch_loss = np.mean(epoch_losses)\n",
    "    loss_history.append(mean_epoch_loss)\n",
    "    time_history.append(time.time() - start_time)\n",
    "\n",
    "\n",
    "    # Display the loss\n",
    "    if epoch % (n_epochs // 10) == 0:\n",
    "        print(f\"Epoch {epoch+1}/{n_epochs}, loss = {mean_epoch_loss}\")"
   ]
  },
  {
   "cell_type": "code",
   "execution_count": 134,
   "metadata": {},
   "outputs": [
    {
     "data": {
      "image/png": "[encoded data removed]",
      "text/plain": [
       "<Figure size 1200x500 with 2 Axes>"
      ]
     },
     "metadata": {},
     "output_type": "display_data"
    }
   ],
   "source": [
    "# Create a figure with 2 subplots side by side\n",
    "fig, axs = plt.subplots(1, 2, figsize=(12, 5))\n",
    "\n",
    "# Plot the loss over iterations\n",
    "axs[0].plot(loss_history)\n",
    "axs[0].set_xlabel('Epoch')\n",
    "axs[0].set_ylabel('Loss')\n",
    "axs[0].set_title('Training Loss over Iterations')\n",
    "\n",
    "# Plot the loss over time\n",
    "axs[1].plot(time_history, loss_history)\n",
    "axs[1].set_xlabel('Time')\n",
    "axs[1].set_ylabel('Loss')\n",
    "axs[1].set_title('Training Loss over Time')\n",
    "\n",
    "# Display the plots\n",
    "plt.tight_layout()\n",
    "plt.show()"
   ]
  },
  {
   "cell_type": "markdown",
   "metadata": {},
   "source": [
    "##### Check the embeddings"
   ]
  },
  {
   "cell_type": "code",
   "execution_count": 135,
   "metadata": {},
   "outputs": [
    {
     "name": "stdout",
     "output_type": "stream",
     "text": [
      "Shape of word embeddings: (1633, 100)\n",
      "Words 'king' and 'queen' not in the vocabulary\n",
      "Word 'king' not in the vocabulary\n",
      "Words 'apple' and 'fruit' not in the vocabulary\n",
      "Word 'mother' not in the vocabulary\n",
      "Word 'daugther' not in the vocabulary\n",
      "Words 'mother' and 'daughter' not in the vocabulary\n",
      "Cosine similarity between 'man' and 'woman': -0.1721\n",
      "Cosine similarity between 'father' and 'son': 0.2651\n",
      "Cosine similarity between 'teacher' and 'school': 0.0971\n",
      "Cosine similarity between 'school' and 'principal': 0.1043\n",
      "Cosine similarity between 'principal' and 'teacher': 0.1177\n",
      "Cosine similarity between 'teacher' and 'father': 0.0297\n"
     ]
    }
   ],
   "source": [
    "word_embeddings_subsampled = params[0].T\n",
    "print(f\"Shape of word embeddings: {word_embeddings.shape}\")\n",
    "\n",
    "# Example word pairs and their expected similarities\n",
    "word_pairs = [\n",
    "    ('king', 'queen'),  # Expect high similarity\n",
    "    ('man', 'woman'),   # Expect high similarity\n",
    "    ('king', 'man'),    # Moderate similarity\n",
    "    ('apple', 'fruit'),  # Depending on your vocabulary, could expect a similarity\n",
    "\n",
    "    ('mother', 'father'),\n",
    "    ('son', 'daugther'),\n",
    "    ('father', 'son'),\n",
    "    ('mother', 'daughter'),\n",
    "\n",
    "    ('teacher', 'school'),\n",
    "    ('school', 'principal'),\n",
    "    ('principal', 'teacher'),\n",
    "\n",
    "    ('teacher', 'father')\n",
    "]\n",
    "\n",
    "# Run the evaluation\n",
    "similarity_scores = evaluate_similarity(word_to_idx, word_embeddings_subsampled, word_pairs)\n",
    "\n",
    "# Print results\n",
    "for word1, word2, sim in similarity_scores:\n",
    "    print(f\"Cosine similarity between '{word1}' and '{word2}': {sim:.4f}\")"
   ]
  },
  {
   "cell_type": "code",
   "execution_count": 137,
   "metadata": {},
   "outputs": [
    {
     "data": {
      "text/plain": [
       "[('school', 1.0000001),\n",
       " ('new', 0.36308748),\n",
       " ('barely', 0.35631245),\n",
       " ('impatience', 0.32074252),\n",
       " ('running', 0.31191534),\n",
       " ('anything', 0.3042965),\n",
       " ('friends', 0.2902134),\n",
       " ('relax', 0.27177426),\n",
       " ('place', 0.2671961),\n",
       " ('something', 0.2615611)]"
      ]
     },
     "execution_count": 137,
     "metadata": {},
     "output_type": "execute_result"
    }
   ],
   "source": [
    "target_vec = get_word_embedding(\"school\", word_to_idx, word_embeddings_subsampled)\n",
    "find_similar_words(target_vec, word_embeddings_subsampled, word_to_idx)[:10]"
   ]
  },
  {
   "cell_type": "markdown",
   "metadata": {},
   "source": [
    "#### Skip-Gram with Negative Sampling (SGNS)"
   ]
  },
  {
   "cell_type": "markdown",
   "metadata": {},
   "source": [
    "Negative sampling simplifies this process by approximating the softmax function, \n",
    "focusing only on a few context words (positive samples) and a few randomly selected words from the vocabulary (negative samples) instead of the entire vocabulary.\n",
    "\n",
    "Loss Function: \\\n",
    "The loss function for Skip-Gram with Negative Sampling (SGNS) is typically a binary cross-entropy loss. For each target word $w_t$ and its context words $w_c$, the loss function tries to:\n",
    "- Maximize the probability that $w_c$ appears in the context of $w_t$\n",
    "- Minimize the probability that randomly selected (negative) words appear in the context\n",
    "\n",
    "The loss function is\n",
    "$$ L = - \\left[ \\sum_{w_c \\in \\text{context}} \\log \\sigma \\left( \\langle v_{w_c}, v_{w_t} \\rangle \\right) \n",
    "             +  \\sum_{w_n \\in \\text{negatives}} \\log \\sigma \\left( \\langle -v_{w_n}, v_{w_t} \\rangle \\right) \\right] $$\n",
    "\n",
    "where \n",
    "- $v_{w_t}$ is the embedding vector of target word $w_t$\n",
    "- $v_{w_c}$ is the embedding vector of context word $w_c$\n",
    "- $v_{w_n}$ is the embedding vector of negative word $w_n$ \n",
    "- $\\sigma(x)$ is the sigmoid function $\\sigma(x) = \\frac{1}{1 + e^{-x}}$ \n",
    "\n",
    "Let $y_i = 1 \\text{ if } w_i$ is a context word and $y_i = -1 \\text{ if } w_i$ is a negative word.\n",
    "$$ \n",
    "L = - \\sum_i^{N_{context} + N_{negative}} \\log \\sigma (y_i \\cdot \\langle v_{w_t}, v_{w_i} \\rangle)\n",
    "$$"
   ]
  },
  {
   "cell_type": "markdown",
   "metadata": {},
   "source": [
    "##### Building Vocabulary"
   ]
  },
  {
   "cell_type": "code",
   "execution_count": 138,
   "metadata": {},
   "outputs": [
    {
     "name": "stdout",
     "output_type": "stream",
     "text": [
      "Vocabulary size: 1633\n"
     ]
    }
   ],
   "source": [
    "from collections import defaultdict\n",
    "\n",
    "# Build vocabulary index\n",
    "def build_vocab_idx(filtered_sentences):\n",
    "    vocab_count = defaultdict(int)\n",
    "    for sentence in filtered_sentences:\n",
    "        for word in sentence:\n",
    "            vocab_count[word] += 1\n",
    "    return {word: idx for idx, (word, _) in enumerate(vocab_count.items())}, vocab_count\n",
    "\n",
    "vocab_idx, vocab_count = build_vocab_idx(subsampled_sentences)\n",
    "vocab_size = len(vocab_idx)\n",
    "print(f\"Vocabulary size: {vocab_size}\")"
   ]
  },
  {
   "cell_type": "markdown",
   "metadata": {},
   "source": [
    "##### Generate Negative Samples"
   ]
  },
  {
   "cell_type": "code",
   "execution_count": 139,
   "metadata": {},
   "outputs": [],
   "source": [
    "# input: target word index in sentence, selected sentence, number of context words\n",
    "# output: list of context words index linked to vocab_idx, weights\n",
    "def get_context_words(target_idx, sentence, num_context_words):\n",
    "    window_size = num_context_words // 2\n",
    "    \n",
    "    start = max(0, target_idx - window_size)\n",
    "    end = min(len(sentence), target_idx + window_size + 1)\n",
    "\n",
    "    contexts = []\n",
    "    weights = []\n",
    "\n",
    "    for i in range(start, end):\n",
    "        if i != target_idx:\n",
    "            contexts.append(vocab_idx[sentence[i]])\n",
    "            weights.append(1/abs(i-target_idx))\n",
    "    while len(contexts) < num_context_words:\n",
    "        contexts.append(vocab_size)\n",
    "    while len(weights) < num_context_words:\n",
    "        weights.append(vocab_size)\n",
    "    \n",
    "    return contexts, weights\n",
    "\n",
    "def get_context_words_equal_weights(target_idx, sentence, num_context_words):\n",
    "    window_size = num_context_words // 2\n",
    "    \n",
    "    start = max(0, target_idx - window_size)\n",
    "    end = min(len(sentence), target_idx + window_size + 1)\n",
    "\n",
    "    contexts = []\n",
    "    weights = []\n",
    "\n",
    "    for i in range(start, end):\n",
    "        if i != target_idx:\n",
    "            contexts.append(vocab_idx[sentence[i]])\n",
    "            weights.append(1)\n",
    "    while len(contexts) < num_context_words:\n",
    "        contexts.append(vocab_size)\n",
    "    while len(weights) < num_context_words:\n",
    "        weights.append(vocab_size)\n",
    "    \n",
    "    return contexts, weights\n",
    "\n",
    "# input: target word index in vocab_idx, number of unique words, number of negative samples, contexts output of get_context_words()\n",
    "# output: list of negative words index linked to vocab_idx\n",
    "def get_negative_samples(target, vocab_size, num_negative_samples, contexts):\n",
    "    negative_samples = set()\n",
    "    \n",
    "    while len(negative_samples) < num_negative_samples:\n",
    "        # Sample a random word from the vocabulary\n",
    "        neg_sample = np.random.randint(0, vocab_size)\n",
    "        # Ensure it's not the target word or context word\n",
    "        if neg_sample != target and neg_sample not in contexts:\n",
    "            negative_samples.add(neg_sample)\n",
    "    \n",
    "    return list(negative_samples)"
   ]
  },
  {
   "cell_type": "markdown",
   "metadata": {},
   "source": [
    "##### Gradient Descent & Backtracking Line Search"
   ]
  },
  {
   "cell_type": "code",
   "execution_count": 140,
   "metadata": {},
   "outputs": [],
   "source": [
    "def grad_descent(fn, initial_lr, beta, eta, W_in, W_out, batch_targets, batch_contexts, batch_neg_samples, batch_weights):\n",
    "    # Convert to array for it to work with jit.vmap\n",
    "    batch_targets = jnp.array(batch_targets)\n",
    "    batch_contexts = jnp.array(batch_contexts)\n",
    "    batch_neg_samples = jnp.array(batch_neg_samples)\n",
    "    batch_weights = jnp.array(batch_weights)\n",
    "    \n",
    "    # Get initial loss and gradient\n",
    "    initial_loss = fn(W_in, W_out, batch_targets, batch_contexts, batch_neg_samples, batch_weights)\n",
    "    gradients = jax.grad(fn, argnums=(0, 1))(W_in, W_out, batch_targets, batch_contexts, batch_neg_samples, batch_weights)\n",
    "\n",
    "    # Descent Direction for W_in and W_out\n",
    "    d_in, d_out = -gradients[0], -gradients[1]\n",
    "    lr = initial_lr\n",
    "\n",
    "    # Update embeddings\n",
    "    W_in += lr * d_in\n",
    "    W_out += lr * d_out\n",
    "\n",
    "    return W_in, W_out"
   ]
  },
  {
   "cell_type": "markdown",
   "metadata": {},
   "source": [
    "##### Loss Function"
   ]
  },
  {
   "cell_type": "code",
   "execution_count": 141,
   "metadata": {},
   "outputs": [],
   "source": [
    "# input: W_in, W_out, target word index in vocab_idx, contexts & weights output of get_context_words(), \n",
    "#   negative_samples output of get_negative_samples()\n",
    "# output: loss value\n",
    "@jax.jit\n",
    "def SGNS_single_loss_fn(W_in, W_out, target, contexts, negative_samples, weights):\n",
    "    # Get word embeddings\n",
    "    target_embedding = W_in[target]\n",
    "\n",
    "    pos_loss = 0\n",
    "    neg_loss = 0\n",
    "    \n",
    "    # Positive score\n",
    "    for idx, i in enumerate(contexts):\n",
    "        weight = weights[idx]\n",
    "        context_embedding = W_out[i]\n",
    "        positive_score = jnp.dot(context_embedding, target_embedding)\n",
    "        # Add 1e-10 to prevent log underflow\n",
    "        pos_loss += jnp.log(jax.nn.sigmoid(positive_score) + 1e-10) * weight\n",
    "\n",
    "    # Negative scores and loss\n",
    "    for j in negative_samples:\n",
    "        negative_embedding = W_out[j]\n",
    "        negative_scores = jnp.dot(-negative_embedding, target_embedding)\n",
    "        # Add 1e-10 to prevent log underflow\n",
    "        neg_loss += jnp.log(jax.nn.sigmoid(negative_scores) + 1e-10)\n",
    "\n",
    "    # Total loss is the sum of positive loss and negative loss\n",
    "    return -(pos_loss + neg_loss)\n",
    "\n",
    "SGNS_loss_batched = jax.jit(jax.vmap(SGNS_single_loss_fn, in_axes=(None, None, 0, 0, 0, 0)))\n",
    "\n",
    "@jax.jit\n",
    "def SGNS_batched_loss_fn(W_in, W_out, batch_targets, batch_contexts, batch_neg_samples, batch_weights):\n",
    "    individual_losses = SGNS_loss_batched(W_in, W_out, batch_targets, batch_contexts, batch_neg_samples, batch_weights)\n",
    "    return jnp.mean(individual_losses)\n",
    "\n",
    "SGNS_batched_loss_fn_jit = jax.jit(SGNS_batched_loss_fn)"
   ]
  },
  {
   "cell_type": "markdown",
   "metadata": {},
   "source": [
    "##### Model Training"
   ]
  },
  {
   "cell_type": "code",
   "execution_count": null,
   "metadata": {},
   "outputs": [],
   "source": [
    "# hyperparameters\n",
    "embedding_dim = 100\n",
    "num_negative_samples = 5\n",
    "num_context_words = 4\n",
    "num_epoch = 200\n",
    "batch_size = 128\n",
    "lr_max = 1e-1\n",
    "lr_min = 1e-5\n",
    "beta = 0.5\n",
    "eta = 0.1\n",
    "warmup_epochs = 40\n",
    "\n",
    "\n",
    "\n",
    "# Initiate W_in (for target) and W_out (for context and negative words) matrix\n",
    "# Add a 0 row in last row for target words with less than number of context words required e.g words as start & end of sentence\n",
    "W_in = jax.random.normal(jax.random.PRNGKey(0), (vocab_size, embedding_dim)) * 0.01\n",
    "W_in = jnp.vstack([W_in, jnp.zeros((1, embedding_dim))])\n",
    "W_out = jax.random.normal(jax.random.PRNGKey(1), (vocab_size, embedding_dim)) * 0.01\n",
    "W_out = jnp.vstack([W_out, jnp.zeros((1, embedding_dim))])\n",
    "\n",
    "context_dict = {}\n",
    "weight_dict = {}\n",
    "\n",
    "loss_history = []\n",
    "\n",
    "for epoch in range(num_epoch):\n",
    "    # Initiate for batch\n",
    "    batch_targets, batch_contexts, batch_neg_samples, batch_weights = [], [], [], []\n",
    "    \n",
    "    for sentence in subsampled_sentences:\n",
    "        for target_idx, word in enumerate(sentence):\n",
    "            target = vocab_idx[word]\n",
    "            \n",
    "            # Save context words and weights for future epoch\n",
    "            if epoch > 0:\n",
    "                contexts = context_dict[target]\n",
    "                weights = weight_dict[target]\n",
    "            else:\n",
    "                contexts, weights = get_context_words(target_idx, sentence, num_context_words)\n",
    "                context_dict[target] = contexts\n",
    "                weight_dict[target] = weights\n",
    "\n",
    "            # Get negative words\n",
    "            negative_samples = get_negative_samples(target, vocab_size, num_negative_samples, contexts)\n",
    "\n",
    "            # Add target, context, negative_samples, weights for batch\n",
    "            # Batch Targets Shape: (batch_size,)\n",
    "            batch_targets.append(target)\n",
    "            # Batch Contexts Shape: (batch_size, num_context_words)\n",
    "            batch_contexts.append(contexts)\n",
    "            # Batch Negative Samples Shape: (batch_size, num_negative_samples)\n",
    "            batch_neg_samples.append(negative_samples)\n",
    "            # Batch Weights Shape: (batch_size, num_context_words)\n",
    "            batch_weights.append(weights)\n",
    "            \n",
    "            lr = cosine_annealing_with_warmup(epoch, lr_max, lr_min, warmup_epochs, num_epoch)\n",
    "\n",
    "            if len(batch_targets) == batch_size:\n",
    "                W_in, W_out = \\\n",
    "                    grad_descent(SGNS_batched_loss_fn_jit, lr, beta, eta,\\\n",
    "                        W_in, W_out, batch_targets, batch_contexts, batch_neg_samples, batch_weights)\n",
    "\n",
    "                # Reset batches\n",
    "                batch_targets, batch_contexts, batch_neg_samples, batch_weights = [], [], [], []\n",
    "    \n",
    "    # Include last few words not enough to form batch\n",
    "    if len(batch_targets) != 0:\n",
    "        W_in, W_out = \\\n",
    "            grad_descent(SGNS_batched_loss_fn_jit, lr, beta, eta,\\\n",
    "                W_in, W_out, batch_targets, batch_contexts, batch_neg_samples, batch_weights)        "
   ]
  },
  {
   "cell_type": "markdown",
   "metadata": {},
   "source": [
    "##### Model Testing"
   ]
  },
  {
   "cell_type": "code",
   "execution_count": null,
   "metadata": {},
   "outputs": [
    {
     "name": "stdout",
     "output_type": "stream",
     "text": [
      "Warning: One of the words 'king' or 'queen' is not in the vocabulary.\n",
      "Warning: One of the words 'king' or 'man' is not in the vocabulary.\n",
      "Warning: One of the words 'apple' or 'fruit' is not in the vocabulary.\n",
      "Warning: One of the words 'mother' or 'father' is not in the vocabulary.\n",
      "Warning: One of the words 'son' or 'daugther' is not in the vocabulary.\n",
      "Warning: One of the words 'mother' or 'daughter' is not in the vocabulary.\n",
      "Cosine similarity between 'man' and 'woman': 0.0505\n",
      "Cosine similarity between 'father' and 'son': 0.3550\n",
      "Cosine similarity between 'teacher' and 'school': 0.9916\n",
      "Cosine similarity between 'school' and 'principal': 0.0685\n",
      "Cosine similarity between 'principal' and 'teacher': 0.0634\n",
      "Cosine similarity between 'teacher' and 'father': 0.3743\n"
     ]
    }
   ],
   "source": [
    "# Example word pairs and their expected similarities\n",
    "\n",
    "# Function to evaluate similarities using W_out\n",
    "def evaluate_similarity(vocab_idx, W_out, word_pairs):\n",
    "    scores = []\n",
    "    for word1, word2 in word_pairs:\n",
    "        if word1 in vocab_idx and word2 in vocab_idx:\n",
    "            vec1 = W_out[vocab_idx[word1]]  # Get the output embedding for word1\n",
    "            vec2 = W_out[vocab_idx[word2]]  # Get the output embedding for word2\n",
    "            cos_sim = cosine_similarity(vec1, vec2)\n",
    "            scores.append((word1, word2, cos_sim))\n",
    "        else:\n",
    "            print(f\"Warning: One of the words '{word1}' or '{word2}' is not in the vocabulary.\")\n",
    "    \n",
    "    return scores\n",
    "\n",
    "# Run the evaluation\n",
    "similarity_scores = evaluate_similarity(vocab_idx, W_in, word_pairs)\n",
    "\n",
    "# Print results\n",
    "for word1, word2, sim in similarity_scores:\n",
    "    print(f\"Cosine similarity between '{word1}' and '{word2}': {sim:.4f}\")"
   ]
  },
  {
   "cell_type": "code",
   "execution_count": null,
   "metadata": {},
   "outputs": [
    {
     "data": {
      "text/plain": [
       "[('school', 1.0),\n",
       " ('floated', 0.9924348),\n",
       " ('recommend', 0.9922697),\n",
       " ('better', 0.9921421),\n",
       " ('term', 0.99211556),\n",
       " ('mentioned', 0.9918831),\n",
       " ('rachel', 0.99181896),\n",
       " ('phoned', 0.99180394),\n",
       " ('mckinley', 0.9916747),\n",
       " ('teacher', 0.9916119)]"
      ]
     },
     "execution_count": 144,
     "metadata": {},
     "output_type": "execute_result"
    }
   ],
   "source": [
    "target_vec = get_word_embedding(\"school\", vocab_idx, W_in)\n",
    "find_similar_words(target_vec, W_in, vocab_idx)[:10]"
   ]
  },
  {
   "cell_type": "markdown",
   "metadata": {},
   "source": [
    "# Ignore"
   ]
  },
  {
   "cell_type": "markdown",
   "metadata": {},
   "source": [
    "#####  Skip-Gram with Hierarchical Softmax"
   ]
  },
  {
   "cell_type": "markdown",
   "metadata": {},
   "source": [
    "Hierarchical Softmax is an alternative to Negative Sampling, where the softmax function is approximated using a binary tree. The loss function is structured similarly to SGNS but involves traversing the binary tree structure and computing a conditional probability at each node.\n",
    "\n",
    "In this case, the loss function minimizes the difference between the predicted probability and the actual label for each word pair, traversing the tree for each prediction. The key idea is to reduce the computational complexity of softmax when dealing with a large vocabulary."
   ]
  },
  {
   "cell_type": "code",
   "execution_count": null,
   "metadata": {},
   "outputs": [],
   "source": []
  },
  {
   "cell_type": "markdown",
   "metadata": {},
   "source": [
    "#### Continuous Bag of Words (CBOW) model"
   ]
  },
  {
   "cell_type": "markdown",
   "metadata": {},
   "source": [
    "In CBOW, the objective is to predict the target word ​$w_t$ given the context words $w_c$. "
   ]
  },
  {
   "cell_type": "markdown",
   "metadata": {},
   "source": [
    "#####  CBOW with Negative Sampling\n"
   ]
  },
  {
   "cell_type": "markdown",
   "metadata": {},
   "source": [
    "The model takes the average of the context word embeddings and tries to predict the target word. The loss function for CBOW with Negative Sampling is also binary cross-entropy but formulated slightly differently due to the averaging of context word embeddings.\n",
    "\n",
    "The loss function is\n",
    "$$ L = - \\left[ \\log \\sigma \\left( \\langle v_{w_t}, v_C \\rangle \\right) \n",
    "             +  \\sum_{w_n \\in \\text{negatives}} \\log \\sigma \\left( \\langle -v_{w_n}, v_C \\rangle \\right) \\right] $$  \n",
    "where \n",
    "$$ v_C = \\frac{1}{|C|} \\sum_{w_c \\in C} v_{w_c} $$"
   ]
  },
  {
   "cell_type": "markdown",
   "metadata": {},
   "source": [
    "##### Loss Function"
   ]
  },
  {
   "cell_type": "code",
   "execution_count": null,
   "metadata": {},
   "outputs": [],
   "source": [
    "# input: W_in, W_out, target word index in vocab_idx, contexts & weights output of get_context_words(), \n",
    "#   negative_samples output of get_negative_samples()\n",
    "# output: loss value\n",
    "@jax.jit\n",
    "def CBOW_single_loss_fn(W_in, W_out, target, contexts, negative_samples, weights):\n",
    "    # Get word embeddings\n",
    "    target_embedding = W_in[target]\n",
    "\n",
    "    neg_loss = 0\n",
    "    \n",
    "    # Get mean context vector\n",
    "    context_total = jnp.zeros((1, embedding_dim))\n",
    "    for idx, i in enumerate(contexts):\n",
    "        weight = weights[idx]\n",
    "        context_embedding = W_out[i]\n",
    "        context_total += weight * context_embedding\n",
    "    context_mean = context_total/(idx+1)\n",
    "    \n",
    "    # Positive score\n",
    "    positive_score = jnp.dot(context_mean, target_embedding)\n",
    "    pos_loss = jnp.log(jax.nn.sigmoid(positive_score)) * weight\n",
    "\n",
    "    # Negative scores and loss\n",
    "    for j in negative_samples:\n",
    "        negative_embedding = W_out[j]\n",
    "        negative_scores = jnp.dot(context_mean, -negative_embedding)\n",
    "        neg_loss += jnp.log(jax.nn.sigmoid(negative_scores))\n",
    "\n",
    "    # Total loss is the sum of positive loss and negative loss\n",
    "    return -(pos_loss + neg_loss)\n",
    "\n",
    "CBOW_loss_batched = jax.jit(jax.vmap(CBOW_single_loss_fn, in_axes=(None, None, 0, 0, 0, 0)))\n",
    "\n",
    "@jax.jit\n",
    "def CBOW_batched_loss_fn(W_in, W_out, batch_targets, batch_contexts, batch_neg_samples, batch_weights):\n",
    "    individual_losses = CBOW_loss_batched(W_in, W_out, batch_targets, batch_contexts, batch_neg_samples, batch_weights)\n",
    "    return jnp.mean(individual_losses)\n",
    "\n",
    "CBOW_batched_loss_fn_jit = jax.jit(CBOW_batched_loss_fn)"
   ]
  },
  {
   "cell_type": "markdown",
   "metadata": {},
   "source": [
    "##### Model Training"
   ]
  },
  {
   "cell_type": "code",
   "execution_count": null,
   "metadata": {},
   "outputs": [],
   "source": [
    "# hyperparameters\n",
    "embedding_dim = 100\n",
    "num_negative_samples = 5\n",
    "num_context_words = 4\n",
    "num_epoch = 10\n",
    "batch_size = 128\n",
    "\n",
    "initial_lr = 1.0\n",
    "beta = 0.5\n",
    "eta = 0.1\n",
    "\n",
    "# Initiate W_in (for target) and W_out (for context and negative words) matrix\n",
    "# Add a 0 row in last row for target words with less than number of context words required e.g words as start & end of sentence\n",
    "W_in = jax.random.normal(jax.random.PRNGKey(0), (vocab_size, embedding_dim)) * 0.01\n",
    "W_in = jnp.vstack([W_in, jnp.zeros((1, embedding_dim))])\n",
    "W_out = jax.random.normal(jax.random.PRNGKey(1), (vocab_size, embedding_dim)) * 0.01\n",
    "W_out = jnp.vstack([W_out, jnp.zeros((1, embedding_dim))])\n",
    "\n",
    "context_dict = {}\n",
    "weight_dict = {}\n",
    "\n",
    "for epoch in range(num_epoch):\n",
    "    # Initiate for batch\n",
    "    batch_targets, batch_contexts, batch_neg_samples, batch_weights = [], [], [], []\n",
    "    for sentence in filtered_stopwords_sentences:\n",
    "        for target_idx, word in enumerate(sentence):\n",
    "            target = vocab_idx[word]\n",
    "            \n",
    "            # Save context words and weights for future epoch\n",
    "            if epoch > 0:\n",
    "                contexts = context_dict[target]\n",
    "                weights = weight_dict[target]\n",
    "            else:\n",
    "                contexts, weights = get_context_words(target_idx, sentence, num_context_words)\n",
    "                context_dict[target] = contexts\n",
    "                weight_dict[target] = weights\n",
    "\n",
    "            # Get negative words\n",
    "            negative_samples = get_negative_samples(target, vocab_size, num_negative_samples, contexts)\n",
    "\n",
    "            # Add target, context, negative_samples, weights for batch\n",
    "            # Batch Targets Shape: (batch_size,)\n",
    "            batch_targets.append(target)\n",
    "            # Batch Contexts Shape: (batch_size, num_context_words)\n",
    "            batch_contexts.append(contexts)\n",
    "            # Batch Negative Samples Shape: (batch_size, num_negative_samples)\n",
    "            batch_neg_samples.append(negative_samples)\n",
    "            # Batch Weights Shape: (batch_size, num_context_words)\n",
    "            batch_weights.append(weights)\n",
    "\n",
    "            if len(batch_targets) == batch_size:\n",
    "                W_in, W_out = \\\n",
    "                    grad_descent(CBOW_batched_loss_fn_jit, initial_lr, beta, eta,\\\n",
    "                        W_in, W_out, batch_targets, batch_contexts, batch_neg_samples, batch_weights)\n",
    "\n",
    "                # Reset batches\n",
    "                batch_targets, batch_contexts, batch_neg_samples, batch_weights = [], [], [], []\n",
    "    \n",
    "    # Include last few words not enough to form batch\n",
    "    if len(batch_targets) != 0:\n",
    "        W_in, W_out = \\\n",
    "            grad_descent(CBOW_batched_loss_fn_jit, initial_lr, beta, eta,\\\n",
    "                W_in, W_out, batch_targets, batch_contexts, batch_neg_samples, batch_weights)"
   ]
  },
  {
   "cell_type": "markdown",
   "metadata": {},
   "source": [
    "##### Model Testing"
   ]
  },
  {
   "cell_type": "code",
   "execution_count": null,
   "metadata": {},
   "outputs": [
    {
     "name": "stdout",
     "output_type": "stream",
     "text": [
      "Warning: One of the words 'apple' or 'fruit' is not in the vocabulary.\n",
      "Cosine similarity between 'king' and 'queen': -0.0612\n",
      "Cosine similarity between 'man' and 'woman': 0.0513\n",
      "Cosine similarity between 'king' and 'man': 0.1846\n"
     ]
    }
   ],
   "source": [
    "import jax.numpy as jnp\n",
    "\n",
    "# Function to compute cosine similarity using JAX\n",
    "def cosine_similarity(vec1, vec2):\n",
    "    dot_product = jnp.dot(vec1, vec2)\n",
    "    norm_a = jnp.linalg.norm(vec1)\n",
    "    norm_b = jnp.linalg.norm(vec2)\n",
    "    if norm_a == 0 or norm_b == 0:  # Prevent division by zero\n",
    "        return 0.0\n",
    "    return dot_product / (norm_a * norm_b)\n",
    "\n",
    "# Example word pairs and their expected similarities\n",
    "word_pairs = [\n",
    "    ('king', 'queen'),  # Expect high similarity\n",
    "    ('man', 'woman'),   # Expect high similarity\n",
    "    ('king', 'man'),    # Moderate similarity\n",
    "    ('apple', 'fruit'),  # Depending on your vocabulary, could expect a similarity\n",
    "]\n",
    "\n",
    "# Function to evaluate similarities using W_out\n",
    "def evaluate_similarity(vocab_idx, W_out, word_pairs):\n",
    "    scores = []\n",
    "    for word1, word2 in word_pairs:\n",
    "        if word1 in vocab_idx and word2 in vocab_idx:\n",
    "            vec1 = W_out[vocab_idx[word1]]  # Get the output embedding for word1\n",
    "            vec2 = W_out[vocab_idx[word2]]  # Get the output embedding for word2\n",
    "            cos_sim = cosine_similarity(vec1, vec2)\n",
    "            scores.append((word1, word2, cos_sim))\n",
    "        else:\n",
    "            print(f\"Warning: One of the words '{word1}' or '{word2}' is not in the vocabulary.\")\n",
    "    \n",
    "    return scores\n",
    "\n",
    "# Run the evaluation\n",
    "similarity_scores = evaluate_similarity(vocab_idx, W_out, word_pairs)\n",
    "\n",
    "# Print results\n",
    "for word1, word2, sim in similarity_scores:\n",
    "    print(f\"Cosine similarity between '{word1}' and '{word2}': {sim:.4f}\")"
   ]
  },
  {
   "cell_type": "markdown",
   "metadata": {},
   "source": [
    "##### CBOW with Hierarchical Softmax"
   ]
  },
  {
   "cell_type": "markdown",
   "metadata": {},
   "source": [
    "Like in Skip-Gram, CBOW can also use hierarchical softmax as an alternative to Negative Sampling, traversing a binary tree to approximate the softmax function."
   ]
  },
  {
   "cell_type": "code",
   "execution_count": null,
   "metadata": {},
   "outputs": [],
   "source": []
  },
  {
   "cell_type": "markdown",
   "metadata": {},
   "source": [
    "### GloVe: Global Vectors for Word Representation"
   ]
  },
  {
   "cell_type": "code",
   "execution_count": null,
   "metadata": {},
   "outputs": [],
   "source": [
    "corpus = brown.sents(categories=\"news\")"
   ]
  },
  {
   "cell_type": "code",
   "execution_count": null,
   "metadata": {},
   "outputs": [],
   "source": [
    "# lower case all words, remove all punctuations and stop words\n",
    "def preprocess_sentence(sentence):\n",
    "    return [word.lower() for word in sentence if word.lower() not in stopwords and word not in punctuation]\n",
    "\n",
    "corpus_preprocessed = [preprocess_sentence(sentence) for sentence in corpus]\n",
    "corpus_preprocessed[0]"
   ]
  },
  {
   "cell_type": "markdown",
   "metadata": {},
   "source": [
    "Building Co-occurrence Matrix"
   ]
  },
  {
   "cell_type": "code",
   "execution_count": null,
   "metadata": {},
   "outputs": [],
   "source": [
    "from collections import defaultdict\n",
    "import numpy as np\n",
    "\n",
    "# Window size for Co-occurrence matrix - 2 words before, 2 words after\n",
    "window_size = 2\n",
    "\n",
    "# Build co-occurrence matrix\n",
    "def build_cooccurrence_matrix(corpus_preprocessed, vocab_idx, window_size):\n",
    "    cooccurrence_matrix = defaultdict(lambda: defaultdict(float))\n",
    "    \n",
    "    for sentence in corpus_preprocessed:\n",
    "        sentence_length = len(sentence)\n",
    "        for i, word in enumerate(sentence):\n",
    "            word_idx = vocab_idx[word]\n",
    "            # Context window\n",
    "            start = max(0, i - window_size)\n",
    "            end = min(sentence_length, i + window_size + 1)\n",
    "            \n",
    "            for j in range(start, end):\n",
    "                # Skip target word\n",
    "                if i != j:\n",
    "                    context_word = sentence[j]\n",
    "                    context_word_idx = vocab_idx[context_word]\n",
    "                    # Increment the co-occurrence count with inverse distance weighting\n",
    "                    cooccurrence_matrix[word_idx][context_word_idx] += 1.0 / abs(i - j)\n",
    "    return cooccurrence_matrix\n",
    "\n",
    "cooccurrence_matrix = build_cooccurrence_matrix(corpus_preprocessed, vocab_idx, window_size)\n",
    "cooccurrence_matrix[0]"
   ]
  },
  {
   "cell_type": "code",
   "execution_count": null,
   "metadata": {},
   "outputs": [],
   "source": [
    "# hyperparameters\n",
    "x_max = 100\n",
    "alpha = 0.75\n",
    "embedding_dim = 50\n",
    "\n",
    "# Initialize word vectors and bias\n",
    "key = jax.random.PRNGKey(0)\n",
    "v = jax.random.normal(key, (vocab_size, embedding_dim))\n",
    "key, subkey = jax.random.split(key)\n",
    "v_tilde = jax.random.normal(subkey, (vocab_size, embedding_dim))\n",
    "bias = jnp.zeros(vocab_size)\n",
    "bias_tilde = jnp.zeros(vocab_size)"
   ]
  },
  {
   "cell_type": "code",
   "execution_count": null,
   "metadata": {},
   "outputs": [],
   "source": [
    "# weight function\n",
    "def f(x):\n",
    "    return jax.minimum(1.0, (x/x_max)**alpha)\n",
    "\n",
    "# loss function\n",
    "def gLove_loss(v, v_tilde, bias, bias_tilde, cooccurrence_matrix):\n",
    "    loss = 0.0\n",
    "    for word in cooccurrence_matrix:\n",
    "        for context_word in cooccurrence_matrix[word]:\n",
    "            X_ij = cooccurrence_matrix[word][context_word]\n",
    "            weight = f(X_ij)\n",
    "            diff = jnp.dot(v[word], v_tilde[context_word]) + bias[word] + bias_tilde[context_word] - jnp.log(X_ij)\n",
    "            loss += weight * diff**2\n",
    "    return loss"
   ]
  }
 ],
 "metadata": {
  "kernelspec": {
   "display_name": "Python 3",
   "language": "python",
   "name": "python3"
  },
  "language_info": {
   "codemirror_mode": {
    "name": "ipython",
    "version": 3
   },
   "file_extension": ".py",
   "mimetype": "text/x-python",
   "name": "python",
   "nbconvert_exporter": "python",
   "pygments_lexer": "ipython3",
   "version": "3.10.6"
  }
 },
 "nbformat": 4,
 "nbformat_minor": 2
}
