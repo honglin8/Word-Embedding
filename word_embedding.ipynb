{
 "cells": [
  {
   "cell_type": "markdown",
   "metadata": {},
   "source": [
    "## Word Embeddings"
   ]
  },
  {
   "cell_type": "markdown",
   "metadata": {},
   "source": [
    "Goal: Implement a simple word embedding in Python (from scratch) and use it to find the most similar words to a given word. Come up with a dataset and evaluation metrics to evaluate the word embeddings."
   ]
  },
  {
   "cell_type": "code",
   "execution_count": 19,
   "metadata": {},
   "outputs": [],
   "source": [
    "import time\n",
    "import jax\n",
    "import jax.numpy as jnp\n",
    "import numpy as np\n",
    "from matplotlib import pyplot as plt"
   ]
  },
  {
   "cell_type": "markdown",
   "metadata": {},
   "source": [
    "### Downloading NLTK's stopwords"
   ]
  },
  {
   "cell_type": "code",
   "execution_count": 2,
   "metadata": {},
   "outputs": [
    {
     "name": "stdout",
     "output_type": "stream",
     "text": [
      "{'had', 'your', 'you', 'the', 'having', 'my', 'he', 'where', 'off', 'such', 'isn', 'all', 'for', 'shan', 'him', 'been', 'm', 'was', \"aren't\", 'yourself', \"wasn't\", 'mightn', 'yours', 'up', 'mustn', 'itself', \"weren't\", 'most', 'same', 'wouldn', 'down', 'll', \"wouldn't\", 're', 'themselves', 'does', 'are', \"hadn't\", 'then', 'when', 'or', \"isn't\", 'each', 'under', 'did', 'be', 'those', 'because', 'can', 'theirs', 'we', 'against', 'through', 'were', 'whom', 't', 'once', 'am', 'me', 'should', \"doesn't\", 'ma', 'other', 'just', \"you'll\", 'aren', 'after', 'her', 'herself', \"it's\", 've', 'myself', 'in', 'at', 'these', 'have', 'before', 'who', 'y', 'don', 'very', 'hers', 'they', 'but', 'by', 'here', 'no', 'hadn', \"shouldn't\", 's', 'is', 'our', 'that', 'it', 'again', 'of', \"should've\", 'how', 'doesn', 'out', 'o', 'do', 'being', \"you'd\", 'd', \"won't\", 'over', 'both', \"you've\", 'their', 'she', 'yourselves', 'nor', 'few', 'will', 'between', 'couldn', 'and', \"mustn't\", 'why', 'some', 'below', 'with', 'i', \"she's\", 'about', \"don't\", 'this', 'haven', \"that'll\", 'wasn', 'shouldn', 'a', \"shan't\", 'doing', 'to', 'them', 'his', 'has', 'didn', 'any', 'needn', 'hasn', 'on', 'into', 'so', \"hasn't\", \"haven't\", 'won', 'not', 'as', 'than', 'himself', \"you're\", 'above', 'from', 'more', 'weren', 'which', 'ain', 'ourselves', 'while', \"mightn't\", 'ours', 'during', \"needn't\", 'too', 'further', 'own', 'what', 'if', 'now', 'only', 'its', 'until', \"couldn't\", 'there', \"didn't\", 'an'}\n"
     ]
    }
   ],
   "source": [
    "import nltk\n",
    "# nltk.download(\"stopwords\") # Uncomment this line to download the stopwords\n",
    "from nltk.corpus import stopwords\n",
    "\n",
    "stopwords = set(stopwords.words('english'))\n",
    "print(stopwords)"
   ]
  },
  {
   "cell_type": "markdown",
   "metadata": {},
   "source": [
    "### Downloading Brown Corpus"
   ]
  },
  {
   "cell_type": "markdown",
   "metadata": {},
   "source": [
    "The Brown Corpus was the first million-word electronic corpus of English, created in 1961 at Brown University. This corpus contains text from 500 sources, and the sources have been categorized by genre, such as news, editorial, and so on."
   ]
  },
  {
   "cell_type": "code",
   "execution_count": 3,
   "metadata": {},
   "outputs": [],
   "source": [
    "# nltk.download(\"brown\") # Uncomment this line to download the brown corpus\n",
    "from nltk.corpus import brown"
   ]
  },
  {
   "cell_type": "code",
   "execution_count": 4,
   "metadata": {},
   "outputs": [
    {
     "data": {
      "text/plain": [
       "['adventure',\n",
       " 'belles_lettres',\n",
       " 'editorial',\n",
       " 'fiction',\n",
       " 'government',\n",
       " 'hobbies',\n",
       " 'humor',\n",
       " 'learned',\n",
       " 'lore',\n",
       " 'mystery',\n",
       " 'news',\n",
       " 'religion',\n",
       " 'reviews',\n",
       " 'romance',\n",
       " 'science_fiction']"
      ]
     },
     "execution_count": 4,
     "metadata": {},
     "output_type": "execute_result"
    }
   ],
   "source": [
    "# Show the categories of the brown corpus \n",
    "brown.categories()"
   ]
  },
  {
   "cell_type": "code",
   "execution_count": 5,
   "metadata": {},
   "outputs": [
    {
     "name": "stdout",
     "output_type": "stream",
     "text": [
      "Number of sentences: 4249\n",
      "Sentence 0: ['Thirty-three']\n",
      "Sentence 1: ['Scotty', 'did', 'not', 'go', 'back', 'to', 'school', '.']\n",
      "Sentence 2: ['His', 'parents', 'talked', 'seriously', 'and', 'lengthily', 'to', 'their', 'own', 'doctor', 'and', 'to', 'a', 'specialist', 'at', 'the', 'University', 'Hospital', '--', 'Mr.', 'McKinley', 'was', 'entitled', 'to', 'a', 'discount', 'for', 'members', 'of', 'his', 'family', '--', 'and', 'it', 'was', 'decided', 'it', 'would', 'be', 'best', 'for', 'him', 'to', 'take', 'the', 'remainder', 'of', 'the', 'term', 'off', ',', 'spend', 'a', 'lot', 'of', 'time', 'in', 'bed', 'and', ',', 'for', 'the', 'rest', ',', 'do', 'pretty', 'much', 'as', 'he', 'chose', '--', 'provided', ',', 'of', 'course', ',', 'he', 'chose', 'to', 'do', 'nothing', 'too', 'exciting', 'or', 'too', 'debilitating', '.']\n",
      "Sentence 3: ['His', 'teacher', 'and', 'his', 'school', 'principal', 'were', 'conferred', 'with', 'and', 'everyone', 'agreed', 'that', ',', 'if', 'he', 'kept', 'up', 'with', 'a', 'certain', 'amount', 'of', 'work', 'at', 'home', ',', 'there', 'was', 'little', 'danger', 'of', 'his', 'losing', 'a', 'term', '.']\n",
      "Sentence 4: ['Scotty', 'accepted', 'the', 'decision', 'with', 'indifference', 'and', 'did', 'not', 'enter', 'the', 'arguments', '.']\n"
     ]
    }
   ],
   "source": [
    "# Get the sentences from the \"fiction\" category\n",
    "sentences = brown.sents(categories=\"fiction\")\n",
    "\n",
    "# Number of sentences\n",
    "print(f\"Number of sentences: {len(sentences)}\")\n",
    "\n",
    "# Print the first 5 sentences\n",
    "for i in range(5):\n",
    "    print(f\"Sentence {i}: {sentences[i]}\")"
   ]
  },
  {
   "cell_type": "code",
   "execution_count": 6,
   "metadata": {},
   "outputs": [
    {
     "name": "stdout",
     "output_type": "stream",
     "text": [
      "Filtered sentence 0: []\n",
      "Filtered sentence 1: ['scotty', 'did', 'not', 'go', 'back', 'to', 'school']\n",
      "Filtered sentence 2: ['his', 'parents', 'talked', 'seriously', 'and', 'lengthily', 'to', 'their', 'own', 'doctor', 'and', 'to', 'a', 'specialist', 'at', 'the', 'university', 'hospital', 'mckinley', 'was', 'entitled', 'to', 'a', 'discount', 'for', 'members', 'of', 'his', 'family', 'and', 'it', 'was', 'decided', 'it', 'would', 'be', 'best', 'for', 'him', 'to', 'take', 'the', 'remainder', 'of', 'the', 'term', 'off', 'spend', 'a', 'lot', 'of', 'time', 'in', 'bed', 'and', 'for', 'the', 'rest', 'do', 'pretty', 'much', 'as', 'he', 'chose', 'provided', 'of', 'course', 'he', 'chose', 'to', 'do', 'nothing', 'too', 'exciting', 'or', 'too', 'debilitating']\n",
      "Filtered sentence 3: ['his', 'teacher', 'and', 'his', 'school', 'principal', 'were', 'conferred', 'with', 'and', 'everyone', 'agreed', 'that', 'if', 'he', 'kept', 'up', 'with', 'a', 'certain', 'amount', 'of', 'work', 'at', 'home', 'there', 'was', 'little', 'danger', 'of', 'his', 'losing', 'a', 'term']\n",
      "Filtered sentence 4: ['scotty', 'accepted', 'the', 'decision', 'with', 'indifference', 'and', 'did', 'not', 'enter', 'the', 'arguments']\n"
     ]
    }
   ],
   "source": [
    "# Filter out non-alphanumeric words and convert to lowercase\n",
    "filtered_sentences = []\n",
    "\n",
    "for sent in sentences:\n",
    "    filtered_sent = [word.lower() for word in sent if word.isalnum()]\n",
    "    filtered_sentences.append(filtered_sent)\n",
    "\n",
    "# Print the first 5 sentences\n",
    "for i in range(5):\n",
    "    print(f\"Filtered sentence {i}: {filtered_sentences[i]}\")"
   ]
  },
  {
   "cell_type": "markdown",
   "metadata": {},
   "source": [
    "## Word Embeddings"
   ]
  },
  {
   "cell_type": "markdown",
   "metadata": {},
   "source": [
    "Goal: Implement a simple word embedding in Python (from scratch) and use it to find the most similar words to a given word. Come up with a dataset and evaluation metrics to evaluate the word embeddings."
   ]
  },
  {
   "cell_type": "code",
   "execution_count": null,
   "metadata": {},
   "outputs": [],
   "source": [
    "import time\n",
    "import jax\n",
    "import jax.numpy as jnp\n",
    "import numpy as np\n",
    "from matplotlib import pyplot as plt"
   ]
  },
  {
   "cell_type": "markdown",
   "metadata": {},
   "source": [
    "### Downloading NLTK's stopwords"
   ]
  },
  {
   "cell_type": "code",
   "execution_count": null,
   "metadata": {},
   "outputs": [
    {
     "name": "stdout",
     "output_type": "stream",
     "text": [
      "{'once', 't', 're', 'why', 'shouldn', \"she's\", 'if', 'that', 'wouldn', 'what', 'so', 'each', \"mightn't\", 'against', 'are', \"you'll\", 'myself', 's', 'under', 'no', \"you're\", 'yourself', 'into', 'further', 'won', 'theirs', 'any', 'you', 'few', 'too', 'here', 'your', 'wasn', 'd', 'was', 'below', \"didn't\", \"don't\", 'not', \"mustn't\", 'ain', 'she', 'themselves', 'other', 'while', 'again', \"couldn't\", 'as', 'own', 'should', \"you'd\", 'herself', 'aren', \"aren't\", 'mustn', 'those', 'until', 'who', 'me', 'both', 'such', 'doesn', 'between', 'ourselves', 'isn', 'up', 'of', 'hers', \"that'll\", 'this', 'its', \"won't\", 'whom', 'yourselves', 'their', 'does', 'were', 'by', 'do', 'did', 'all', \"isn't\", 'during', 'can', 'he', 'at', 'but', 'because', 'off', 'after', 'they', 'how', 'be', 'over', 'most', 'when', 'the', 'from', 'm', \"shouldn't\", \"wouldn't\", 'yours', 'shan', 'where', 'more', 'having', 'haven', 'll', 'ours', 'my', 'her', 'itself', 'now', 'his', 'through', 'couldn', 'or', 'on', 'been', 'o', 'and', \"hadn't\", 've', 'we', 'same', 'just', 'about', 'it', 'don', \"needn't\", 'down', 'out', 'an', \"hasn't\", 'above', 'nor', 'needn', 'very', 'i', \"it's\", 'doing', \"haven't\", 'before', 'for', 'y', \"should've\", 'have', \"weren't\", 'hasn', 'will', \"wasn't\", 'him', 'has', 'some', 'mightn', 'only', \"shan't\", 'is', 'than', 'hadn', 'ma', 'them', 'with', 'weren', 'a', 'to', 'there', 'didn', 'had', \"you've\", \"doesn't\", 'being', 'our', 'then', 'am', 'these', 'which', 'himself', 'in'}\n"
     ]
    }
   ],
   "source": [
    "import nltk\n",
    "# nltk.download(\"stopwords\") # Uncomment this line to download the stopwords\n",
    "from nltk.corpus import stopwords\n",
    "\n",
    "stopwords = set(stopwords.words('english'))\n",
    "print(stopwords)"
   ]
  },
  {
   "cell_type": "markdown",
   "metadata": {},
   "source": [
    "### Downloading Brown Corpus"
   ]
  },
  {
   "cell_type": "markdown",
   "metadata": {},
   "source": [
    "The Brown Corpus was the first million-word electronic corpus of English, created in 1961 at Brown University. This corpus contains text from 500 sources, and the sources have been categorized by genre, such as news, editorial, and so on."
   ]
  },
  {
   "cell_type": "code",
   "execution_count": null,
   "metadata": {},
   "outputs": [],
   "source": [
    "# nltk.download(\"brown\") # Uncomment this line to download the brown corpus\n",
    "from nltk.corpus import brown"
   ]
  },
  {
   "cell_type": "code",
   "execution_count": null,
   "metadata": {},
   "outputs": [
    {
     "data": {
      "text/plain": [
       "['adventure',\n",
       " 'belles_lettres',\n",
       " 'editorial',\n",
       " 'fiction',\n",
       " 'government',\n",
       " 'hobbies',\n",
       " 'humor',\n",
       " 'learned',\n",
       " 'lore',\n",
       " 'mystery',\n",
       " 'news',\n",
       " 'religion',\n",
       " 'reviews',\n",
       " 'romance',\n",
       " 'science_fiction']"
      ]
     },
     "metadata": {},
     "output_type": "display_data"
    }
   ],
   "source": [
    "# Show the categories of the brown corpus \n",
    "brown.categories()"
   ]
  },
  {
   "cell_type": "code",
   "execution_count": null,
   "metadata": {},
   "outputs": [
    {
     "name": "stdout",
     "output_type": "stream",
     "text": [
      "Number of sentences: 4249\n",
      "Sentence 0: ['Thirty-three']\n",
      "Sentence 1: ['Scotty', 'did', 'not', 'go', 'back', 'to', 'school', '.']\n",
      "Sentence 2: ['His', 'parents', 'talked', 'seriously', 'and', 'lengthily', 'to', 'their', 'own', 'doctor', 'and', 'to', 'a', 'specialist', 'at', 'the', 'University', 'Hospital', '--', 'Mr.', 'McKinley', 'was', 'entitled', 'to', 'a', 'discount', 'for', 'members', 'of', 'his', 'family', '--', 'and', 'it', 'was', 'decided', 'it', 'would', 'be', 'best', 'for', 'him', 'to', 'take', 'the', 'remainder', 'of', 'the', 'term', 'off', ',', 'spend', 'a', 'lot', 'of', 'time', 'in', 'bed', 'and', ',', 'for', 'the', 'rest', ',', 'do', 'pretty', 'much', 'as', 'he', 'chose', '--', 'provided', ',', 'of', 'course', ',', 'he', 'chose', 'to', 'do', 'nothing', 'too', 'exciting', 'or', 'too', 'debilitating', '.']\n",
      "Sentence 3: ['His', 'teacher', 'and', 'his', 'school', 'principal', 'were', 'conferred', 'with', 'and', 'everyone', 'agreed', 'that', ',', 'if', 'he', 'kept', 'up', 'with', 'a', 'certain', 'amount', 'of', 'work', 'at', 'home', ',', 'there', 'was', 'little', 'danger', 'of', 'his', 'losing', 'a', 'term', '.']\n",
      "Sentence 4: ['Scotty', 'accepted', 'the', 'decision', 'with', 'indifference', 'and', 'did', 'not', 'enter', 'the', 'arguments', '.']\n"
     ]
    }
   ],
   "source": [
    "# Get the sentences from the \"fiction\" category\n",
    "sentences = brown.sents(categories=\"fiction\")\n",
    "\n",
    "# Number of sentences\n",
    "print(f\"Number of sentences: {len(sentences)}\")\n",
    "\n",
    "# Print the first 5 sentences\n",
    "for i in range(5):\n",
    "    print(f\"Sentence {i}: {sentences[i]}\")"
   ]
  },
  {
   "cell_type": "code",
   "execution_count": null,
   "metadata": {},
   "outputs": [
    {
     "name": "stdout",
     "output_type": "stream",
     "text": [
      "Filtered sentence 0: ['scotty', 'did', 'not', 'go', 'back', 'to', 'school']\n",
      "Filtered sentence 1: ['his', 'parents', 'talked', 'seriously', 'and', 'lengthily', 'to', 'their', 'own', 'doctor', 'and', 'to', 'a', 'specialist', 'at', 'the', 'university', 'hospital', 'mckinley', 'was', 'entitled', 'to', 'a', 'discount', 'for', 'members', 'of', 'his', 'family', 'and', 'it', 'was', 'decided', 'it', 'would', 'be', 'best', 'for', 'him', 'to', 'take', 'the', 'remainder', 'of', 'the', 'term', 'off', 'spend', 'a', 'lot', 'of', 'time', 'in', 'bed', 'and', 'for', 'the', 'rest', 'do', 'pretty', 'much', 'as', 'he', 'chose', 'provided', 'of', 'course', 'he', 'chose', 'to', 'do', 'nothing', 'too', 'exciting', 'or', 'too', 'debilitating']\n",
      "Filtered sentence 2: ['his', 'teacher', 'and', 'his', 'school', 'principal', 'were', 'conferred', 'with', 'and', 'everyone', 'agreed', 'that', 'if', 'he', 'kept', 'up', 'with', 'a', 'certain', 'amount', 'of', 'work', 'at', 'home', 'there', 'was', 'little', 'danger', 'of', 'his', 'losing', 'a', 'term']\n",
      "Filtered sentence 3: ['scotty', 'accepted', 'the', 'decision', 'with', 'indifference', 'and', 'did', 'not', 'enter', 'the', 'arguments']\n",
      "Filtered sentence 4: ['he', 'was', 'discharged', 'from', 'the', 'hospital', 'after', 'a', 'checkup', 'and', 'he', 'and', 'his', 'parents', 'had', 'what', 'mckinley', 'described', 'as', 'a', 'celebration', 'lunch', 'at', 'the', 'cafeteria', 'on', 'the', 'campus']\n"
     ]
    }
   ],
   "source": [
    "# Filter out non-alphanumeric words and convert to lowercase\n",
    "filtered_sentences = []\n",
    "\n",
    "for sent in sentences:\n",
    "    filtered_sent = [word.lower() for word in sent if word.isalnum()]\n",
    "    if filtered_sent:\n",
    "        filtered_sentences.append(filtered_sent)\n",
    "\n",
    "# Print the first 5 sentences\n",
    "for i in range(5):\n",
    "    print(f\"Filtered sentence {i}: {filtered_sentences[i]}\")"
   ]
  },
  {
   "cell_type": "code",
   "execution_count": null,
   "metadata": {},
   "outputs": [
    {
     "name": "stdout",
     "output_type": "stream",
     "text": [
      "Filtered sentence 0: ['scotty', 'go', 'back', 'school']\n",
      "Filtered sentence 1: ['parents', 'talked', 'seriously', 'lengthily', 'doctor', 'specialist', 'university', 'hospital', 'mckinley', 'entitled', 'discount', 'members', 'family', 'decided', 'would', 'best', 'take', 'remainder', 'term', 'spend', 'lot', 'time', 'bed', 'rest', 'pretty', 'much', 'chose', 'provided', 'course', 'chose', 'nothing', 'exciting', 'debilitating']\n",
      "Filtered sentence 2: ['teacher', 'school', 'principal', 'conferred', 'everyone', 'agreed', 'kept', 'certain', 'amount', 'work', 'home', 'little', 'danger', 'losing', 'term']\n",
      "Filtered sentence 3: ['scotty', 'accepted', 'decision', 'indifference', 'enter', 'arguments']\n",
      "Filtered sentence 4: ['discharged', 'hospital', 'checkup', 'parents', 'mckinley', 'described', 'celebration', 'lunch', 'cafeteria', 'campus']\n"
     ]
    }
   ],
   "source": [
    "# Filter out stopwords and non-alphanumeric words and convert to lowercase\n",
    "filtered_stopwords_sentences = []\n",
    "\n",
    "for sent in filtered_sentences:\n",
    "    filtered_sent = [word.lower() for word in sent if word.isalnum() and word.lower() not in stopwords]\n",
    "    if filtered_sent:\n",
    "        filtered_stopwords_sentences.append(filtered_sent)\n",
    "\n",
    "# Print the first 5 sentences\n",
    "for i in range(5):\n",
    "    print(f\"Filtered sentence {i}: {filtered_stopwords_sentences[i]}\")"
   ]
  },
  {
   "cell_type": "markdown",
   "metadata": {},
   "source": [
    "### Word2Vec Word Embedding"
   ]
  },
  {
   "cell_type": "markdown",
   "metadata": {},
   "source": [
    "#### Skip-gram model"
   ]
  },
  {
   "cell_type": "markdown",
   "metadata": {},
   "source": [
    "In Skip-Gram, the goal is to predict the context words $w_c$ given a target word $w_t$. "
   ]
  },
  {
   "cell_type": "markdown",
   "metadata": {},
   "source": [
    "##### Original using softmax"
   ]
  },
  {
   "cell_type": "code",
   "execution_count": null,
   "metadata": {},
   "outputs": [],
   "source": [
    "from collections import defaultdict\n",
    "\n",
    "# Build vocabulary from sentences\n",
    "def build_vocab(sentences):\n",
    "    word_count = defaultdict(int)\n",
    "\n",
    "    for sent in sentences:\n",
    "        for word in sent:\n",
    "            word_count[word] += 1\n",
    "\n",
    "    word_to_idx = {}\n",
    "    idx_to_word = {}\n",
    "\n",
    "    for i, word in enumerate(word_count):\n",
    "        word_to_idx[word] = i\n",
    "        idx_to_word[i] = word\n",
    "\n",
    "    return word_to_idx, idx_to_word, word_count\n",
    "\n",
    "# One-hot encode a word\n",
    "def OHE_word(word, word_to_idx):\n",
    "    x = [0] * len(word_to_idx)\n",
    "    x[word_to_idx[word]] = 1\n",
    "    return np.array(x)\n",
    "\n",
    "# Get the context words for a target word in a sentence\n",
    "def get_context_words(target_idx, sentence, window_size=2):\n",
    "    start = max(0, target_idx - window_size)\n",
    "    end = min(len(sentence), target_idx + window_size + 1)\n",
    "\n",
    "    context_words = []\n",
    "\n",
    "    for context_idx in range(start, end):\n",
    "        if context_idx != target_idx:\n",
    "            context_words.append(sentence[context_idx])\n",
    "    return context_words\n",
    "\n",
    "# Generate training data from sentences\n",
    "def generate_training_data(sentences, word_to_idx, window_size=2):\n",
    "    X = []\n",
    "    Y = []\n",
    "\n",
    "    for sent in sentences:\n",
    "        for target_idx in range(len(sent)):\n",
    "            target_word = sent[target_idx]\n",
    "            context_words = get_context_words(target_idx, sent, window_size)\n",
    "            if context_words:\n",
    "                for context_word in context_words:\n",
    "                    X.append(OHE_word(target_word, word_to_idx))\n",
    "                    Y.append(OHE_word(context_word, word_to_idx))\n",
    "\n",
    "    X = np.array(X)\n",
    "    Y = np.array(Y)\n",
    "\n",
    "    return X, Y\n",
    "\n",
    "# Softmax function\n",
    "def softmax(x):\n",
    "    return jnp.exp(x) / jnp.sum(jnp.exp(x))\n",
    "\n",
    "# Forward pass of the neural network\n",
    "@jax.jit\n",
    "def net(params, # the list of paramaters\n",
    "        x,      # a single one-hot encoded word, of correct shape\n",
    "        ):\n",
    "    # Initialize the output\n",
    "    x_out = x\n",
    "\n",
    "    # Get the layers\n",
    "    N_layers = len(params)\n",
    "    for layer_idx in range(N_layers - 1): # Last layer is different\n",
    "        A  = params[layer_idx]\n",
    "        x_out = A@x_out\n",
    "\n",
    "    # Last layer uses softmax\n",
    "    A = params[-1]\n",
    "    x_out = softmax(A@x_out)\n",
    "    return x_out\n",
    "\n",
    "# Forward pass for batch of OHE words\n",
    "net_batch = jax.jit(jax.vmap(net, in_axes=(None, 0)))\n",
    "\n",
    "# Initialize the parameters of the neural network\n",
    "# Bias terms are not necessary for word embeddings\n",
    "def init_weights(layer_dims): # (d_in, d1, d2, ..., d_L) -> [(A0,), (A1,), ..., (A_L,)]\n",
    "    N_layers = len(layer_dims)\n",
    "    params = []\n",
    "\n",
    "    for layer_idx in range(N_layers - 1): # Inbetween layers\n",
    "        # Get the dimensions of the current layer and the next layer\n",
    "        d_in = layer_dims[layer_idx]\n",
    "        d_out = layer_dims[layer_idx + 1]\n",
    "\n",
    "        # Weights should have mean=0 and variance=1/d_in, size = (d_out, d_in)\n",
    "        A = np.random.normal(0, 1/np.sqrt(d_in), size=(d_out, d_in))\n",
    "\n",
    "        params.append(A)\n",
    "    return params\n",
    "\n",
    "# Count the number of parameters in the neural network\n",
    "def count_params(params):\n",
    "    n_params = 0\n",
    "    for layer_idx, A in enumerate(params):\n",
    "        n_params += A.size \n",
    "    return n_params\n",
    "\n",
    "# Cross entropy\n",
    "@jax.jit\n",
    "def cross_entropy(y, y_pred):\n",
    "    return -jnp.sum(y * jnp.log(y_pred))\n",
    "\n",
    "cross_entropy_batch = jax.jit(jax.vmap(cross_entropy, in_axes=(0, 0)))\n",
    "\n",
    "# Loss function for a batch of inputs\n",
    "@jax.jit\n",
    "def loss(params, \n",
    "         x, # batch of OHE target words\n",
    "         y # batch of OHE context words\n",
    "        ):\n",
    "    y_pred = net_batch(params, x)\n",
    "    y_pred = y_pred[..., 0]\n",
    "    return jnp.mean(cross_entropy_batch(y, y_pred))\n",
    "\n",
    "# Compute the value and gradient of the loss function\n",
    "loss_value_and_grad = jax.jit(jax.value_and_grad(loss))"
   ]
  },
  {
   "cell_type": "markdown",
   "metadata": {},
   "source": [
    "##### Testing the functions"
   ]
  },
  {
   "cell_type": "code",
   "execution_count": null,
   "metadata": {},
   "outputs": [
    {
     "name": "stdout",
     "output_type": "stream",
     "text": [
      "Vocabulary size: 7\n",
      "Number of parameters in the network: 28\n",
      "Layer 0 shape: (2, 7)\n",
      "Layer 1 shape: (7, 2)\n"
     ]
    }
   ],
   "source": [
    "# Try a small example of 1 sentence\n",
    "sentences = filtered_sentences[:1]\n",
    "word_to_idx, idx_to_word, word_count = build_vocab(sentences)\n",
    "vocab_size = len(word_to_idx)\n",
    "print(f\"Vocabulary size: {vocab_size}\")\n",
    "\n",
    "V = vocab_size\n",
    "E = 2 # Embedding dimension\n",
    "\n",
    "params = init_weights([V, E, V])\n",
    "\n",
    "# Count the number of parameters\n",
    "print(\"Number of parameters in the network:\", count_params(params))\n",
    "\n",
    "# Print the shapes of the weights \n",
    "for layer_idx, A in enumerate(params):\n",
    "    print(f\"Layer {layer_idx} shape: {A.shape}\")\n",
    "\n",
    "# Generate training data\n",
    "X, Y = generate_training_data(sentences, word_to_idx, window_size=1)"
   ]
  },
  {
   "cell_type": "code",
   "execution_count": null,
   "metadata": {},
   "outputs": [
    {
     "name": "stdout",
     "output_type": "stream",
     "text": [
      "[['scotty', 'did', 'not', 'go', 'back', 'to', 'school']]\n",
      "0 scotty did\n",
      "1 did scotty\n",
      "2 did not\n",
      "3 not did\n",
      "4 not go\n",
      "5 go not\n",
      "6 go back\n",
      "7 back go\n",
      "8 back to\n",
      "9 to back\n",
      "10 to school\n",
      "11 school to\n"
     ]
    }
   ],
   "source": [
    "# Check training data\n",
    "print(sentences)\n",
    "\n",
    "for i in range(len(X)):\n",
    "    x = X[i]\n",
    "    y = Y[i]\n",
    "    # print the words\n",
    "    print(i, idx_to_word[np.argmax(x)], idx_to_word[np.argmax(y)])"
   ]
  },
  {
   "cell_type": "code",
   "execution_count": null,
   "metadata": {},
   "outputs": [
    {
     "name": "stdout",
     "output_type": "stream",
     "text": [
      "shape of the input: (7, 1)\n",
      "shape of the output: (7, 1)\n",
      "output: [[0.10919344]\n",
      " [0.10890026]\n",
      " [0.12382171]\n",
      " [0.13931295]\n",
      " [0.11547516]\n",
      " [0.16293477]\n",
      " [0.2403617 ]]\n"
     ]
    }
   ],
   "source": [
    "# Single input test\n",
    "x0 = X[0][..., jnp.newaxis]\n",
    "print(f'shape of the input: {x0.shape}')\n",
    "y0_pred = net(params, x0)\n",
    "print(f'shape of the output: {x0.shape}')\n",
    "print(f'output: {y0_pred}')"
   ]
  },
  {
   "cell_type": "code",
   "execution_count": null,
   "metadata": {},
   "outputs": [
    {
     "name": "stdout",
     "output_type": "stream",
     "text": [
      "shape of the input: (2, 7, 1)\n",
      "shape of the output: (2, 7, 1)\n"
     ]
    }
   ],
   "source": [
    "# Batch input test\n",
    "x_batch = X[:2]\n",
    "x_batch = x_batch[..., jnp.newaxis]\n",
    "print(f'shape of the input: {x_batch.shape}')\n",
    "y_pred_batch = net_batch(params, x_batch)\n",
    "print(f'shape of the output: {y_pred_batch.shape}')"
   ]
  },
  {
   "cell_type": "code",
   "execution_count": null,
   "metadata": {},
   "outputs": [
    {
     "name": "stdout",
     "output_type": "stream",
     "text": [
      "shape of the y: (7,)\n",
      "shape of the y_pred: (7,)\n",
      "cross entropy: 2.217322826385498\n"
     ]
    }
   ],
   "source": [
    "# Single cross entropy test\n",
    "y0 = Y[0]\n",
    "y0_pred = y_pred_batch[0][..., 0]\n",
    "print(f'shape of the y: {y.shape}')\n",
    "print(f'shape of the y_pred: {y0_pred.shape}')\n",
    "print(f'cross entropy: {cross_entropy(y, y0_pred)}')"
   ]
  },
  {
   "cell_type": "code",
   "execution_count": null,
   "metadata": {},
   "outputs": [
    {
     "name": "stdout",
     "output_type": "stream",
     "text": [
      "shape of the y: (2, 7)\n",
      "shape of the y_pred_batch: (2,)\n",
      "Batch cross entropy: [2.2146344 2.1565561]\n"
     ]
    }
   ],
   "source": [
    "# Batch cross entropy test\n",
    "y_batch = Y[:2]\n",
    "y_pred_batch = y_pred_batch[..., 0]\n",
    "print(f'shape of the y: {y_batch.shape}')\n",
    "print(f'shape of the y_pred_batch: {y_pred_batch.shape}')\n",
    "print(f'Batch cross entropy: {cross_entropy_batch(y_batch, y_pred_batch)}')"
   ]
  },
  {
   "cell_type": "code",
   "execution_count": null,
   "metadata": {},
   "outputs": [
    {
     "name": "stdout",
     "output_type": "stream",
     "text": [
      "loss value: 2.1869394779205322\n"
     ]
    }
   ],
   "source": [
    "# loss test\n",
    "loss_value = loss(params, x_batch, y_batch)\n",
    "print(f'loss value: {loss_value}')"
   ]
  },
  {
   "cell_type": "markdown",
   "metadata": {},
   "source": [
    "##### Optimise the word embeddings"
   ]
  },
  {
   "cell_type": "code",
   "execution_count": null,
   "metadata": {},
   "outputs": [
    {
     "name": "stdout",
     "output_type": "stream",
     "text": [
      "Vocabulary size: 494\n",
      "X shape: (3874, 494)\n"
     ]
    }
   ],
   "source": [
    "# Hyperparameters\n",
    "window_size = 4\n",
    "\n",
    "# Build the vocab\n",
    "sentences = filtered_stopwords_sentences[:100]\n",
    "word_to_idx, idx_to_word, word_count = build_vocab(sentences)\n",
    "vocab_size = len(word_to_idx)\n",
    "print(f'Vocabulary size: {vocab_size}')\n",
    "\n",
    "# Generate training data\n",
    "X, Y = generate_training_data(sentences, word_to_idx, window_size=window_size)\n",
    "print(f'X shape: {X.shape}')\n",
    "\n",
    "N = X.shape[0] # Number of training samples\n",
    "indices = jnp.arange(N) # Indices of the training samples"
   ]
  },
  {
   "cell_type": "code",
   "execution_count": null,
   "metadata": {},
   "outputs": [
    {
     "name": "stdout",
     "output_type": "stream",
     "text": [
      "Number of parameters: 98800\n"
     ]
    }
   ],
   "source": [
    "# Hyperparameters\n",
    "n_epochs = 200\n",
    "lr_max = 1e-1\n",
    "lr_min = 1e-5\n",
    "embedding_size = 100\n",
    "batch_size = 128\n",
    "n_batches = N // batch_size\n",
    "warmup_epochs = 40\n",
    "\n",
    "# Initialize the parameters\n",
    "params = init_weights([vocab_size, embedding_size, vocab_size])\n",
    "print(f'Number of parameters: {count_params(params)}')\n",
    "\n",
    "# Learning rate schedule\n",
    "def cosine_annealing_with_warmup(epoch, lr_max, warmup_epochs, n_epochs, lr_min):\n",
    "    if epoch < warmup_epochs:\n",
    "        # Linear warm-up\n",
    "        lr = lr_max * epoch / warmup_epochs\n",
    "    else:\n",
    "        # Cosine annealing\n",
    "        progress = (epoch - warmup_epochs) / (n_epochs - warmup_epochs)\n",
    "        lr = lr_min + 0.5 * (lr_max - lr_min) * (1 + np.cos(np.pi * progress))\n",
    "    return lr"
   ]
  },
  {
   "cell_type": "code",
   "execution_count": null,
   "metadata": {},
   "outputs": [
    {
     "name": "stdout",
     "output_type": "stream",
     "text": [
      "Epoch 1/200, loss = 6.201907157897949\n",
      "Epoch 21/200, loss = 6.197333812713623\n",
      "Epoch 41/200, loss = 6.183004856109619\n",
      "Epoch 61/200, loss = 6.162885665893555\n",
      "Epoch 81/200, loss = 6.142668724060059\n",
      "Epoch 101/200, loss = 6.123466491699219\n",
      "Epoch 121/200, loss = 6.107179641723633\n",
      "Epoch 141/200, loss = 6.095582485198975\n",
      "Epoch 161/200, loss = 6.088350296020508\n",
      "Epoch 181/200, loss = 6.085719108581543\n"
     ]
    }
   ],
   "source": [
    "# Track the loss and time\n",
    "loss_history = []\n",
    "time_history = []\n",
    "\n",
    "for epoch in range(n_epochs):\n",
    "    # shuffle the data\n",
    "    indices = np.random.permutation(indices)\n",
    "\n",
    "    # stores all the losses for this epoch\n",
    "    epoch_losses = []\n",
    "\n",
    "    # Start the timer\n",
    "    start_time = time.time()\n",
    "\n",
    "    for batch in range(n_batches):\n",
    "        # Get the current batch\n",
    "        batch_idices = indices[batch*batch_size:(batch+1)*batch_size]\n",
    "        x_batch = X[batch_idices]\n",
    "        y_batch = Y[batch_idices]\n",
    "\n",
    "        # Add a fake last dimension to the input\n",
    "        x_batch = x_batch[..., jnp.newaxis]\n",
    "\n",
    "        # Compute the loss and the gradient\n",
    "        loss_value, grad = loss_value_and_grad(params, x_batch, y_batch)\n",
    "        epoch_losses.append(loss_value)\n",
    "\n",
    "        # Compute the learning rate\n",
    "        lr = cosine_annealing_with_warmup(epoch, lr_max, warmup_epochs, n_epochs, lr_min)\n",
    "\n",
    "        # Update the parameters\n",
    "        params = jax.tree_util.tree_map(lambda p, g: p - lr * g, params, grad)\n",
    "\n",
    "    # Track the mean loss for each epoch\n",
    "    mean_epoch_loss = np.mean(epoch_losses)\n",
    "    loss_history.append(mean_epoch_loss)\n",
    "    time_history.append(time.time())\n",
    "\n",
    "\n",
    "    # Display the loss\n",
    "    if epoch % (n_epochs // 10) == 0:\n",
    "        print(f\"Epoch {epoch+1}/{n_epochs}, loss = {mean_epoch_loss}\")"
   ]
  },
  {
   "cell_type": "markdown",
   "metadata": {},
   "source": [
    "Plots"
   ]
  },
  {
   "cell_type": "code",
   "execution_count": null,
   "metadata": {},
   "outputs": [
    {
     "data": {
      "image/png": "[encoded data removed]",
      "text/plain": [
       "<Figure size 640x480 with 1 Axes>"
      ]
     },
     "metadata": {},
     "output_type": "display_data"
    }
   ],
   "source": [
    "# Plot the loss\n",
    "plt.plot(loss_history)\n",
    "plt.xlabel('Epoch')\n",
    "plt.ylabel('Loss')\n",
    "plt.title('Training Loss')\n",
    "plt.show()"
   ]
  },
  {
   "cell_type": "markdown",
   "metadata": {},
   "source": [
    "##### Check the embeddings"
   ]
  },
  {
   "cell_type": "code",
   "execution_count": null,
   "metadata": {},
   "outputs": [],
   "source": [
    "# Function to get the word embedding of a word\n",
    "def get_word_embedding(word, word_to_idx, word_embeddings):\n",
    "    idx = word_to_idx[word]\n",
    "    return word_embeddings[idx]\n",
    "\n",
    "# Function to compute the cosine similarity between two vectors\n",
    "def cosine_similarity(vec1, vec2):\n",
    "    dot_product = jnp.dot(vec1, vec2)\n",
    "    norm_a = jnp.linalg.norm(vec1)\n",
    "    norm_b = jnp.linalg.norm(vec2)\n",
    "    if norm_a == 0 or norm_b == 0:  # Prevent division by zero\n",
    "        return 0.0\n",
    "    return dot_product / (norm_a * norm_b)\n",
    "\n",
    "# Function to evaluate similarities given a list of word pairs\n",
    "def evaluate_similarity(word_to_idx, word_embeddings, word_pairs):\n",
    "    scores = []\n",
    "    for word1, word2 in word_pairs:\n",
    "        if word1 in word_to_idx and word2 in word_to_idx:\n",
    "            vec1 = get_word_embedding(word1, word_to_idx, word_embeddings)\n",
    "            vec2 = get_word_embedding(word2, word_to_idx, word_embeddings)\n",
    "            cos_sim = cosine_similarity(vec1, vec2)\n",
    "            scores.append((word1, word2, cos_sim))\n",
    "        else:\n",
    "            print(f\"Warning: One of the words '{word1}' or '{word2}' is not in the vocabulary.\")\n",
    "    return scores"
   ]
  },
  {
   "cell_type": "code",
   "execution_count": null,
   "metadata": {},
   "outputs": [
    {
     "name": "stdout",
     "output_type": "stream",
     "text": [
      "Shape of word embeddings: (494, 100)\n",
      "Warning: One of the words 'king' or 'queen' is not in the vocabulary.\n",
      "Warning: One of the words 'man' or 'woman' is not in the vocabulary.\n",
      "Warning: One of the words 'king' or 'man' is not in the vocabulary.\n",
      "Warning: One of the words 'apple' or 'fruit' is not in the vocabulary.\n",
      "Warning: One of the words 'mother' or 'father' is not in the vocabulary.\n",
      "Warning: One of the words 'son' or 'daugther' is not in the vocabulary.\n",
      "Warning: One of the words 'mother' or 'daughter' is not in the vocabulary.\n",
      "Cosine similarity between 'father' and 'son': -0.0231\n",
      "Cosine similarity between 'teacher' and 'school': 0.1862\n",
      "Cosine similarity between 'school' and 'principal': 0.1442\n",
      "Cosine similarity between 'principal' and 'teacher': 0.0811\n",
      "Cosine similarity between 'teacher' and 'father': 0.0753\n"
     ]
    }
   ],
   "source": [
    "word_embeddings = params[0].T\n",
    "print(f\"Shape of word embeddings: {word_embeddings.shape}\")\n",
    "\n",
    "# Example word pairs and their expected similarities\n",
    "word_pairs = [\n",
    "    ('king', 'queen'),  # Expect high similarity\n",
    "    ('man', 'woman'),   # Expect high similarity\n",
    "    ('king', 'man'),    # Moderate similarity\n",
    "    ('apple', 'fruit'),  # Depending on your vocabulary, could expect a similarity\n",
    "\n",
    "    ('mother', 'father'),\n",
    "    ('son', 'daugther'),\n",
    "    ('father', 'son'),\n",
    "    ('mother', 'daughter'),\n",
    "\n",
    "    ('teacher', 'school'),\n",
    "    ('school', 'principal'),\n",
    "    ('principal', 'teacher'),\n",
    "\n",
    "    ('teacher', 'father')\n",
    "]\n",
    "\n",
    "# Run the evaluation\n",
    "similarity_scores = evaluate_similarity(word_to_idx, word_embeddings, word_pairs)\n",
    "\n",
    "# Print results\n",
    "for word1, word2, sim in similarity_scores:\n",
    "    print(f\"Cosine similarity between '{word1}' and '{word2}': {sim:.4f}\")"
   ]
  },
  {
   "cell_type": "code",
   "execution_count": null,
   "metadata": {},
   "outputs": [
    {
     "data": {
      "text/plain": [
       "True"
      ]
     },
     "metadata": {},
     "output_type": "display_data"
    }
   ],
   "source": [
    "# Find similar words to a given word\n"
   ]
  },
  {
   "cell_type": "markdown",
   "metadata": {},
   "source": [
    "##### Skip-Gram with Negative Sampling (SGNS)"
   ]
  },
  {
   "cell_type": "markdown",
   "metadata": {},
   "source": [
    "Negative sampling simplifies this process by approximating the softmax function, \n",
    "focusing only on a few context words (positive samples) and a few randomly selected words from the vocabulary (negative samples) instead of the entire vocabulary.\n",
    "\n",
    "Loss Function: \\\n",
    "The loss function for Skip-Gram with Negative Sampling (SGNS) is typically a binary cross-entropy loss. For each target word $w_t$ and its context words $w_c$, the loss function tries to:\n",
    "- Maximize the probability that $w_c$ appears in the context of $w_t$\n",
    "- Minimize the probability that randomly selected (negative) words appear in the context\n",
    "\n",
    "The loss function is\n",
    "$$ L = - \\left[ \\sum_{w_c \\in \\text{context}} \\log \\sigma \\left( \\langle v_{w_c}, v_{w_t} \\rangle \\right) \n",
    "             +  \\sum_{w_n \\in \\text{negatives}} \\log \\sigma \\left( \\langle -v_{w_n}, v_{w_t} \\rangle \\right) \\right] $$\n",
    "\n",
    "where \n",
    "- $v_{w_t}$ is the embedding vector of target word $w_t$\n",
    "- $v_{w_c}$ is the embedding vector of context word $w_c$\n",
    "- $v_{w_n}$ is the embedding vector of negative word $w_n$ \n",
    "- $\\sigma(x)$ is the sigmoid function $\\sigma(x) = \\frac{1}{1 + e^{-x}}$ "
   ]
  },
  {
   "cell_type": "markdown",
   "metadata": {},
   "source": [
    "##### Building Vocabulary"
   ]
  },
  {
   "cell_type": "code",
   "execution_count": null,
   "metadata": {},
   "outputs": [
    {
     "name": "stdout",
     "output_type": "stream",
     "text": [
      "Vocabulary size: 8155\n"
     ]
    }
   ],
   "source": [
    "from collections import defaultdict\n",
    "\n",
    "# Build vocabulary index\n",
    "def build_vocab_idx(filtered_sentences):\n",
    "    vocab_count = defaultdict(int)\n",
    "    for sentence in filtered_sentences:\n",
    "        for word in sentence:\n",
    "            vocab_count[word] += 1\n",
    "    return {word: idx for idx, (word, _) in enumerate(vocab_count.items())}, vocab_count\n",
    "\n",
    "vocab_idx, vocab_count = build_vocab_idx(filtered_sentences)\n",
    "vocab_size = len(vocab_idx)\n",
    "print(f\"Vocabulary size: {vocab_size}\")"
   ]
  },
  {
   "cell_type": "markdown",
   "metadata": {},
   "source": [
    "##### Generate Context Words & Negative Samples"
   ]
  },
  {
   "cell_type": "code",
   "execution_count": null,
   "metadata": {},
   "outputs": [],
   "source": [
    "# input: target word index in sentence, selected sentence, number of context words\n",
    "# output: list of context words index linked to vocab_idx, weights\n",
    "def get_context_words(target_idx, sentence, num_context_words):\n",
    "    window_size = num_context_words // 2\n",
    "    \n",
    "    start = max(0, target_idx - window_size)\n",
    "    end = min(len(sentence), target_idx + window_size + 1)\n",
    "\n",
    "    contexts = []\n",
    "    weights = []\n",
    "\n",
    "    for i in range(start, end):\n",
    "        if i != target_idx:\n",
    "            contexts.append(vocab_idx[sentence[i]])\n",
    "            weights.append(1/abs(i-target_idx))\n",
    "    while len(contexts) < num_context_words:\n",
    "        contexts.append(vocab_size)\n",
    "    while len(weights) < num_context_words:\n",
    "        weights.append(vocab_size)\n",
    "    \n",
    "    return contexts, weights\n",
    "\n",
    "\n",
    "# input: target word index in vocab_idx, number of unique words, number of negative samples, contexts output of get_context_words()\n",
    "# output: list of negative words index linked to vocab_idx\n",
    "def get_negative_samples(target, vocab_size, num_negative_samples, contexts):\n",
    "    negative_samples = set()\n",
    "    \n",
    "    while len(negative_samples) < num_negative_samples:\n",
    "        # Sample a random word from the vocabulary\n",
    "        neg_sample = np.random.randint(0, vocab_size)\n",
    "        # Ensure it's not the target word or context word\n",
    "        if neg_sample != target and neg_sample not in contexts:\n",
    "            negative_samples.add(neg_sample)\n",
    "    \n",
    "    return list(negative_samples)"
   ]
  },
  {
   "cell_type": "markdown",
   "metadata": {},
   "source": [
    "##### Gradient Descent & Backtracking Line Search"
   ]
  },
  {
   "cell_type": "code",
   "execution_count": null,
   "metadata": {},
   "outputs": [],
   "source": [
    "def grad_descent(fn, initial_lr, beta, eta, W_in, W_out, batch_targets, batch_contexts, batch_neg_samples, batch_weights):\n",
    "    # Convert to array for it to work with jit.vmap\n",
    "    batch_targets = jnp.array(batch_targets)\n",
    "    batch_contexts = jnp.array(batch_contexts)\n",
    "    batch_neg_samples = jnp.array(batch_neg_samples)\n",
    "    batch_weights = jnp.array(batch_weights)\n",
    "    \n",
    "    # Get initial loss and gradient\n",
    "    initial_loss = fn(W_in, W_out, batch_targets, batch_contexts, batch_neg_samples, batch_weights)\n",
    "    gradients = jax.grad(fn, argnums=(0, 1))(W_in, W_out, batch_targets, batch_contexts, batch_neg_samples, batch_weights)\n",
    "\n",
    "    # Backtracking line search\n",
    "    # Descent Direction for W_in and W_out\n",
    "    d_in, d_out = -gradients[0], -gradients[1]\n",
    "    lr = initial_lr\n",
    "\n",
    "    while True:\n",
    "        new_W_in = W_in + lr * d_in\n",
    "        new_W_out = W_out + lr * d_out\n",
    "        new_loss = fn(new_W_in, new_W_out, batch_targets, batch_contexts, batch_neg_samples, batch_weights)\n",
    "        \n",
    "        # Check if the new loss meets the sufficient decrease condition\n",
    "        # Exit loop if condition is met\n",
    "        if new_loss <= initial_loss + eta * lr * (jnp.sum(gradients[0] * d_in) + jnp.sum(gradients[1] * d_out)):\n",
    "            break\n",
    "\n",
    "        # Reduce alpha if condition is not met\n",
    "        lr *= beta\n",
    "\n",
    "    # Update embeddings\n",
    "    W_in += lr * d_in\n",
    "    W_out += lr * d_out\n",
    "\n",
    "    return W_in, W_out"
   ]
  },
  {
   "cell_type": "markdown",
   "metadata": {},
   "source": [
    "##### Loss Function"
   ]
  },
  {
   "cell_type": "code",
   "execution_count": null,
   "metadata": {},
   "outputs": [],
   "source": [
    "# input: W_in, W_out, target word index in vocab_idx, contexts & weights output of get_context_words(), \n",
    "#   negative_samples output of get_negative_samples()\n",
    "# output: loss value\n",
    "@jax.jit\n",
    "def SGNS_single_loss_fn(W_in, W_out, target, contexts, negative_samples, weights):\n",
    "    # Get word embeddings\n",
    "    target_embedding = W_in[target]\n",
    "\n",
    "    pos_loss = 0\n",
    "    neg_loss = 0\n",
    "    \n",
    "    # Positive score\n",
    "    for idx, i in enumerate(contexts):\n",
    "        weight = weights[idx]\n",
    "        context_embedding = W_out[i]\n",
    "        positive_score = jnp.dot(context_embedding, target_embedding)\n",
    "        # Add 1e-10 to prevent log underflow\n",
    "        pos_loss += jnp.log(jax.nn.sigmoid(positive_score) + 1e-10) * weight\n",
    "\n",
    "    # Negative scores and loss\n",
    "    for j in negative_samples:\n",
    "        negative_embedding = W_out[j]\n",
    "        negative_scores = jnp.dot(-negative_embedding, target_embedding)\n",
    "        # Add 1e-10 to prevent log underflow\n",
    "        neg_loss += jnp.log(jax.nn.sigmoid(negative_scores) + 1e-10)\n",
    "\n",
    "    # Total loss is the sum of positive loss and negative loss\n",
    "    return -(pos_loss + neg_loss)\n",
    "\n",
    "SGNS_loss_batched = jax.jit(jax.vmap(SGNS_single_loss_fn, in_axes=(None, None, 0, 0, 0, 0)))\n",
    "\n",
    "@jax.jit\n",
    "def SGNS_batched_loss_fn(W_in, W_out, batch_targets, batch_contexts, batch_neg_samples, batch_weights):\n",
    "    individual_losses = SGNS_loss_batched(W_in, W_out, batch_targets, batch_contexts, batch_neg_samples, batch_weights)\n",
    "    return jnp.mean(individual_losses)\n",
    "\n",
    "SGNS_batched_loss_fn_jit = jax.jit(SGNS_batched_loss_fn)"
   ]
  },
  {
   "cell_type": "markdown",
   "metadata": {},
   "source": [
    "##### Model Training"
   ]
  },
  {
   "cell_type": "code",
   "execution_count": null,
   "metadata": {},
   "outputs": [],
   "source": [
    "# hyperparameters\n",
    "embedding_dim = 100\n",
    "num_negative_samples = 5\n",
    "num_context_words = 4\n",
    "num_epoch = 10\n",
    "batch_size = 128\n",
    "\n",
    "initial_lr = 1.0\n",
    "beta = 0.5\n",
    "eta = 0.1\n",
    "\n",
    "# Initiate W_in (for target) and W_out (for context and negative words) matrix\n",
    "# Add a 0 row in last row for target words with less than number of context words required e.g words as start & end of sentence\n",
    "W_in = jax.random.normal(jax.random.PRNGKey(0), (vocab_size, embedding_dim)) * 0.01\n",
    "W_in = jnp.vstack([W_in, jnp.zeros((1, embedding_dim))])\n",
    "W_out = jax.random.normal(jax.random.PRNGKey(1), (vocab_size, embedding_dim)) * 0.01\n",
    "W_out = jnp.vstack([W_out, jnp.zeros((1, embedding_dim))])\n",
    "\n",
    "context_dict = {}\n",
    "weight_dict = {}\n",
    "\n",
    "for epoch in range(num_epoch):\n",
    "    # Initiate for batch\n",
    "    batch_targets, batch_contexts, batch_neg_samples, batch_weights = [], [], [], []\n",
    "    for sentence in filtered_stopwords_sentences:\n",
    "        for target_idx, word in enumerate(sentence):\n",
    "            target = vocab_idx[word]\n",
    "            \n",
    "            # Save context words and weights for future epoch\n",
    "            if epoch > 0:\n",
    "                contexts = context_dict[target]\n",
    "                weights = weight_dict[target]\n",
    "            else:\n",
    "                contexts, weights = get_context_words(target_idx, sentence, num_context_words)\n",
    "                context_dict[target] = contexts\n",
    "                weight_dict[target] = weights\n",
    "\n",
    "            # Get negative words\n",
    "            negative_samples = get_negative_samples(target, vocab_size, num_negative_samples, contexts)\n",
    "\n",
    "            # Add target, context, negative_samples, weights for batch\n",
    "            # Batch Targets Shape: (batch_size,)\n",
    "            batch_targets.append(target)\n",
    "            # Batch Contexts Shape: (batch_size, num_context_words)\n",
    "            batch_contexts.append(contexts)\n",
    "            # Batch Negative Samples Shape: (batch_size, num_negative_samples)\n",
    "            batch_neg_samples.append(negative_samples)\n",
    "            # Batch Weights Shape: (batch_size, num_context_words)\n",
    "            batch_weights.append(weights)\n",
    "\n",
    "            if len(batch_targets) == batch_size:\n",
    "                W_in, W_out = \\\n",
    "                    grad_descent(SGNS_batched_loss_fn_jit, initial_lr, beta, eta,\\\n",
    "                        W_in, W_out, batch_targets, batch_contexts, batch_neg_samples, batch_weights)\n",
    "\n",
    "                # Reset batches\n",
    "                batch_targets, batch_contexts, batch_neg_samples, batch_weights = [], [], [], []\n",
    "    \n",
    "    # Include last few words not enough to form batch\n",
    "    if len(batch_targets) != 0:\n",
    "        W_in, W_out = \\\n",
    "            grad_descent(SGNS_batched_loss_fn_jit, initial_lr, beta, eta,\\\n",
    "                W_in, W_out, batch_targets, batch_contexts, batch_neg_samples, batch_weights)"
   ]
  },
  {
   "cell_type": "markdown",
   "metadata": {},
   "source": [
    "##### Model Testing"
   ]
  },
  {
   "cell_type": "code",
   "execution_count": null,
   "metadata": {},
   "outputs": [
    {
     "name": "stdout",
     "output_type": "stream",
     "text": [
      "Warning: One of the words 'apple' or 'fruit' is not in the vocabulary.\n",
      "Cosine similarity between 'king' and 'queen': 0.7433\n",
      "Cosine similarity between 'man' and 'woman': 0.8463\n",
      "Cosine similarity between 'king' and 'man': -0.8466\n"
     ]
    }
   ],
   "source": [
    "import jax.numpy as jnp\n",
    "\n",
    "# Function to compute cosine similarity using JAX\n",
    "def cosine_similarity(vec1, vec2):\n",
    "    dot_product = jnp.dot(vec1, vec2)\n",
    "    norm_a = jnp.linalg.norm(vec1)\n",
    "    norm_b = jnp.linalg.norm(vec2)\n",
    "    if norm_a == 0 or norm_b == 0:  # Prevent division by zero\n",
    "        return 0.0\n",
    "    return dot_product / (norm_a * norm_b)\n",
    "\n",
    "# Example word pairs and their expected similarities\n",
    "word_pairs = [\n",
    "    ('king', 'queen'),  # Expect high similarity\n",
    "    ('man', 'woman'),   # Expect high similarity\n",
    "    ('king', 'man'),    # Moderate similarity\n",
    "    ('apple', 'fruit'),  # Depending on your vocabulary, could expect a similarity\n",
    "]\n",
    "\n",
    "# Function to evaluate similarities using W_out\n",
    "def evaluate_similarity(vocab_idx, W_out, word_pairs):\n",
    "    scores = []\n",
    "    for word1, word2 in word_pairs:\n",
    "        if word1 in vocab_idx and word2 in vocab_idx:\n",
    "            vec1 = W_out[vocab_idx[word1]]  # Get the output embedding for word1\n",
    "            vec2 = W_out[vocab_idx[word2]]  # Get the output embedding for word2\n",
    "            cos_sim = cosine_similarity(vec1, vec2)\n",
    "            scores.append((word1, word2, cos_sim))\n",
    "        else:\n",
    "            print(f\"Warning: One of the words '{word1}' or '{word2}' is not in the vocabulary.\")\n",
    "    \n",
    "    return scores\n",
    "\n",
    "# Run the evaluation\n",
    "similarity_scores = evaluate_similarity(vocab_idx, W_out, word_pairs)\n",
    "\n",
    "# Print results\n",
    "for word1, word2, sim in similarity_scores:\n",
    "    print(f\"Cosine similarity between '{word1}' and '{word2}': {sim:.4f}\")"
   ]
  },
  {
   "cell_type": "markdown",
   "metadata": {},
   "source": [
    "# Ignore"
   ]
  },
  {
   "cell_type": "markdown",
   "metadata": {},
   "source": [
    "#####  Skip-Gram with Hierarchical Softmax"
   ]
  },
  {
   "cell_type": "markdown",
   "metadata": {},
   "source": [
    "Hierarchical Softmax is an alternative to Negative Sampling, where the softmax function is approximated using a binary tree. The loss function is structured similarly to SGNS but involves traversing the binary tree structure and computing a conditional probability at each node.\n",
    "\n",
    "In this case, the loss function minimizes the difference between the predicted probability and the actual label for each word pair, traversing the tree for each prediction. The key idea is to reduce the computational complexity of softmax when dealing with a large vocabulary."
   ]
  },
  {
   "cell_type": "code",
   "execution_count": null,
   "metadata": {},
   "outputs": [],
   "source": []
  },
  {
   "cell_type": "markdown",
   "metadata": {},
   "source": [
    "#### Continuous Bag of Words (CBOW) model"
   ]
  },
  {
   "cell_type": "markdown",
   "metadata": {},
   "source": [
    "In CBOW, the objective is to predict the target word ​$w_t$ given the context words $w_c$. "
   ]
  },
  {
   "cell_type": "markdown",
   "metadata": {},
   "source": [
    "#####  CBOW with Negative Sampling\n"
   ]
  },
  {
   "cell_type": "markdown",
   "metadata": {},
   "source": [
    "The model takes the average of the context word embeddings and tries to predict the target word. The loss function for CBOW with Negative Sampling is also binary cross-entropy but formulated slightly differently due to the averaging of context word embeddings.\n",
    "\n",
    "The loss function is\n",
    "$$ L = - \\left[ \\log \\sigma \\left( \\langle v_{w_t}, v_C \\rangle \\right) \n",
    "             +  \\sum_{w_n \\in \\text{negatives}} \\log \\sigma \\left( \\langle -v_{w_n}, v_C \\rangle \\right) \\right] $$  \n",
    "where \n",
    "$$ v_C = \\frac{1}{|C|} \\sum_{w_c \\in C} v_{w_c} $$"
   ]
  },
  {
   "cell_type": "markdown",
   "metadata": {},
   "source": [
    "##### Loss Function"
   ]
  },
  {
   "cell_type": "code",
   "execution_count": null,
   "metadata": {},
   "outputs": [],
   "source": [
    "# input: W_in, W_out, target word index in vocab_idx, contexts & weights output of get_context_words(), \n",
    "#   negative_samples output of get_negative_samples()\n",
    "# output: loss value\n",
    "@jax.jit\n",
    "def CBOW_single_loss_fn(W_in, W_out, target, contexts, negative_samples, weights):\n",
    "    # Get word embeddings\n",
    "    target_embedding = W_in[target]\n",
    "\n",
    "    neg_loss = 0\n",
    "    \n",
    "    # Get mean context vector\n",
    "    context_total = jnp.zeros((1, embedding_dim))\n",
    "    for idx, i in enumerate(contexts):\n",
    "        weight = weights[idx]\n",
    "        context_embedding = W_out[i]\n",
    "        context_total += weight * context_embedding\n",
    "    context_mean = context_total/(idx+1)\n",
    "    \n",
    "    # Positive score\n",
    "    positive_score = jnp.dot(context_mean, target_embedding)\n",
    "    pos_loss = jnp.log(jax.nn.sigmoid(positive_score)) * weight\n",
    "\n",
    "    # Negative scores and loss\n",
    "    for j in negative_samples:\n",
    "        negative_embedding = W_out[j]\n",
    "        negative_scores = jnp.dot(context_mean, -negative_embedding)\n",
    "        neg_loss += jnp.log(jax.nn.sigmoid(negative_scores))\n",
    "\n",
    "    # Total loss is the sum of positive loss and negative loss\n",
    "    return -(pos_loss + neg_loss)\n",
    "\n",
    "CBOW_loss_batched = jax.jit(jax.vmap(CBOW_single_loss_fn, in_axes=(None, None, 0, 0, 0, 0)))\n",
    "\n",
    "@jax.jit\n",
    "def CBOW_batched_loss_fn(W_in, W_out, batch_targets, batch_contexts, batch_neg_samples, batch_weights):\n",
    "    individual_losses = CBOW_loss_batched(W_in, W_out, batch_targets, batch_contexts, batch_neg_samples, batch_weights)\n",
    "    return jnp.mean(individual_losses)\n",
    "\n",
    "CBOW_batched_loss_fn_jit = jax.jit(CBOW_batched_loss_fn)"
   ]
  },
  {
   "cell_type": "markdown",
   "metadata": {},
   "source": [
    "##### Model Training"
   ]
  },
  {
   "cell_type": "code",
   "execution_count": null,
   "metadata": {},
   "outputs": [],
   "source": [
    "# hyperparameters\n",
    "embedding_dim = 100\n",
    "num_negative_samples = 5\n",
    "num_context_words = 4\n",
    "num_epoch = 10\n",
    "batch_size = 128\n",
    "\n",
    "initial_lr = 1.0\n",
    "beta = 0.5\n",
    "eta = 0.1\n",
    "\n",
    "# Initiate W_in (for target) and W_out (for context and negative words) matrix\n",
    "# Add a 0 row in last row for target words with less than number of context words required e.g words as start & end of sentence\n",
    "W_in = jax.random.normal(jax.random.PRNGKey(0), (vocab_size, embedding_dim)) * 0.01\n",
    "W_in = jnp.vstack([W_in, jnp.zeros((1, embedding_dim))])\n",
    "W_out = jax.random.normal(jax.random.PRNGKey(1), (vocab_size, embedding_dim)) * 0.01\n",
    "W_out = jnp.vstack([W_out, jnp.zeros((1, embedding_dim))])\n",
    "\n",
    "context_dict = {}\n",
    "weight_dict = {}\n",
    "\n",
    "for epoch in range(num_epoch):\n",
    "    # Initiate for batch\n",
    "    batch_targets, batch_contexts, batch_neg_samples, batch_weights = [], [], [], []\n",
    "    for sentence in filtered_stopwords_sentences:\n",
    "        for target_idx, word in enumerate(sentence):\n",
    "            target = vocab_idx[word]\n",
    "            \n",
    "            # Save context words and weights for future epoch\n",
    "            if epoch > 0:\n",
    "                contexts = context_dict[target]\n",
    "                weights = weight_dict[target]\n",
    "            else:\n",
    "                contexts, weights = get_context_words(target_idx, sentence, num_context_words)\n",
    "                context_dict[target] = contexts\n",
    "                weight_dict[target] = weights\n",
    "\n",
    "            # Get negative words\n",
    "            negative_samples = get_negative_samples(target, vocab_size, num_negative_samples, contexts)\n",
    "\n",
    "            # Add target, context, negative_samples, weights for batch\n",
    "            # Batch Targets Shape: (batch_size,)\n",
    "            batch_targets.append(target)\n",
    "            # Batch Contexts Shape: (batch_size, num_context_words)\n",
    "            batch_contexts.append(contexts)\n",
    "            # Batch Negative Samples Shape: (batch_size, num_negative_samples)\n",
    "            batch_neg_samples.append(negative_samples)\n",
    "            # Batch Weights Shape: (batch_size, num_context_words)\n",
    "            batch_weights.append(weights)\n",
    "\n",
    "            if len(batch_targets) == batch_size:\n",
    "                W_in, W_out = \\\n",
    "                    grad_descent(CBOW_batched_loss_fn_jit, initial_lr, beta, eta,\\\n",
    "                        W_in, W_out, batch_targets, batch_contexts, batch_neg_samples, batch_weights)\n",
    "\n",
    "                # Reset batches\n",
    "                batch_targets, batch_contexts, batch_neg_samples, batch_weights = [], [], [], []\n",
    "    \n",
    "    # Include last few words not enough to form batch\n",
    "    if len(batch_targets) != 0:\n",
    "        W_in, W_out = \\\n",
    "            grad_descent(CBOW_batched_loss_fn_jit, initial_lr, beta, eta,\\\n",
    "                W_in, W_out, batch_targets, batch_contexts, batch_neg_samples, batch_weights)"
   ]
  },
  {
   "cell_type": "markdown",
   "metadata": {},
   "source": [
    "##### Model Testing"
   ]
  },
  {
   "cell_type": "code",
   "execution_count": null,
   "metadata": {},
   "outputs": [
    {
     "name": "stdout",
     "output_type": "stream",
     "text": [
      "Warning: One of the words 'apple' or 'fruit' is not in the vocabulary.\n",
      "Cosine similarity between 'king' and 'queen': -0.0612\n",
      "Cosine similarity between 'man' and 'woman': 0.0513\n",
      "Cosine similarity between 'king' and 'man': 0.1846\n"
     ]
    }
   ],
   "source": [
    "import jax.numpy as jnp\n",
    "\n",
    "# Function to compute cosine similarity using JAX\n",
    "def cosine_similarity(vec1, vec2):\n",
    "    dot_product = jnp.dot(vec1, vec2)\n",
    "    norm_a = jnp.linalg.norm(vec1)\n",
    "    norm_b = jnp.linalg.norm(vec2)\n",
    "    if norm_a == 0 or norm_b == 0:  # Prevent division by zero\n",
    "        return 0.0\n",
    "    return dot_product / (norm_a * norm_b)\n",
    "\n",
    "# Example word pairs and their expected similarities\n",
    "word_pairs = [\n",
    "    ('king', 'queen'),  # Expect high similarity\n",
    "    ('man', 'woman'),   # Expect high similarity\n",
    "    ('king', 'man'),    # Moderate similarity\n",
    "    ('apple', 'fruit'),  # Depending on your vocabulary, could expect a similarity\n",
    "]\n",
    "\n",
    "# Function to evaluate similarities using W_out\n",
    "def evaluate_similarity(vocab_idx, W_out, word_pairs):\n",
    "    scores = []\n",
    "    for word1, word2 in word_pairs:\n",
    "        if word1 in vocab_idx and word2 in vocab_idx:\n",
    "            vec1 = W_out[vocab_idx[word1]]  # Get the output embedding for word1\n",
    "            vec2 = W_out[vocab_idx[word2]]  # Get the output embedding for word2\n",
    "            cos_sim = cosine_similarity(vec1, vec2)\n",
    "            scores.append((word1, word2, cos_sim))\n",
    "        else:\n",
    "            print(f\"Warning: One of the words '{word1}' or '{word2}' is not in the vocabulary.\")\n",
    "    \n",
    "    return scores\n",
    "\n",
    "# Run the evaluation\n",
    "similarity_scores = evaluate_similarity(vocab_idx, W_out, word_pairs)\n",
    "\n",
    "# Print results\n",
    "for word1, word2, sim in similarity_scores:\n",
    "    print(f\"Cosine similarity between '{word1}' and '{word2}': {sim:.4f}\")"
   ]
  },
  {
   "cell_type": "markdown",
   "metadata": {},
   "source": [
    "##### CBOW with Hierarchical Softmax"
   ]
  },
  {
   "cell_type": "markdown",
   "metadata": {},
   "source": [
    "Like in Skip-Gram, CBOW can also use hierarchical softmax as an alternative to Negative Sampling, traversing a binary tree to approximate the softmax function."
   ]
  },
  {
   "cell_type": "code",
   "execution_count": null,
   "metadata": {},
   "outputs": [],
   "source": []
  },
  {
   "cell_type": "markdown",
   "metadata": {},
   "source": [
    "### GloVe: Global Vectors for Word Representation"
   ]
  },
  {
   "cell_type": "code",
   "execution_count": null,
   "metadata": {},
   "outputs": [],
   "source": [
    "corpus = brown.sents(categories=\"news\")"
   ]
  },
  {
   "cell_type": "code",
   "execution_count": null,
   "metadata": {},
   "outputs": [],
   "source": [
    "# lower case all words, remove all punctuations and stop words\n",
    "def preprocess_sentence(sentence):\n",
    "    return [word.lower() for word in sentence if word.lower() not in stopwords and word not in punctuation]\n",
    "\n",
    "corpus_preprocessed = [preprocess_sentence(sentence) for sentence in corpus]\n",
    "corpus_preprocessed[0]"
   ]
  },
  {
   "cell_type": "markdown",
   "metadata": {},
   "source": [
    "Building Co-occurrence Matrix"
   ]
  },
  {
   "cell_type": "code",
   "execution_count": null,
   "metadata": {},
   "outputs": [],
   "source": [
    "from collections import defaultdict\n",
    "import numpy as np\n",
    "\n",
    "# Window size for Co-occurrence matrix - 2 words before, 2 words after\n",
    "window_size = 2\n",
    "\n",
    "# Build co-occurrence matrix\n",
    "def build_cooccurrence_matrix(corpus_preprocessed, vocab_idx, window_size):\n",
    "    cooccurrence_matrix = defaultdict(lambda: defaultdict(float))\n",
    "    \n",
    "    for sentence in corpus_preprocessed:\n",
    "        sentence_length = len(sentence)\n",
    "        for i, word in enumerate(sentence):\n",
    "            word_idx = vocab_idx[word]\n",
    "            # Context window\n",
    "            start = max(0, i - window_size)\n",
    "            end = min(sentence_length, i + window_size + 1)\n",
    "            \n",
    "            for j in range(start, end):\n",
    "                # Skip target word\n",
    "                if i != j:\n",
    "                    context_word = sentence[j]\n",
    "                    context_word_idx = vocab_idx[context_word]\n",
    "                    # Increment the co-occurrence count with inverse distance weighting\n",
    "                    cooccurrence_matrix[word_idx][context_word_idx] += 1.0 / abs(i - j)\n",
    "    return cooccurrence_matrix\n",
    "\n",
    "cooccurrence_matrix = build_cooccurrence_matrix(corpus_preprocessed, vocab_idx, window_size)\n",
    "cooccurrence_matrix[0]"
   ]
  },
  {
   "cell_type": "code",
   "execution_count": null,
   "metadata": {},
   "outputs": [],
   "source": [
    "# hyperparameters\n",
    "x_max = 100\n",
    "alpha = 0.75\n",
    "embedding_dim = 50\n",
    "\n",
    "# Initialize word vectors and bias\n",
    "key = jax.random.PRNGKey(0)\n",
    "v = jax.random.normal(key, (vocab_size, embedding_dim))\n",
    "key, subkey = jax.random.split(key)\n",
    "v_tilde = jax.random.normal(subkey, (vocab_size, embedding_dim))\n",
    "bias = jnp.zeros(vocab_size)\n",
    "bias_tilde = jnp.zeros(vocab_size)"
   ]
  },
  {
   "cell_type": "code",
   "execution_count": null,
   "metadata": {},
   "outputs": [],
   "source": [
    "# weight function\n",
    "def f(x):\n",
    "    return jax.minimum(1.0, (x/x_max)**alpha)\n",
    "\n",
    "# loss function\n",
    "def gLove_loss(v, v_tilde, bias, bias_tilde, cooccurrence_matrix):\n",
    "    loss = 0.0\n",
    "    for word in cooccurrence_matrix:\n",
    "        for context_word in cooccurrence_matrix[word]:\n",
    "            X_ij = cooccurrence_matrix[word][context_word]\n",
    "            weight = f(X_ij)\n",
    "            diff = jnp.dot(v[word], v_tilde[context_word]) + bias[word] + bias_tilde[context_word] - jnp.log(X_ij)\n",
    "            loss += weight * diff**2\n",
    "    return loss"
   ]
  },
  {
   "cell_type": "code",
   "execution_count": 7,
   "metadata": {},
   "outputs": [
    {
     "name": "stdout",
     "output_type": "stream",
     "text": [
      "Filtered sentence 0: []\n",
      "Filtered sentence 1: ['scotty', 'go', 'back', 'school']\n",
      "Filtered sentence 2: ['parents', 'talked', 'seriously', 'lengthily', 'doctor', 'specialist', 'university', 'hospital', 'mckinley', 'entitled', 'discount', 'members', 'family', 'decided', 'would', 'best', 'take', 'remainder', 'term', 'spend', 'lot', 'time', 'bed', 'rest', 'pretty', 'much', 'chose', 'provided', 'course', 'chose', 'nothing', 'exciting', 'debilitating']\n",
      "Filtered sentence 3: ['teacher', 'school', 'principal', 'conferred', 'everyone', 'agreed', 'kept', 'certain', 'amount', 'work', 'home', 'little', 'danger', 'losing', 'term']\n",
      "Filtered sentence 4: ['scotty', 'accepted', 'decision', 'indifference', 'enter', 'arguments']\n"
     ]
    }
   ],
   "source": [
    "# Filter out stopwords and non-alphanumeric words and convert to lowercase\n",
    "filtered_stopwords_sentences = []\n",
    "\n",
    "for sent in filtered_sentences:\n",
    "    filtered_sent = [word.lower() for word in sent if word.isalnum() and word.lower() not in stopwords]\n",
    "    filtered_stopwords_sentences.append(filtered_sent)\n",
    "\n",
    "# Print the first 5 sentences\n",
    "for i in range(5):\n",
    "    print(f\"Filtered sentence {i}: {filtered_stopwords_sentences[i]}\")"
   ]
  },
  {
   "cell_type": "markdown",
   "metadata": {},
   "source": [
    "### Word2Vec Word Embedding"
   ]
  },
  {
   "cell_type": "markdown",
   "metadata": {},
   "source": [
    "#### Skip-gram model"
   ]
  },
  {
   "cell_type": "markdown",
   "metadata": {},
   "source": [
    "In Skip-Gram, the goal is to predict the context words $w_c$ given a target word $w_t$. "
   ]
  },
  {
   "cell_type": "markdown",
   "metadata": {},
   "source": [
    "##### Original using softmax"
   ]
  },
  {
   "cell_type": "code",
   "execution_count": 8,
   "metadata": {},
   "outputs": [],
   "source": [
    "from collections import defaultdict\n",
    "\n",
    "# Build vocabulary index\n",
    "def build_vocab(sentences):\n",
    "    word_count = defaultdict(int)\n",
    "\n",
    "    for sent in sentences:\n",
    "        for word in sent:\n",
    "            word_count[word] += 1\n",
    "\n",
    "    word_to_idx = {}\n",
    "    idx_to_word = {}\n",
    "\n",
    "    for i, word in enumerate(word_count):\n",
    "        word_to_idx[word] = i\n",
    "        idx_to_word[i] = word\n",
    "\n",
    "    return word_to_idx, idx_to_word, word_count\n",
    "\n",
    "# One-hot encode a word\n",
    "def OHE_word(word, word_to_idx):\n",
    "    x = [0] * len(word_to_idx)\n",
    "    x[word_to_idx[word]] = 1\n",
    "    return jnp.array(x)\n",
    "\n",
    "# Get the context words for a target word in a sentence\n",
    "def get_context_words(target_idx, sentence, window_size=2):\n",
    "    start = max(0, target_idx - window_size)\n",
    "    end = min(len(sentence), target_idx + window_size + 1)\n",
    "\n",
    "    context_words = []\n",
    "    for context_idx in range(start, end):\n",
    "        if context_idx != target_idx:\n",
    "            context_words.append(sentence[context_idx])\n",
    "    return context_words\n",
    "\n",
    "# Generate training data from sentences\n",
    "def generate_training_data(sentences, word_to_idx, window_size=2):\n",
    "    X = []\n",
    "    Y = []\n",
    "\n",
    "    for sent in sentences:\n",
    "        for target_idx in range(len(sent)):\n",
    "            target_word = sent[target_idx]\n",
    "            context_words = get_context_words(target_idx, sent, window_size)\n",
    "\n",
    "            for context_word in context_words:\n",
    "                X.append(OHE_word(target_word, word_to_idx))\n",
    "                Y.append(OHE_word(context_word, word_to_idx))\n",
    "\n",
    "    X = jnp.array(X)\n",
    "    Y = jnp.array(Y)\n",
    "\n",
    "    return X, Y\n",
    "\n",
    "# Softmax function\n",
    "def softmax(x):\n",
    "    return jnp.exp(x) / jnp.sum(jnp.exp(x))\n",
    "\n",
    "# Forward pass of the neural network\n",
    "@jax.jit\n",
    "def net(params, # the list of paramaters\n",
    "        x,      # a single one-hot encoded word, of correct shape\n",
    "        ):\n",
    "    # Initialize the output\n",
    "    x_out = x\n",
    "\n",
    "    # Get the layers\n",
    "    N_layers = len(params)\n",
    "    for layer_idx in range(N_layers - 1): # Last layer is different\n",
    "        (A,)  = params[layer_idx]\n",
    "        x_out = A@x_out\n",
    "\n",
    "    # Last layer uses softmax\n",
    "    (A,) = params[-1]\n",
    "    x_out = softmax(A@x_out)\n",
    "\n",
    "    return x_out\n",
    "\n",
    "# Initialize the parameters of the neural network\n",
    "# Bias terms are not necessary for word embeddings\n",
    "def init_weights(layer_dims): # (d_in, d1, d2, ..., d_L) -> [(A0,), (A1,), ..., (A_L,)]\n",
    "    N_layers = len(layer_dims)\n",
    "    params = []\n",
    "\n",
    "    for layer_idx in range(N_layers - 1): # Inbetween layers\n",
    "        # Get the dimensions of the current layer and the next layer\n",
    "        d_in = layer_dims[layer_idx]\n",
    "        d_out = layer_dims[layer_idx + 1]\n",
    "\n",
    "        # Weights should have mean=0 and variance=1/d_in, size = (d_out, d_in)\n",
    "        A = np.random.normal(0, 1/np.sqrt(d_in), size=(d_out, d_in))\n",
    "\n",
    "        params.append((A,))\n",
    "    return params\n",
    "\n",
    "# Count the number of parameters in the neural network\n",
    "def count_params(params):\n",
    "    n_params = 0\n",
    "    for layer_idx, (A,) in enumerate(params):\n",
    "        n_params += A.size \n",
    "    return n_params\n",
    "\n",
    "# Forward pass for batch of OHE words\n",
    "net_batch = jax.jit(jax.vmap(net, in_axes=(None, 0)))\n",
    "\n",
    "# Cross entropy loss\n",
    "@jax.jit\n",
    "def cross_entropy_loss(y, y_pred):\n",
    "    return -jnp.sum(y * jnp.log(y_pred))\n",
    "\n",
    "# Loss function for a batch of inputs\n",
    "@jax.jit\n",
    "def loss(params, \n",
    "         x, # batch inputs\n",
    "         y # batch outputs\n",
    "        ):\n",
    "    y_pred = net_batch(params, x)\n",
    "    y_pred = y_pred[..., 0]\n",
    "    return cross_entropy_loss(y, y_pred)\n",
    "\n",
    "# Compute the value and gradient of the loss function\n",
    "loss_value_and_grad = jax.jit(jax.value_and_grad(loss))"
   ]
  },
  {
   "cell_type": "markdown",
   "metadata": {},
   "source": [
    "##### Testing on small data"
   ]
  },
  {
   "cell_type": "code",
   "execution_count": 9,
   "metadata": {},
   "outputs": [
    {
     "name": "stdout",
     "output_type": "stream",
     "text": [
      "Vocabulary size: 7\n",
      "Number of parameters in the network: 28\n",
      "Layer 0 shape: (2, 7)\n",
      "Layer 1 shape: (7, 2)\n"
     ]
    }
   ],
   "source": [
    "# Try a small example\n",
    "word_to_idx, idx_to_word, word_count = build_vocab(filtered_sentences[:2])\n",
    "vocab_size = len(word_to_idx)\n",
    "print(f\"Vocabulary size: {vocab_size}\")\n",
    "\n",
    "V = vocab_size\n",
    "E = 2 # Embedding dimension\n",
    "\n",
    "params = init_weights([V, E, V])\n",
    "\n",
    "# let us count the number of parameters\n",
    "print(\"Number of parameters in the network:\", count_params(params))\n",
    "\n",
    "# Print the shapes of the weights \n",
    "for layer_idx, (A,) in enumerate(params):\n",
    "    print(f\"Layer {layer_idx} shape: {A.shape}\")"
   ]
  },
  {
   "cell_type": "code",
   "execution_count": 10,
   "metadata": {},
   "outputs": [],
   "source": [
    "X, Y = generate_training_data(filtered_sentences[:2], word_to_idx, window_size=2)"
   ]
  },
  {
   "cell_type": "code",
   "execution_count": 11,
   "metadata": {},
   "outputs": [
    {
     "name": "stdout",
     "output_type": "stream",
     "text": [
      "shape of the input: (7, 1)\n",
      "shape of the output: (7, 1)\n",
      "output: [[0.06635585]\n",
      " [0.12693453]\n",
      " [0.23136471]\n",
      " [0.09541664]\n",
      " [0.11540101]\n",
      " [0.20822115]\n",
      " [0.15630615]]\n"
     ]
    }
   ],
   "source": [
    "# Single input text\n",
    "x_in = X[0][..., jnp.newaxis]\n",
    "print(f'shape of the input: {x_in.shape}')\n",
    "x_out = net(params, x_in)\n",
    "print(f'shape of the output: {x_out.shape}')\n",
    "print(f'output: {x_out}')"
   ]
  },
  {
   "cell_type": "code",
   "execution_count": 12,
   "metadata": {},
   "outputs": [
    {
     "name": "stdout",
     "output_type": "stream",
     "text": [
      "shape of the input: (2, 7, 1)\n"
     ]
    },
    {
     "data": {
      "text/plain": [
       "Array([[[0.06635585],\n",
       "        [0.12693453],\n",
       "        [0.23136471],\n",
       "        [0.09541664],\n",
       "        [0.11540101],\n",
       "        [0.20822115],\n",
       "        [0.15630615]],\n",
       "\n",
       "       [[0.06635585],\n",
       "        [0.12693453],\n",
       "        [0.23136471],\n",
       "        [0.09541664],\n",
       "        [0.11540101],\n",
       "        [0.20822115],\n",
       "        [0.15630615]]], dtype=float32)"
      ]
     },
     "execution_count": 12,
     "metadata": {},
     "output_type": "execute_result"
    }
   ],
   "source": [
    "# Batch input test\n",
    "x_batch = X[:2]\n",
    "x_batch = x_batch[..., jnp.newaxis]\n",
    "print(f'shape of the input: {x_batch.shape}')\n",
    "net_batch(params, x_batch)"
   ]
  },
  {
   "cell_type": "markdown",
   "metadata": {},
   "source": [
    "##### Optimise the word embeddings"
   ]
  },
  {
   "cell_type": "code",
   "execution_count": null,
   "metadata": {},
   "outputs": [],
   "source": [
    "# Hyperparameters\n",
    "window_size = 8\n",
    "\n",
    "# Build the vocab\n",
    "sentences = filtered_stopwords_sentences\n",
    "word_to_idx, idx_to_word, word_count = build_vocab(sentences)\n",
    "vocab_size = len(word_to_idx)\n",
    "print(f'Vocabulary size: {vocab_size}')\n",
    "\n",
    "# Generate training data\n",
    "X, Y = generate_training_data(sentences, word_to_idx, window_size=window_size)\n",
    "print(f'X shape: {X.shape}')\n",
    "\n",
    "N = X.shape[0] # Number of training samples\n",
    "indices = jnp.arange(N) # Indices of the training samples"
   ]
  },
  {
   "cell_type": "code",
   "execution_count": null,
   "metadata": {},
   "outputs": [
    {
     "name": "stdout",
     "output_type": "stream",
     "text": [
      "Number of parameters: 31600\n"
     ]
    }
   ],
   "source": [
    "# Hyperparameters\n",
    "n_epochs = 10\n",
    "lr = 0.01\n",
    "embedding_size = 100\n",
    "batch_size = 128\n",
    "n_batches = N // batch_size\n",
    "\n",
    "# Define stopping criteria (loss tolerance)\n",
    "tolerance = 1e-6\n",
    "\n",
    "# Initialize the parameters\n",
    "params = init_weights([vocab_size, embedding_size, vocab_size])\n",
    "print(f'Number of parameters: {count_params(params)}')"
   ]
  },
  {
   "cell_type": "code",
   "execution_count": null,
   "metadata": {},
   "outputs": [],
   "source": [
    "# Track the loss and time\n",
    "loss_history = []\n",
    "time_history = []\n",
    "\n",
    "for epoch in range(n_epochs):\n",
    "    # shuffle the data\n",
    "    indices = np.random.permutation(indices)\n",
    "\n",
    "    # stores all the losses for this epoch\n",
    "    epoch_losses = []\n",
    "\n",
    "    # Start the timer\n",
    "    start_time = time.time()\n",
    "\n",
    "    for batch in range(n_batches):\n",
    "        # Get the current batch\n",
    "        batch_idices = indices[batch*batch_size:(batch+1)*batch_size]\n",
    "        x_batch = X[batch_idices]\n",
    "        y_batch = Y[batch_idices]\n",
    "\n",
    "        # Add a fake last dimension to the input\n",
    "        x_batch = x_batch[..., jnp.newaxis]\n",
    "\n",
    "        # Compute the loss and the gradient\n",
    "        loss_value, grad = loss_value_and_grad(params, x_batch, y_batch)\n",
    "        epoch_losses.append(loss_value)\n",
    "\n",
    "        # Update the parameters\n",
    "        params = jax.tree_util.tree_map(lambda p, g: p - lr * g, params, grad)\n",
    "\n",
    "    # Track the mean loss for each epoch\n",
    "    mean_epoch_loss = np.mean(epoch_losses)\n",
    "    loss_history.append(mean_epoch_loss)\n",
    "    time_history.append(time.time())\n",
    "\n",
    "    # Check for convergence of loss\n",
    "    if epoch > 0 and abs(loss_history[-1] - loss_history[-2]) < tolerance:\n",
    "        print(f\"Stopping early at epoch {epoch+1} due to convergence of loss.\")\n",
    "        break\n",
    "\n",
    "    # Display the loss every 100 epochs\n",
    "    if epoch % 100 == 0:\n",
    "        print(f\"Epoch {epoch+1}/{n_epochs}, loss = {mean_epoch_loss}\")"
   ]
  },
  {
   "cell_type": "markdown",
   "metadata": {},
   "source": [
    "Plots"
   ]
  },
  {
   "cell_type": "code",
   "execution_count": null,
   "metadata": {},
   "outputs": [
    {
     "data": {
      "image/png": "[encoded data removed]",
      "text/plain": [
       "<Figure size 640x480 with 1 Axes>"
      ]
     },
     "metadata": {},
     "output_type": "display_data"
    }
   ],
   "source": [
    "# Plot the loss\n",
    "plt.plot(loss_history)\n",
    "plt.xlabel('Epoch')\n",
    "plt.ylabel('Loss')\n",
    "plt.title('Training Loss')\n",
    "plt.show()"
   ]
  },
  {
   "cell_type": "markdown",
   "metadata": {},
   "source": [
    "##### Check the embeddings"
   ]
  },
  {
   "cell_type": "code",
   "execution_count": 35,
   "metadata": {},
   "outputs": [],
   "source": [
    "# Function to get the word embedding of a word\n",
    "def get_word_embedding(word, word_to_idx, word_embeddings):\n",
    "    idx = word_to_idx[word]\n",
    "    return word_embeddings[idx]\n",
    "\n",
    "# Function to compute the cosine similarity between two vectors\n",
    "def cosine_similarity(vec1, vec2):\n",
    "    dot_product = jnp.dot(vec1, vec2)\n",
    "    norm_a = jnp.linalg.norm(vec1)\n",
    "    norm_b = jnp.linalg.norm(vec2)\n",
    "    if norm_a == 0 or norm_b == 0:  # Prevent division by zero\n",
    "        return 0.0\n",
    "    return dot_product / (norm_a * norm_b)\n",
    "\n",
    "# Function to evaluate similarities given a list of word pairs\n",
    "def evaluate_similarity(word_to_idx, word_embeddings, word_pairs):\n",
    "    scores = []\n",
    "    for word1, word2 in word_pairs:\n",
    "        if word1 in word_to_idx and word2 in word_to_idx:\n",
    "            vec1 = get_word_embedding(word1, word_to_idx, word_embeddings)\n",
    "            vec2 = get_word_embedding(word2, word_to_idx, word_embeddings)\n",
    "            cos_sim = cosine_similarity(vec1, vec2)\n",
    "            scores.append((word1, word2, cos_sim))\n",
    "        else:\n",
    "            print(f\"Warning: One of the words '{word1}' or '{word2}' is not in the vocabulary.\")\n",
    "    return scores"
   ]
  },
  {
   "cell_type": "code",
   "execution_count": 43,
   "metadata": {},
   "outputs": [
    {
     "name": "stdout",
     "output_type": "stream",
     "text": [
      "Shape of word embeddings: (158, 10)\n",
      "Warning: One of the words 'king' or 'queen' is not in the vocabulary.\n",
      "Warning: One of the words 'man' or 'woman' is not in the vocabulary.\n",
      "Warning: One of the words 'king' or 'man' is not in the vocabulary.\n",
      "Warning: One of the words 'apple' or 'fruit' is not in the vocabulary.\n",
      "Warning: One of the words 'mother' or 'father' is not in the vocabulary.\n",
      "Warning: One of the words 'son' or 'daugther' is not in the vocabulary.\n",
      "Warning: One of the words 'mother' or 'daughter' is not in the vocabulary.\n",
      "Cosine similarity between 'father' and 'son': -0.2851\n"
     ]
    }
   ],
   "source": [
    "word_embeddings = params[0][0].T\n",
    "print(f\"Shape of word embeddings: {word_embeddings.shape}\")\n",
    "\n",
    "# Example word pairs and their expected similarities\n",
    "word_pairs = [\n",
    "    ('king', 'queen'),  # Expect high similarity\n",
    "    ('man', 'woman'),   # Expect high similarity\n",
    "    ('king', 'man'),    # Moderate similarity\n",
    "    ('apple', 'fruit'),  # Depending on your vocabulary, could expect a similarity\n",
    "\n",
    "    ('mother', 'father'),\n",
    "    ('son', 'daugther'),\n",
    "    ('father', 'son'),\n",
    "    ('mother', 'daughter')\n",
    "\n",
    "]\n",
    "\n",
    "# Run the evaluation\n",
    "similarity_scores = evaluate_similarity(word_to_idx, word_embeddings, word_pairs)\n",
    "\n",
    "# Print results\n",
    "for word1, word2, sim in similarity_scores:\n",
    "    print(f\"Cosine similarity between '{word1}' and '{word2}': {sim:.4f}\")"
   ]
  },
  {
   "cell_type": "code",
   "execution_count": 42,
   "metadata": {},
   "outputs": [
    {
     "data": {
      "text/plain": [
       "{'scotty': 0,\n",
       " 'go': 1,\n",
       " 'back': 2,\n",
       " 'school': 3,\n",
       " 'parents': 4,\n",
       " 'talked': 5,\n",
       " 'seriously': 6,\n",
       " 'lengthily': 7,\n",
       " 'doctor': 8,\n",
       " 'specialist': 9,\n",
       " 'university': 10,\n",
       " 'hospital': 11,\n",
       " 'mckinley': 12,\n",
       " 'entitled': 13,\n",
       " 'discount': 14,\n",
       " 'members': 15,\n",
       " 'family': 16,\n",
       " 'decided': 17,\n",
       " 'would': 18,\n",
       " 'best': 19,\n",
       " 'take': 20,\n",
       " 'remainder': 21,\n",
       " 'term': 22,\n",
       " 'spend': 23,\n",
       " 'lot': 24,\n",
       " 'time': 25,\n",
       " 'bed': 26,\n",
       " 'rest': 27,\n",
       " 'pretty': 28,\n",
       " 'much': 29,\n",
       " 'chose': 30,\n",
       " 'provided': 31,\n",
       " 'course': 32,\n",
       " 'nothing': 33,\n",
       " 'exciting': 34,\n",
       " 'debilitating': 35,\n",
       " 'teacher': 36,\n",
       " 'principal': 37,\n",
       " 'conferred': 38,\n",
       " 'everyone': 39,\n",
       " 'agreed': 40,\n",
       " 'kept': 41,\n",
       " 'certain': 42,\n",
       " 'amount': 43,\n",
       " 'work': 44,\n",
       " 'home': 45,\n",
       " 'little': 46,\n",
       " 'danger': 47,\n",
       " 'losing': 48,\n",
       " 'accepted': 49,\n",
       " 'decision': 50,\n",
       " 'indifference': 51,\n",
       " 'enter': 52,\n",
       " 'arguments': 53,\n",
       " 'discharged': 54,\n",
       " 'checkup': 55,\n",
       " 'described': 56,\n",
       " 'celebration': 57,\n",
       " 'lunch': 58,\n",
       " 'cafeteria': 59,\n",
       " 'campus': 60,\n",
       " 'rachel': 61,\n",
       " 'wore': 62,\n",
       " 'smart': 63,\n",
       " 'hat': 64,\n",
       " 'warned': 65,\n",
       " 'recently': 66,\n",
       " 'smoking': 67,\n",
       " 'puffed': 68,\n",
       " 'cigarettes': 69,\n",
       " 'long': 70,\n",
       " 'ivory': 71,\n",
       " 'holder': 72,\n",
       " 'stained': 73,\n",
       " 'lipstick': 74,\n",
       " 'father': 75,\n",
       " 'sat': 76,\n",
       " 'sprawled': 77,\n",
       " 'chair': 78,\n",
       " 'angular': 79,\n",
       " 'alert': 80,\n",
       " 'cricket': 81,\n",
       " 'looking': 82,\n",
       " 'huge': 83,\n",
       " 'appointments': 84,\n",
       " 'room': 85,\n",
       " 'expression': 86,\n",
       " 'proprietorship': 87,\n",
       " 'teachers': 88,\n",
       " 'men': 89,\n",
       " 'brown': 90,\n",
       " 'suits': 91,\n",
       " 'gray': 92,\n",
       " 'hair': 93,\n",
       " 'pleasant': 94,\n",
       " 'smiles': 95,\n",
       " 'came': 96,\n",
       " 'table': 97,\n",
       " 'talk': 98,\n",
       " 'shop': 99,\n",
       " 'introduced': 100,\n",
       " 'polite': 101,\n",
       " 'indifferent': 102,\n",
       " 'ate': 103,\n",
       " 'food': 104,\n",
       " 'orange': 105,\n",
       " 'sauces': 106,\n",
       " 'gazed': 107,\n",
       " 'without': 108,\n",
       " 'interest': 109,\n",
       " 'heroic': 110,\n",
       " 'baronial': 111,\n",
       " 'windows': 112,\n",
       " 'bright': 113,\n",
       " 'ranks': 114,\n",
       " 'college': 115,\n",
       " 'banners': 116,\n",
       " 'tried': 117,\n",
       " 'make': 118,\n",
       " 'topic': 119,\n",
       " 'blueberry': 120,\n",
       " 'pie': 121,\n",
       " 'good': 122,\n",
       " 'recommend': 123,\n",
       " 'looked': 124,\n",
       " 'son': 125,\n",
       " 'face': 126,\n",
       " 'worried': 127,\n",
       " 'murmured': 128,\n",
       " 'thanks': 129,\n",
       " 'softly': 130,\n",
       " 'bend': 131,\n",
       " 'gaunt': 132,\n",
       " 'height': 133,\n",
       " 'across': 134,\n",
       " 'turn': 135,\n",
       " 'round': 136,\n",
       " 'ear': 137,\n",
       " 'regarded': 138,\n",
       " 'grizzled': 139,\n",
       " 'around': 140,\n",
       " 'moment': 141,\n",
       " 'said': 142,\n",
       " 'loudly': 143,\n",
       " 'full': 144,\n",
       " 'old': 145,\n",
       " 'pop': 146,\n",
       " 'eaten': 147,\n",
       " 'almost': 148,\n",
       " 'crested': 149,\n",
       " 'plate': 150,\n",
       " 'drunk': 151,\n",
       " 'half': 152,\n",
       " 'milk': 153,\n",
       " 'paper': 154,\n",
       " 'container': 155,\n",
       " 'right': 156,\n",
       " 'craig': 157}"
      ]
     },
     "execution_count": 42,
     "metadata": {},
     "output_type": "execute_result"
    }
   ],
   "source": [
    "word_to_idx"
   ]
  },
  {
   "cell_type": "markdown",
   "metadata": {},
   "source": [
    "##### Skip-Gram with Negative Sampling (SGNS)"
   ]
  },
  {
   "cell_type": "markdown",
   "metadata": {},
   "source": [
    "Negative sampling simplifies this process by approximating the softmax function, \n",
    "focusing only on a few context words (positive samples) and a few randomly selected words from the vocabulary (negative samples) instead of the entire vocabulary.\n",
    "\n",
    "Loss Function: \\\n",
    "The loss function for Skip-Gram with Negative Sampling (SGNS) is typically a binary cross-entropy loss. For each target word $w_t$ and its context words $w_c$, the loss function tries to:\n",
    "- Maximize the probability that $w_c$ appears in the context of $w_t$\n",
    "- Minimize the probability that randomly selected (negative) words appear in the context\n",
    "\n",
    "The loss function is\n",
    "$$ L = - \\left[ \\sum_{w_c \\in \\text{context}} \\log \\sigma \\left( \\langle v_{w_c}, v_{w_t} \\rangle \\right) \n",
    "             +  \\sum_{w_n \\in \\text{negatives}} \\log \\sigma \\left( \\langle -v_{w_n}, v_{w_t} \\rangle \\right) \\right] $$\n",
    "\n",
    "where \n",
    "- $v_{w_t}$ is the embedding vector of target word $w_t$\n",
    "- $v_{w_c}$ is the embedding vector of context word $w_c$\n",
    "- $v_{w_n}$ is the embedding vector of negative word $w_n$ \n",
    "- $\\sigma(x)$ is the sigmoid function $\\sigma(x) = \\frac{1}{1 + e^{-x}}$ "
   ]
  },
  {
   "cell_type": "markdown",
   "metadata": {},
   "source": [
    "##### Building Vocabulary"
   ]
  },
  {
   "cell_type": "code",
   "execution_count": null,
   "metadata": {},
   "outputs": [
    {
     "name": "stdout",
     "output_type": "stream",
     "text": [
      "Vocabulary size: 8155\n"
     ]
    }
   ],
   "source": [
    "from collections import defaultdict\n",
    "\n",
    "# Build vocabulary index\n",
    "def build_vocab_idx(filtered_sentences):\n",
    "    vocab_count = defaultdict(int)\n",
    "    for sentence in filtered_sentences:\n",
    "        for word in sentence:\n",
    "            vocab_count[word] += 1\n",
    "    return {word: idx for idx, (word, _) in enumerate(vocab_count.items())}, vocab_count\n",
    "\n",
    "vocab_idx, vocab_count = build_vocab_idx(filtered_sentences)\n",
    "vocab_size = len(vocab_idx)\n",
    "print(f\"Vocabulary size: {vocab_size}\")"
   ]
  },
  {
   "cell_type": "markdown",
   "metadata": {},
   "source": [
    "##### Generate Context Words & Negative Samples"
   ]
  },
  {
   "cell_type": "code",
   "execution_count": null,
   "metadata": {},
   "outputs": [],
   "source": [
    "# input: target word index in sentence, selected sentence, number of context words\n",
    "# output: list of context words index linked to vocab_idx, weights\n",
    "def get_context_words(target_idx, sentence, num_context_words):\n",
    "    window_size = num_context_words // 2\n",
    "    \n",
    "    start = max(0, target_idx - window_size)\n",
    "    end = min(len(sentence), target_idx + window_size + 1)\n",
    "\n",
    "    contexts = []\n",
    "    weights = []\n",
    "\n",
    "    for i in range(start, end):\n",
    "        if i != target_idx:\n",
    "            contexts.append(vocab_idx[sentence[i]])\n",
    "            weights.append(1/abs(i-target_idx))\n",
    "    while len(contexts) < num_context_words:\n",
    "        contexts.append(vocab_size)\n",
    "    while len(weights) < num_context_words:\n",
    "        weights.append(vocab_size)\n",
    "    \n",
    "    return contexts, weights\n",
    "\n",
    "\n",
    "# input: target word index in vocab_idx, number of unique words, number of negative samples, contexts output of get_context_words()\n",
    "# output: list of negative words index linked to vocab_idx\n",
    "def get_negative_samples(target, vocab_size, num_negative_samples, contexts):\n",
    "    negative_samples = set()\n",
    "    \n",
    "    while len(negative_samples) < num_negative_samples:\n",
    "        # Sample a random word from the vocabulary\n",
    "        neg_sample = np.random.randint(0, vocab_size)\n",
    "        # Ensure it's not the target word or context word\n",
    "        if neg_sample != target and neg_sample not in contexts:\n",
    "            negative_samples.add(neg_sample)\n",
    "    \n",
    "    return list(negative_samples)"
   ]
  },
  {
   "cell_type": "markdown",
   "metadata": {},
   "source": [
    "##### Gradient Descent & Backtracking Line Search"
   ]
  },
  {
   "cell_type": "code",
   "execution_count": null,
   "metadata": {},
   "outputs": [],
   "source": [
    "def grad_descent(fn, initial_lr, beta, eta, W_in, W_out, batch_targets, batch_contexts, batch_neg_samples, batch_weights):\n",
    "    # Convert to array for it to work with jit.vmap\n",
    "    batch_targets = jnp.array(batch_targets)\n",
    "    batch_contexts = jnp.array(batch_contexts)\n",
    "    batch_neg_samples = jnp.array(batch_neg_samples)\n",
    "    batch_weights = jnp.array(batch_weights)\n",
    "    \n",
    "    # Get initial loss and gradient\n",
    "    initial_loss = fn(W_in, W_out, batch_targets, batch_contexts, batch_neg_samples, batch_weights)\n",
    "    gradients = jax.grad(fn, argnums=(0, 1))(W_in, W_out, batch_targets, batch_contexts, batch_neg_samples, batch_weights)\n",
    "\n",
    "    # Backtracking line search\n",
    "    # Descent Direction for W_in and W_out\n",
    "    d_in, d_out = -gradients[0], -gradients[1]\n",
    "    lr = initial_lr\n",
    "\n",
    "    while True:\n",
    "        new_W_in = W_in + lr * d_in\n",
    "        new_W_out = W_out + lr * d_out\n",
    "        new_loss = fn(new_W_in, new_W_out, batch_targets, batch_contexts, batch_neg_samples, batch_weights)\n",
    "        \n",
    "        # Check if the new loss meets the sufficient decrease condition\n",
    "        # Exit loop if condition is met\n",
    "        if new_loss <= initial_loss + eta * lr * (jnp.sum(gradients[0] * d_in) + jnp.sum(gradients[1] * d_out)):\n",
    "            break\n",
    "\n",
    "        # Reduce alpha if condition is not met\n",
    "        lr *= beta\n",
    "\n",
    "    # Update embeddings\n",
    "    W_in += lr * d_in\n",
    "    W_out += lr * d_out\n",
    "\n",
    "    return W_in, W_out"
   ]
  },
  {
   "cell_type": "markdown",
   "metadata": {},
   "source": [
    "##### Loss Function"
   ]
  },
  {
   "cell_type": "code",
   "execution_count": null,
   "metadata": {},
   "outputs": [],
   "source": [
    "# input: W_in, W_out, target word index in vocab_idx, contexts & weights output of get_context_words(), \n",
    "#   negative_samples output of get_negative_samples()\n",
    "# output: loss value\n",
    "@jax.jit\n",
    "def SGNS_single_loss_fn(W_in, W_out, target, contexts, negative_samples, weights):\n",
    "    # Get word embeddings\n",
    "    target_embedding = W_in[target]\n",
    "\n",
    "    pos_loss = 0\n",
    "    neg_loss = 0\n",
    "    \n",
    "    # Positive score\n",
    "    for idx, i in enumerate(contexts):\n",
    "        weight = weights[idx]\n",
    "        context_embedding = W_out[i]\n",
    "        positive_score = jnp.dot(context_embedding, target_embedding)\n",
    "        # Add 1e-10 to prevent log underflow\n",
    "        pos_loss += jnp.log(jax.nn.sigmoid(positive_score) + 1e-10) * weight\n",
    "\n",
    "    # Negative scores and loss\n",
    "    for j in negative_samples:\n",
    "        negative_embedding = W_out[j]\n",
    "        negative_scores = jnp.dot(-negative_embedding, target_embedding)\n",
    "        # Add 1e-10 to prevent log underflow\n",
    "        neg_loss += jnp.log(jax.nn.sigmoid(negative_scores) + 1e-10)\n",
    "\n",
    "    # Total loss is the sum of positive loss and negative loss\n",
    "    return -(pos_loss + neg_loss)\n",
    "\n",
    "SGNS_loss_batched = jax.jit(jax.vmap(SGNS_single_loss_fn, in_axes=(None, None, 0, 0, 0, 0)))\n",
    "\n",
    "@jax.jit\n",
    "def SGNS_batched_loss_fn(W_in, W_out, batch_targets, batch_contexts, batch_neg_samples, batch_weights):\n",
    "    individual_losses = SGNS_loss_batched(W_in, W_out, batch_targets, batch_contexts, batch_neg_samples, batch_weights)\n",
    "    return jnp.mean(individual_losses)\n",
    "\n",
    "SGNS_batched_loss_fn_jit = jax.jit(SGNS_batched_loss_fn)"
   ]
  },
  {
   "cell_type": "markdown",
   "metadata": {},
   "source": [
    "##### Model Training"
   ]
  },
  {
   "cell_type": "code",
   "execution_count": null,
   "metadata": {},
   "outputs": [],
   "source": [
    "# hyperparameters\n",
    "embedding_dim = 100\n",
    "num_negative_samples = 5\n",
    "num_context_words = 4\n",
    "num_epoch = 10\n",
    "batch_size = 128\n",
    "\n",
    "initial_lr = 1.0\n",
    "beta = 0.5\n",
    "eta = 0.1\n",
    "\n",
    "# Initiate W_in (for target) and W_out (for context and negative words) matrix\n",
    "# Add a 0 row in last row for target words with less than number of context words required e.g words as start & end of sentence\n",
    "W_in = jax.random.normal(jax.random.PRNGKey(0), (vocab_size, embedding_dim)) * 0.01\n",
    "W_in = jnp.vstack([W_in, jnp.zeros((1, embedding_dim))])\n",
    "W_out = jax.random.normal(jax.random.PRNGKey(1), (vocab_size, embedding_dim)) * 0.01\n",
    "W_out = jnp.vstack([W_out, jnp.zeros((1, embedding_dim))])\n",
    "\n",
    "context_dict = {}\n",
    "weight_dict = {}\n",
    "\n",
    "for epoch in range(num_epoch):\n",
    "    # Initiate for batch\n",
    "    batch_targets, batch_contexts, batch_neg_samples, batch_weights = [], [], [], []\n",
    "    for sentence in filtered_stopwords_sentences:\n",
    "        for target_idx, word in enumerate(sentence):\n",
    "            target = vocab_idx[word]\n",
    "            \n",
    "            # Save context words and weights for future epoch\n",
    "            if epoch > 0:\n",
    "                contexts = context_dict[target]\n",
    "                weights = weight_dict[target]\n",
    "            else:\n",
    "                contexts, weights = get_context_words(target_idx, sentence, num_context_words)\n",
    "                context_dict[target] = contexts\n",
    "                weight_dict[target] = weights\n",
    "\n",
    "            # Get negative words\n",
    "            negative_samples = get_negative_samples(target, vocab_size, num_negative_samples, contexts)\n",
    "\n",
    "            # Add target, context, negative_samples, weights for batch\n",
    "            # Batch Targets Shape: (batch_size,)\n",
    "            batch_targets.append(target)\n",
    "            # Batch Contexts Shape: (batch_size, num_context_words)\n",
    "            batch_contexts.append(contexts)\n",
    "            # Batch Negative Samples Shape: (batch_size, num_negative_samples)\n",
    "            batch_neg_samples.append(negative_samples)\n",
    "            # Batch Weights Shape: (batch_size, num_context_words)\n",
    "            batch_weights.append(weights)\n",
    "\n",
    "            if len(batch_targets) == batch_size:\n",
    "                W_in, W_out = \\\n",
    "                    grad_descent(SGNS_batched_loss_fn_jit, initial_lr, beta, eta,\\\n",
    "                        W_in, W_out, batch_targets, batch_contexts, batch_neg_samples, batch_weights)\n",
    "\n",
    "                # Reset batches\n",
    "                batch_targets, batch_contexts, batch_neg_samples, batch_weights = [], [], [], []\n",
    "    \n",
    "    # Include last few words not enough to form batch\n",
    "    if len(batch_targets) != 0:\n",
    "        W_in, W_out = \\\n",
    "            grad_descent(SGNS_batched_loss_fn_jit, initial_lr, beta, eta,\\\n",
    "                W_in, W_out, batch_targets, batch_contexts, batch_neg_samples, batch_weights)"
   ]
  },
  {
   "cell_type": "markdown",
   "metadata": {},
   "source": [
    "##### Model Testing"
   ]
  },
  {
   "cell_type": "code",
   "execution_count": null,
   "metadata": {},
   "outputs": [
    {
     "name": "stdout",
     "output_type": "stream",
     "text": [
      "Warning: One of the words 'apple' or 'fruit' is not in the vocabulary.\n",
      "Cosine similarity between 'king' and 'queen': 0.7433\n",
      "Cosine similarity between 'man' and 'woman': 0.8463\n",
      "Cosine similarity between 'king' and 'man': -0.8466\n"
     ]
    }
   ],
   "source": [
    "import jax.numpy as jnp\n",
    "\n",
    "# Function to compute cosine similarity using JAX\n",
    "def cosine_similarity(vec1, vec2):\n",
    "    dot_product = jnp.dot(vec1, vec2)\n",
    "    norm_a = jnp.linalg.norm(vec1)\n",
    "    norm_b = jnp.linalg.norm(vec2)\n",
    "    if norm_a == 0 or norm_b == 0:  # Prevent division by zero\n",
    "        return 0.0\n",
    "    return dot_product / (norm_a * norm_b)\n",
    "\n",
    "# Example word pairs and their expected similarities\n",
    "word_pairs = [\n",
    "    ('king', 'queen'),  # Expect high similarity\n",
    "    ('man', 'woman'),   # Expect high similarity\n",
    "    ('king', 'man'),    # Moderate similarity\n",
    "    ('apple', 'fruit'),  # Depending on your vocabulary, could expect a similarity\n",
    "]\n",
    "\n",
    "# Function to evaluate similarities using W_out\n",
    "def evaluate_similarity(vocab_idx, W_out, word_pairs):\n",
    "    scores = []\n",
    "    for word1, word2 in word_pairs:\n",
    "        if word1 in vocab_idx and word2 in vocab_idx:\n",
    "            vec1 = W_out[vocab_idx[word1]]  # Get the output embedding for word1\n",
    "            vec2 = W_out[vocab_idx[word2]]  # Get the output embedding for word2\n",
    "            cos_sim = cosine_similarity(vec1, vec2)\n",
    "            scores.append((word1, word2, cos_sim))\n",
    "        else:\n",
    "            print(f\"Warning: One of the words '{word1}' or '{word2}' is not in the vocabulary.\")\n",
    "    \n",
    "    return scores\n",
    "\n",
    "# Run the evaluation\n",
    "similarity_scores = evaluate_similarity(vocab_idx, W_out, word_pairs)\n",
    "\n",
    "# Print results\n",
    "for word1, word2, sim in similarity_scores:\n",
    "    print(f\"Cosine similarity between '{word1}' and '{word2}': {sim:.4f}\")"
   ]
  },
  {
   "cell_type": "markdown",
   "metadata": {},
   "source": [
    "# Ignore"
   ]
  },
  {
   "cell_type": "markdown",
   "metadata": {},
   "source": [
    "#####  Skip-Gram with Hierarchical Softmax"
   ]
  },
  {
   "cell_type": "markdown",
   "metadata": {},
   "source": [
    "Hierarchical Softmax is an alternative to Negative Sampling, where the softmax function is approximated using a binary tree. The loss function is structured similarly to SGNS but involves traversing the binary tree structure and computing a conditional probability at each node.\n",
    "\n",
    "In this case, the loss function minimizes the difference between the predicted probability and the actual label for each word pair, traversing the tree for each prediction. The key idea is to reduce the computational complexity of softmax when dealing with a large vocabulary."
   ]
  },
  {
   "cell_type": "code",
   "execution_count": null,
   "metadata": {},
   "outputs": [],
   "source": []
  },
  {
   "cell_type": "markdown",
   "metadata": {},
   "source": [
    "#### Continuous Bag of Words (CBOW) model"
   ]
  },
  {
   "cell_type": "markdown",
   "metadata": {},
   "source": [
    "In CBOW, the objective is to predict the target word ​$w_t$ given the context words $w_c$. "
   ]
  },
  {
   "cell_type": "markdown",
   "metadata": {},
   "source": [
    "#####  CBOW with Negative Sampling\n"
   ]
  },
  {
   "cell_type": "markdown",
   "metadata": {},
   "source": [
    "The model takes the average of the context word embeddings and tries to predict the target word. The loss function for CBOW with Negative Sampling is also binary cross-entropy but formulated slightly differently due to the averaging of context word embeddings.\n",
    "\n",
    "The loss function is\n",
    "$$ L = - \\left[ \\log \\sigma \\left( \\langle v_{w_t}, v_C \\rangle \\right) \n",
    "             +  \\sum_{w_n \\in \\text{negatives}} \\log \\sigma \\left( \\langle -v_{w_n}, v_C \\rangle \\right) \\right] $$  \n",
    "where \n",
    "$$ v_C = \\frac{1}{|C|} \\sum_{w_c \\in C} v_{w_c} $$"
   ]
  },
  {
   "cell_type": "markdown",
   "metadata": {},
   "source": [
    "##### Loss Function"
   ]
  },
  {
   "cell_type": "code",
   "execution_count": null,
   "metadata": {},
   "outputs": [],
   "source": [
    "# input: W_in, W_out, target word index in vocab_idx, contexts & weights output of get_context_words(), \n",
    "#   negative_samples output of get_negative_samples()\n",
    "# output: loss value\n",
    "@jax.jit\n",
    "def CBOW_single_loss_fn(W_in, W_out, target, contexts, negative_samples, weights):\n",
    "    # Get word embeddings\n",
    "    target_embedding = W_in[target]\n",
    "\n",
    "    neg_loss = 0\n",
    "    \n",
    "    # Get mean context vector\n",
    "    context_total = jnp.zeros((1, embedding_dim))\n",
    "    for idx, i in enumerate(contexts):\n",
    "        weight = weights[idx]\n",
    "        context_embedding = W_out[i]\n",
    "        context_total += weight * context_embedding\n",
    "    context_mean = context_total/(idx+1)\n",
    "    \n",
    "    # Positive score\n",
    "    positive_score = jnp.dot(context_mean, target_embedding)\n",
    "    pos_loss = jnp.log(jax.nn.sigmoid(positive_score)) * weight\n",
    "\n",
    "    # Negative scores and loss\n",
    "    for j in negative_samples:\n",
    "        negative_embedding = W_out[j]\n",
    "        negative_scores = jnp.dot(context_mean, -negative_embedding)\n",
    "        neg_loss += jnp.log(jax.nn.sigmoid(negative_scores))\n",
    "\n",
    "    # Total loss is the sum of positive loss and negative loss\n",
    "    return -(pos_loss + neg_loss)\n",
    "\n",
    "CBOW_loss_batched = jax.jit(jax.vmap(CBOW_single_loss_fn, in_axes=(None, None, 0, 0, 0, 0)))\n",
    "\n",
    "@jax.jit\n",
    "def CBOW_batched_loss_fn(W_in, W_out, batch_targets, batch_contexts, batch_neg_samples, batch_weights):\n",
    "    individual_losses = CBOW_loss_batched(W_in, W_out, batch_targets, batch_contexts, batch_neg_samples, batch_weights)\n",
    "    return jnp.mean(individual_losses)\n",
    "\n",
    "CBOW_batched_loss_fn_jit = jax.jit(CBOW_batched_loss_fn)"
   ]
  },
  {
   "cell_type": "markdown",
   "metadata": {},
   "source": [
    "##### Model Training"
   ]
  },
  {
   "cell_type": "code",
   "execution_count": null,
   "metadata": {},
   "outputs": [],
   "source": [
    "# hyperparameters\n",
    "embedding_dim = 100\n",
    "num_negative_samples = 5\n",
    "num_context_words = 4\n",
    "num_epoch = 10\n",
    "batch_size = 128\n",
    "\n",
    "initial_lr = 1.0\n",
    "beta = 0.5\n",
    "eta = 0.1\n",
    "\n",
    "# Initiate W_in (for target) and W_out (for context and negative words) matrix\n",
    "# Add a 0 row in last row for target words with less than number of context words required e.g words as start & end of sentence\n",
    "W_in = jax.random.normal(jax.random.PRNGKey(0), (vocab_size, embedding_dim)) * 0.01\n",
    "W_in = jnp.vstack([W_in, jnp.zeros((1, embedding_dim))])\n",
    "W_out = jax.random.normal(jax.random.PRNGKey(1), (vocab_size, embedding_dim)) * 0.01\n",
    "W_out = jnp.vstack([W_out, jnp.zeros((1, embedding_dim))])\n",
    "\n",
    "context_dict = {}\n",
    "weight_dict = {}\n",
    "\n",
    "for epoch in range(num_epoch):\n",
    "    # Initiate for batch\n",
    "    batch_targets, batch_contexts, batch_neg_samples, batch_weights = [], [], [], []\n",
    "    for sentence in filtered_stopwords_sentences:\n",
    "        for target_idx, word in enumerate(sentence):\n",
    "            target = vocab_idx[word]\n",
    "            \n",
    "            # Save context words and weights for future epoch\n",
    "            if epoch > 0:\n",
    "                contexts = context_dict[target]\n",
    "                weights = weight_dict[target]\n",
    "            else:\n",
    "                contexts, weights = get_context_words(target_idx, sentence, num_context_words)\n",
    "                context_dict[target] = contexts\n",
    "                weight_dict[target] = weights\n",
    "\n",
    "            # Get negative words\n",
    "            negative_samples = get_negative_samples(target, vocab_size, num_negative_samples, contexts)\n",
    "\n",
    "            # Add target, context, negative_samples, weights for batch\n",
    "            # Batch Targets Shape: (batch_size,)\n",
    "            batch_targets.append(target)\n",
    "            # Batch Contexts Shape: (batch_size, num_context_words)\n",
    "            batch_contexts.append(contexts)\n",
    "            # Batch Negative Samples Shape: (batch_size, num_negative_samples)\n",
    "            batch_neg_samples.append(negative_samples)\n",
    "            # Batch Weights Shape: (batch_size, num_context_words)\n",
    "            batch_weights.append(weights)\n",
    "\n",
    "            if len(batch_targets) == batch_size:\n",
    "                W_in, W_out = \\\n",
    "                    grad_descent(CBOW_batched_loss_fn_jit, initial_lr, beta, eta,\\\n",
    "                        W_in, W_out, batch_targets, batch_contexts, batch_neg_samples, batch_weights)\n",
    "\n",
    "                # Reset batches\n",
    "                batch_targets, batch_contexts, batch_neg_samples, batch_weights = [], [], [], []\n",
    "    \n",
    "    # Include last few words not enough to form batch\n",
    "    if len(batch_targets) != 0:\n",
    "        W_in, W_out = \\\n",
    "            grad_descent(CBOW_batched_loss_fn_jit, initial_lr, beta, eta,\\\n",
    "                W_in, W_out, batch_targets, batch_contexts, batch_neg_samples, batch_weights)"
   ]
  },
  {
   "cell_type": "markdown",
   "metadata": {},
   "source": [
    "##### Model Testing"
   ]
  },
  {
   "cell_type": "code",
   "execution_count": null,
   "metadata": {},
   "outputs": [
    {
     "name": "stdout",
     "output_type": "stream",
     "text": [
      "Warning: One of the words 'apple' or 'fruit' is not in the vocabulary.\n",
      "Cosine similarity between 'king' and 'queen': -0.0612\n",
      "Cosine similarity between 'man' and 'woman': 0.0513\n",
      "Cosine similarity between 'king' and 'man': 0.1846\n"
     ]
    }
   ],
   "source": [
    "import jax.numpy as jnp\n",
    "\n",
    "# Function to compute cosine similarity using JAX\n",
    "def cosine_similarity(vec1, vec2):\n",
    "    dot_product = jnp.dot(vec1, vec2)\n",
    "    norm_a = jnp.linalg.norm(vec1)\n",
    "    norm_b = jnp.linalg.norm(vec2)\n",
    "    if norm_a == 0 or norm_b == 0:  # Prevent division by zero\n",
    "        return 0.0\n",
    "    return dot_product / (norm_a * norm_b)\n",
    "\n",
    "# Example word pairs and their expected similarities\n",
    "word_pairs = [\n",
    "    ('king', 'queen'),  # Expect high similarity\n",
    "    ('man', 'woman'),   # Expect high similarity\n",
    "    ('king', 'man'),    # Moderate similarity\n",
    "    ('apple', 'fruit'),  # Depending on your vocabulary, could expect a similarity\n",
    "]\n",
    "\n",
    "# Function to evaluate similarities using W_out\n",
    "def evaluate_similarity(vocab_idx, W_out, word_pairs):\n",
    "    scores = []\n",
    "    for word1, word2 in word_pairs:\n",
    "        if word1 in vocab_idx and word2 in vocab_idx:\n",
    "            vec1 = W_out[vocab_idx[word1]]  # Get the output embedding for word1\n",
    "            vec2 = W_out[vocab_idx[word2]]  # Get the output embedding for word2\n",
    "            cos_sim = cosine_similarity(vec1, vec2)\n",
    "            scores.append((word1, word2, cos_sim))\n",
    "        else:\n",
    "            print(f\"Warning: One of the words '{word1}' or '{word2}' is not in the vocabulary.\")\n",
    "    \n",
    "    return scores\n",
    "\n",
    "# Run the evaluation\n",
    "similarity_scores = evaluate_similarity(vocab_idx, W_out, word_pairs)\n",
    "\n",
    "# Print results\n",
    "for word1, word2, sim in similarity_scores:\n",
    "    print(f\"Cosine similarity between '{word1}' and '{word2}': {sim:.4f}\")"
   ]
  },
  {
   "cell_type": "markdown",
   "metadata": {},
   "source": [
    "##### CBOW with Hierarchical Softmax"
   ]
  },
  {
   "cell_type": "markdown",
   "metadata": {},
   "source": [
    "Like in Skip-Gram, CBOW can also use hierarchical softmax as an alternative to Negative Sampling, traversing a binary tree to approximate the softmax function."
   ]
  },
  {
   "cell_type": "code",
   "execution_count": null,
   "metadata": {},
   "outputs": [],
   "source": []
  },
  {
   "cell_type": "markdown",
   "metadata": {},
   "source": [
    "### GloVe: Global Vectors for Word Representation"
   ]
  },
  {
   "cell_type": "code",
   "execution_count": null,
   "metadata": {},
   "outputs": [],
   "source": [
    "corpus = brown.sents(categories=\"news\")"
   ]
  },
  {
   "cell_type": "code",
   "execution_count": null,
   "metadata": {},
   "outputs": [],
   "source": [
    "# lower case all words, remove all punctuations and stop words\n",
    "def preprocess_sentence(sentence):\n",
    "    return [word.lower() for word in sentence if word.lower() not in stopwords and word not in punctuation]\n",
    "\n",
    "corpus_preprocessed = [preprocess_sentence(sentence) for sentence in corpus]\n",
    "corpus_preprocessed[0]"
   ]
  },
  {
   "cell_type": "markdown",
   "metadata": {},
   "source": [
    "Building Co-occurrence Matrix"
   ]
  },
  {
   "cell_type": "code",
   "execution_count": null,
   "metadata": {},
   "outputs": [],
   "source": [
    "from collections import defaultdict\n",
    "import numpy as np\n",
    "\n",
    "# Window size for Co-occurrence matrix - 2 words before, 2 words after\n",
    "window_size = 2\n",
    "\n",
    "# Build co-occurrence matrix\n",
    "def build_cooccurrence_matrix(corpus_preprocessed, vocab_idx, window_size):\n",
    "    cooccurrence_matrix = defaultdict(lambda: defaultdict(float))\n",
    "    \n",
    "    for sentence in corpus_preprocessed:\n",
    "        sentence_length = len(sentence)\n",
    "        for i, word in enumerate(sentence):\n",
    "            word_idx = vocab_idx[word]\n",
    "            # Context window\n",
    "            start = max(0, i - window_size)\n",
    "            end = min(sentence_length, i + window_size + 1)\n",
    "            \n",
    "            for j in range(start, end):\n",
    "                # Skip target word\n",
    "                if i != j:\n",
    "                    context_word = sentence[j]\n",
    "                    context_word_idx = vocab_idx[context_word]\n",
    "                    # Increment the co-occurrence count with inverse distance weighting\n",
    "                    cooccurrence_matrix[word_idx][context_word_idx] += 1.0 / abs(i - j)\n",
    "    return cooccurrence_matrix\n",
    "\n",
    "cooccurrence_matrix = build_cooccurrence_matrix(corpus_preprocessed, vocab_idx, window_size)\n",
    "cooccurrence_matrix[0]"
   ]
  },
  {
   "cell_type": "code",
   "execution_count": null,
   "metadata": {},
   "outputs": [],
   "source": [
    "# hyperparameters\n",
    "x_max = 100\n",
    "alpha = 0.75\n",
    "embedding_dim = 50\n",
    "\n",
    "# Initialize word vectors and bias\n",
    "key = jax.random.PRNGKey(0)\n",
    "v = jax.random.normal(key, (vocab_size, embedding_dim))\n",
    "key, subkey = jax.random.split(key)\n",
    "v_tilde = jax.random.normal(subkey, (vocab_size, embedding_dim))\n",
    "bias = jnp.zeros(vocab_size)\n",
    "bias_tilde = jnp.zeros(vocab_size)"
   ]
  },
  {
   "cell_type": "code",
   "execution_count": null,
   "metadata": {},
   "outputs": [],
   "source": [
    "# weight function\n",
    "def f(x):\n",
    "    return jax.minimum(1.0, (x/x_max)**alpha)\n",
    "\n",
    "# loss function\n",
    "def gLove_loss(v, v_tilde, bias, bias_tilde, cooccurrence_matrix):\n",
    "    loss = 0.0\n",
    "    for word in cooccurrence_matrix:\n",
    "        for context_word in cooccurrence_matrix[word]:\n",
    "            X_ij = cooccurrence_matrix[word][context_word]\n",
    "            weight = f(X_ij)\n",
    "            diff = jnp.dot(v[word], v_tilde[context_word]) + bias[word] + bias_tilde[context_word] - jnp.log(X_ij)\n",
    "            loss += weight * diff**2\n",
    "    return loss"
   ]
  }
 ],
 "metadata": {
  "kernelspec": {
   "display_name": "Python 3",
   "language": "python",
   "name": "python3"
  },
  "language_info": {
   "codemirror_mode": {
    "name": "ipython",
    "version": 3
   },
   "file_extension": ".py",
   "mimetype": "text/x-python",
   "name": "python",
   "nbconvert_exporter": "python",
   "pygments_lexer": "ipython3",
   "version": "3.10.6"
  }
 },
 "nbformat": 4,
 "nbformat_minor": 2
}
